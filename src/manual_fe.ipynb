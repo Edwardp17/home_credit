{
 "cells": [
  {
   "cell_type": "code",
   "execution_count": 1,
   "metadata": {},
   "outputs": [],
   "source": [
    "from preprocessing import preprocessing as p\n",
    "import pandas as pd"
   ]
  },
  {
   "cell_type": "code",
   "execution_count": 2,
   "metadata": {},
   "outputs": [],
   "source": [
    "pre = p.Preprocessor()"
   ]
  },
  {
   "cell_type": "code",
   "execution_count": null,
   "metadata": {},
   "outputs": [],
   "source": [
    "pre.read_all_data(dataset_filenames=['application_train.csv','application_test.csv','bureau.csv'])"
   ]
  },
  {
   "cell_type": "code",
   "execution_count": null,
   "metadata": {},
   "outputs": [
    {
     "name": "stdout",
     "output_type": "stream",
     "text": [
      "18\n",
      "105\n",
      "Each percentage is all num_vars per cat_vars done\n",
      "Round 1\n",
      "2018-06-10 21:06:46.974358\n",
      "Percentage done 0.05555555555555555\n",
      "Each percentage is all num_vars per cat_vars done\n",
      "Round 2\n",
      "2018-06-10 21:24:50.932007\n",
      "Percentage done 0.1111111111111111\n",
      "Each percentage is all num_vars per cat_vars done\n",
      "Round 3\n",
      "2018-06-10 21:41:31.899519\n",
      "Percentage done 0.16666666666666666\n",
      "Each percentage is all num_vars per cat_vars done\n",
      "Round 4\n",
      "2018-06-10 21:58:53.456836\n",
      "Percentage done 0.2222222222222222\n",
      "Each percentage is all num_vars per cat_vars done\n",
      "Round 5\n",
      "2018-06-10 22:17:10.573557\n"
     ]
    }
   ],
   "source": [
    "pre.set_application_train_features()"
   ]
  },
  {
   "cell_type": "code",
   "execution_count": null,
   "metadata": {
    "collapsed": true
   },
   "outputs": [],
   "source": [
    "pre.set_application_train_features(dataset_name = 'application_test')"
   ]
  },
  {
   "cell_type": "code",
   "execution_count": null,
   "metadata": {},
   "outputs": [],
   "source": [
    "pre.set_bureau_train_features()"
   ]
  },
  {
   "cell_type": "code",
   "execution_count": null,
   "metadata": {},
   "outputs": [],
   "source": []
  },
  {
   "cell_type": "code",
   "execution_count": null,
   "metadata": {
    "collapsed": true
   },
   "outputs": [],
   "source": []
  }
 ],
 "metadata": {
  "kernelspec": {
   "display_name": "Python 3",
   "language": "python",
   "name": "python3"
  },
  "language_info": {
   "codemirror_mode": {
    "name": "ipython",
    "version": 3
   },
   "file_extension": ".py",
   "mimetype": "text/x-python",
   "name": "python",
   "nbconvert_exporter": "python",
   "pygments_lexer": "ipython3",
   "version": "3.6.3"
  }
 },
 "nbformat": 4,
 "nbformat_minor": 2
}
