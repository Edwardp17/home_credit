{
  "nbformat": 4,
  "nbformat_minor": 0,
  "metadata": {
    "colab": {
      "name": "homecredit_xgb_featureengineering",
      "version": "0.3.2",
      "views": {},
      "default_view": {},
      "provenance": [],
      "collapsed_sections": []
    },
    "kernelspec": {
      "display_name": "Python 3",
      "language": "python",
      "name": "python3"
    }
  },
  "cells": [
    {
      "metadata": {
        "id": "AQsUrFPsnfB-",
        "colab_type": "text"
      },
      "cell_type": "markdown",
      "source": [
        "# Home Credit Default Risk\n",
        "@edwardp17, @edgarpavlovsky\n",
        "\n",
        "----"
      ]
    },
    {
      "metadata": {
        "id": "uOt18kyj_wqC",
        "colab_type": "text"
      },
      "cell_type": "markdown",
      "source": [
        "## Ideas moving forward:\n",
        "1. Create more robust NN model\n",
        "    a. Ideas:\n",
        "        https://www.kaggle.com/javapocalypse/breast-cancer-classification-in-keras-using-ann\n",
        "        http://parneetk.github.io/blog/neural-networks-in-keras/\n",
        "2. Find way for NN to use roc auc as loss metric to optimize\n",
        "3. Would filling in missing values differently make a significant difference?\n",
        "    a. I was thinking maybe cluster before filling in missing NAN values, then use the means/medians of the columns based on the clusters"
      ]
    },
    {
      "metadata": {
        "id": "_73mmio1_wqD",
        "colab_type": "text"
      },
      "cell_type": "markdown",
      "source": [
        "Since these models are using both the test and training sets for preprocessing, this might be considered leakage\n",
        "For now, we will accept this leakage as we want to make our model as accurate as possible for competition purposes\n",
        "Once a solid model is build, we will try preprocessing without the test set, and rerun; then go from there"
      ]
    },
    {
      "metadata": {
        "id": "T9WLyUeDG2q4",
        "colab_type": "text"
      },
      "cell_type": "markdown",
      "source": [
        "## Import libraries and configure notebook"
      ]
    },
    {
      "metadata": {
        "id": "v7rULCHPkZTC",
        "colab_type": "text"
      },
      "cell_type": "markdown",
      "source": [
        "Import and configure general libraries:"
      ]
    },
    {
      "metadata": {
        "id": "63m8Av4w_wqF",
        "colab_type": "code",
        "colab": {
          "autoexec": {
            "startup": false,
            "wait_interval": 0
          }
        }
      },
      "cell_type": "code",
      "source": [
        "import os\n",
        "import gc\n",
        "gc.enable()\n",
        "import random\n",
        "import numpy as np \n",
        "import pandas as pd\n",
        "pd.set_option('display.height', 2000)\n",
        "pd.set_option('display.max_rows', 2000)\n",
        "\n",
        "# visualization\n",
        "import matplotlib.pyplot as plt\n",
        "%matplotlib inline\n",
        "import seaborn as sns\n",
        "color = sns.color_palette()\n",
        "sns.set()\n",
        "from IPython.display import display"
      ],
      "execution_count": 0,
      "outputs": []
    },
    {
      "metadata": {
        "id": "5KP7kJxJkuTa",
        "colab_type": "text"
      },
      "cell_type": "markdown",
      "source": [
        "Import machine learning libraries:"
      ]
    },
    {
      "metadata": {
        "id": "EVks7DZL_wqJ",
        "colab_type": "code",
        "colab": {
          "autoexec": {
            "startup": false,
            "wait_interval": 0
          }
        }
      },
      "cell_type": "code",
      "source": [
        "# from sklearn.model_selection import train_test_split, GridSearchCV, KFold\n",
        "from sklearn.preprocessing import MinMaxScaler, StandardScaler, LabelEncoder\n",
        "\n",
        "# Import classification algorithm modules\n",
        "from sklearn.linear_model import LogisticRegression\n",
        "from sklearn.neighbors import KNeighborsClassifier\n",
        "from sklearn.ensemble import RandomForestClassifier, GradientBoostingClassifier, AdaBoostClassifier\n",
        "from sklearn.cluster import KMeans, AgglomerativeClustering, AffinityPropagation\n",
        "from sklearn.mixture import GaussianMixture\n",
        "from xgboost import XGBClassifier\n",
        "\n",
        "# metrics\n",
        "from sklearn.metrics import classification_report, roc_auc_score"
      ],
      "execution_count": 0,
      "outputs": []
    },
    {
      "metadata": {
        "id": "VuoTfK7olSPJ",
        "colab_type": "text"
      },
      "cell_type": "markdown",
      "source": [
        "Import PyDrive:"
      ]
    },
    {
      "metadata": {
        "id": "cJztTMbjgB8M",
        "colab_type": "code",
        "colab": {
          "autoexec": {
            "startup": false,
            "wait_interval": 0
          }
        }
      },
      "cell_type": "code",
      "source": [
        "# Import PyDrive\n",
        "\n",
        "# if PyDrive hasn't been installed, run:\n",
        "!pip install -U -q PyDrive\n",
        "\n",
        "from pydrive.auth import GoogleAuth\n",
        "from pydrive.drive import GoogleDrive\n",
        "from google.colab import auth\n",
        "from oauth2client.client import GoogleCredentials"
      ],
      "execution_count": 0,
      "outputs": []
    },
    {
      "metadata": {
        "id": "5BrQEdldgO-p",
        "colab_type": "code",
        "colab": {
          "autoexec": {
            "startup": false,
            "wait_interval": 0
          },
          "base_uri": "https://localhost:8080/",
          "height": 1190
        },
        "outputId": "a2d126c5-9629-43f2-bfd0-0d6dba592191",
        "executionInfo": {
          "status": "error",
          "timestamp": 1527794259809,
          "user_tz": 240,
          "elapsed": 24158,
          "user": {
            "displayName": "Edward Pavlovsky",
            "photoUrl": "//lh6.googleusercontent.com/-10lX4OackDs/AAAAAAAAAAI/AAAAAAAAACs/uvCYFxSAUg8/s50-c-k-no/photo.jpg",
            "userId": "100410293937135289693"
          }
        }
      },
      "cell_type": "code",
      "source": [
        "# Authenticate and create the PyDrive client.\n",
        "\n",
        "auth.authenticate_user()\n",
        "gauth = GoogleAuth()\n",
        "gauth.credentials = GoogleCredentials.get_application_default()\n",
        "drive = GoogleDrive(gauth)"
      ],
      "execution_count": 4,
      "outputs": [
        {
          "output_type": "error",
          "ename": "KeyboardInterrupt",
          "evalue": "ignored",
          "traceback": [
            "\u001b[0;31m---------------------------------------------------------------------------\u001b[0m",
            "\u001b[0;31mKeyboardInterrupt\u001b[0m                         Traceback (most recent call last)",
            "\u001b[0;32m/usr/local/lib/python3.6/dist-packages/ipykernel/kernelbase.py\u001b[0m in \u001b[0;36m_input_request\u001b[0;34m(self, prompt, ident, parent, password)\u001b[0m\n\u001b[1;32m    729\u001b[0m             \u001b[0;32mtry\u001b[0m\u001b[0;34m:\u001b[0m\u001b[0;34m\u001b[0m\u001b[0m\n\u001b[0;32m--> 730\u001b[0;31m                 \u001b[0mident\u001b[0m\u001b[0;34m,\u001b[0m \u001b[0mreply\u001b[0m \u001b[0;34m=\u001b[0m \u001b[0mself\u001b[0m\u001b[0;34m.\u001b[0m\u001b[0msession\u001b[0m\u001b[0;34m.\u001b[0m\u001b[0mrecv\u001b[0m\u001b[0;34m(\u001b[0m\u001b[0mself\u001b[0m\u001b[0;34m.\u001b[0m\u001b[0mstdin_socket\u001b[0m\u001b[0;34m,\u001b[0m \u001b[0;36m0\u001b[0m\u001b[0;34m)\u001b[0m\u001b[0;34m\u001b[0m\u001b[0m\n\u001b[0m\u001b[1;32m    731\u001b[0m             \u001b[0;32mexcept\u001b[0m \u001b[0mException\u001b[0m\u001b[0;34m:\u001b[0m\u001b[0;34m\u001b[0m\u001b[0m\n",
            "\u001b[0;32m/usr/local/lib/python3.6/dist-packages/jupyter_client/session.py\u001b[0m in \u001b[0;36mrecv\u001b[0;34m(self, socket, mode, content, copy)\u001b[0m\n\u001b[1;32m    802\u001b[0m         \u001b[0;32mtry\u001b[0m\u001b[0;34m:\u001b[0m\u001b[0;34m\u001b[0m\u001b[0m\n\u001b[0;32m--> 803\u001b[0;31m             \u001b[0mmsg_list\u001b[0m \u001b[0;34m=\u001b[0m \u001b[0msocket\u001b[0m\u001b[0;34m.\u001b[0m\u001b[0mrecv_multipart\u001b[0m\u001b[0;34m(\u001b[0m\u001b[0mmode\u001b[0m\u001b[0;34m,\u001b[0m \u001b[0mcopy\u001b[0m\u001b[0;34m=\u001b[0m\u001b[0mcopy\u001b[0m\u001b[0;34m)\u001b[0m\u001b[0;34m\u001b[0m\u001b[0m\n\u001b[0m\u001b[1;32m    804\u001b[0m         \u001b[0;32mexcept\u001b[0m \u001b[0mzmq\u001b[0m\u001b[0;34m.\u001b[0m\u001b[0mZMQError\u001b[0m \u001b[0;32mas\u001b[0m \u001b[0me\u001b[0m\u001b[0;34m:\u001b[0m\u001b[0;34m\u001b[0m\u001b[0m\n",
            "\u001b[0;32m/usr/local/lib/python3.6/dist-packages/zmq/sugar/socket.py\u001b[0m in \u001b[0;36mrecv_multipart\u001b[0;34m(self, flags, copy, track)\u001b[0m\n\u001b[1;32m    394\u001b[0m         \"\"\"\n\u001b[0;32m--> 395\u001b[0;31m         \u001b[0mparts\u001b[0m \u001b[0;34m=\u001b[0m \u001b[0;34m[\u001b[0m\u001b[0mself\u001b[0m\u001b[0;34m.\u001b[0m\u001b[0mrecv\u001b[0m\u001b[0;34m(\u001b[0m\u001b[0mflags\u001b[0m\u001b[0;34m,\u001b[0m \u001b[0mcopy\u001b[0m\u001b[0;34m=\u001b[0m\u001b[0mcopy\u001b[0m\u001b[0;34m,\u001b[0m \u001b[0mtrack\u001b[0m\u001b[0;34m=\u001b[0m\u001b[0mtrack\u001b[0m\u001b[0;34m)\u001b[0m\u001b[0;34m]\u001b[0m\u001b[0;34m\u001b[0m\u001b[0m\n\u001b[0m\u001b[1;32m    396\u001b[0m         \u001b[0;31m# have first part already, only loop while more to receive\u001b[0m\u001b[0;34m\u001b[0m\u001b[0;34m\u001b[0m\u001b[0m\n",
            "\u001b[0;32mzmq/backend/cython/socket.pyx\u001b[0m in \u001b[0;36mzmq.backend.cython.socket.Socket.recv\u001b[0;34m()\u001b[0m\n",
            "\u001b[0;32mzmq/backend/cython/socket.pyx\u001b[0m in \u001b[0;36mzmq.backend.cython.socket.Socket.recv\u001b[0;34m()\u001b[0m\n",
            "\u001b[0;32mzmq/backend/cython/socket.pyx\u001b[0m in \u001b[0;36mzmq.backend.cython.socket._recv_copy\u001b[0;34m()\u001b[0m\n",
            "\u001b[0;32m/usr/local/lib/python3.6/dist-packages/zmq/backend/cython/checkrc.pxd\u001b[0m in \u001b[0;36mzmq.backend.cython.checkrc._check_rc\u001b[0;34m()\u001b[0m\n",
            "\u001b[0;31mKeyboardInterrupt\u001b[0m: ",
            "\nDuring handling of the above exception, another exception occurred:\n",
            "\u001b[0;31mKeyboardInterrupt\u001b[0m                         Traceback (most recent call last)",
            "\u001b[0;32m<ipython-input-4-df3844cabb3e>\u001b[0m in \u001b[0;36m<module>\u001b[0;34m()\u001b[0m\n\u001b[1;32m      1\u001b[0m \u001b[0;34m\u001b[0m\u001b[0m\n\u001b[0;32m----> 2\u001b[0;31m \u001b[0mauth\u001b[0m\u001b[0;34m.\u001b[0m\u001b[0mauthenticate_user\u001b[0m\u001b[0;34m(\u001b[0m\u001b[0;34m)\u001b[0m\u001b[0;34m\u001b[0m\u001b[0m\n\u001b[0m\u001b[1;32m      3\u001b[0m \u001b[0mgauth\u001b[0m \u001b[0;34m=\u001b[0m \u001b[0mGoogleAuth\u001b[0m\u001b[0;34m(\u001b[0m\u001b[0;34m)\u001b[0m\u001b[0;34m\u001b[0m\u001b[0m\n\u001b[1;32m      4\u001b[0m \u001b[0mgauth\u001b[0m\u001b[0;34m.\u001b[0m\u001b[0mcredentials\u001b[0m \u001b[0;34m=\u001b[0m \u001b[0mGoogleCredentials\u001b[0m\u001b[0;34m.\u001b[0m\u001b[0mget_application_default\u001b[0m\u001b[0;34m(\u001b[0m\u001b[0;34m)\u001b[0m\u001b[0;34m\u001b[0m\u001b[0m\n\u001b[1;32m      5\u001b[0m \u001b[0mdrive\u001b[0m \u001b[0;34m=\u001b[0m \u001b[0mGoogleDrive\u001b[0m\u001b[0;34m(\u001b[0m\u001b[0mgauth\u001b[0m\u001b[0;34m)\u001b[0m\u001b[0;34m\u001b[0m\u001b[0m\n",
            "\u001b[0;32m/usr/local/lib/python3.6/dist-packages/google/colab/auth.py\u001b[0m in \u001b[0;36mauthenticate_user\u001b[0;34m(clear_output)\u001b[0m\n\u001b[1;32m    129\u001b[0m   \u001b[0mos\u001b[0m\u001b[0;34m.\u001b[0m\u001b[0menviron\u001b[0m\u001b[0;34m[\u001b[0m\u001b[0;34m'GOOGLE_APPLICATION_CREDENTIALS'\u001b[0m\u001b[0;34m]\u001b[0m \u001b[0;34m=\u001b[0m \u001b[0m_get_adc_path\u001b[0m\u001b[0;34m(\u001b[0m\u001b[0;34m)\u001b[0m\u001b[0;34m\u001b[0m\u001b[0m\n\u001b[1;32m    130\u001b[0m   \u001b[0;32mif\u001b[0m \u001b[0;32mnot\u001b[0m \u001b[0m_check_adc\u001b[0m\u001b[0;34m(\u001b[0m\u001b[0;34m)\u001b[0m\u001b[0;34m:\u001b[0m\u001b[0;34m\u001b[0m\u001b[0m\n\u001b[0;32m--> 131\u001b[0;31m     \u001b[0m_gcloud_login\u001b[0m\u001b[0;34m(\u001b[0m\u001b[0mclear_output\u001b[0m\u001b[0;34m=\u001b[0m\u001b[0mclear_output\u001b[0m\u001b[0;34m)\u001b[0m\u001b[0;34m\u001b[0m\u001b[0m\n\u001b[0m\u001b[1;32m    132\u001b[0m     \u001b[0m_install_adc\u001b[0m\u001b[0;34m(\u001b[0m\u001b[0;34m)\u001b[0m\u001b[0;34m\u001b[0m\u001b[0m\n\u001b[1;32m    133\u001b[0m   \u001b[0;32mif\u001b[0m \u001b[0m_check_adc\u001b[0m\u001b[0;34m(\u001b[0m\u001b[0;34m)\u001b[0m\u001b[0;34m:\u001b[0m\u001b[0;34m\u001b[0m\u001b[0m\n",
            "\u001b[0;32m/usr/local/lib/python3.6/dist-packages/google/colab/auth.py\u001b[0m in \u001b[0;36m_gcloud_login\u001b[0;34m(clear_output)\u001b[0m\n\u001b[1;32m     76\u001b[0m     \u001b[0;31m# https://github.com/jupyter/notebook/issues/3159\u001b[0m\u001b[0;34m\u001b[0m\u001b[0;34m\u001b[0m\u001b[0m\n\u001b[1;32m     77\u001b[0m     \u001b[0mprompt\u001b[0m \u001b[0;34m=\u001b[0m \u001b[0mprompt\u001b[0m\u001b[0;34m.\u001b[0m\u001b[0mrstrip\u001b[0m\u001b[0;34m(\u001b[0m\u001b[0;34m)\u001b[0m\u001b[0;34m\u001b[0m\u001b[0m\n\u001b[0;32m---> 78\u001b[0;31m     \u001b[0mcode\u001b[0m \u001b[0;34m=\u001b[0m \u001b[0mgetpass\u001b[0m\u001b[0;34m.\u001b[0m\u001b[0mgetpass\u001b[0m\u001b[0;34m(\u001b[0m\u001b[0mprompt\u001b[0m \u001b[0;34m+\u001b[0m \u001b[0;34m'\\n\\nEnter verification code: '\u001b[0m\u001b[0;34m)\u001b[0m\u001b[0;34m\u001b[0m\u001b[0m\n\u001b[0m\u001b[1;32m     79\u001b[0m     \u001b[0mgcloud_process\u001b[0m\u001b[0;34m.\u001b[0m\u001b[0mcommunicate\u001b[0m\u001b[0;34m(\u001b[0m\u001b[0mcode\u001b[0m\u001b[0;34m.\u001b[0m\u001b[0mstrip\u001b[0m\u001b[0;34m(\u001b[0m\u001b[0;34m)\u001b[0m\u001b[0;34m)\u001b[0m\u001b[0;34m\u001b[0m\u001b[0m\n\u001b[1;32m     80\u001b[0m   \u001b[0;32mfinally\u001b[0m\u001b[0;34m:\u001b[0m\u001b[0;34m\u001b[0m\u001b[0m\n",
            "\u001b[0;32m/usr/local/lib/python3.6/dist-packages/ipykernel/kernelbase.py\u001b[0m in \u001b[0;36mgetpass\u001b[0;34m(self, prompt, stream)\u001b[0m\n\u001b[1;32m    686\u001b[0m             \u001b[0mself\u001b[0m\u001b[0;34m.\u001b[0m\u001b[0m_parent_ident\u001b[0m\u001b[0;34m,\u001b[0m\u001b[0;34m\u001b[0m\u001b[0m\n\u001b[1;32m    687\u001b[0m             \u001b[0mself\u001b[0m\u001b[0;34m.\u001b[0m\u001b[0m_parent_header\u001b[0m\u001b[0;34m,\u001b[0m\u001b[0;34m\u001b[0m\u001b[0m\n\u001b[0;32m--> 688\u001b[0;31m             \u001b[0mpassword\u001b[0m\u001b[0;34m=\u001b[0m\u001b[0;32mTrue\u001b[0m\u001b[0;34m,\u001b[0m\u001b[0;34m\u001b[0m\u001b[0m\n\u001b[0m\u001b[1;32m    689\u001b[0m         )\n\u001b[1;32m    690\u001b[0m \u001b[0;34m\u001b[0m\u001b[0m\n",
            "\u001b[0;32m/usr/local/lib/python3.6/dist-packages/ipykernel/kernelbase.py\u001b[0m in \u001b[0;36m_input_request\u001b[0;34m(self, prompt, ident, parent, password)\u001b[0m\n\u001b[1;32m    733\u001b[0m             \u001b[0;32mexcept\u001b[0m \u001b[0mKeyboardInterrupt\u001b[0m\u001b[0;34m:\u001b[0m\u001b[0;34m\u001b[0m\u001b[0m\n\u001b[1;32m    734\u001b[0m                 \u001b[0;31m# re-raise KeyboardInterrupt, to truncate traceback\u001b[0m\u001b[0;34m\u001b[0m\u001b[0;34m\u001b[0m\u001b[0m\n\u001b[0;32m--> 735\u001b[0;31m                 \u001b[0;32mraise\u001b[0m \u001b[0mKeyboardInterrupt\u001b[0m\u001b[0;34m\u001b[0m\u001b[0m\n\u001b[0m\u001b[1;32m    736\u001b[0m             \u001b[0;32melse\u001b[0m\u001b[0;34m:\u001b[0m\u001b[0;34m\u001b[0m\u001b[0m\n\u001b[1;32m    737\u001b[0m                 \u001b[0;32mbreak\u001b[0m\u001b[0;34m\u001b[0m\u001b[0m\n",
            "\u001b[0;31mKeyboardInterrupt\u001b[0m: "
          ]
        }
      ]
    },
    {
      "metadata": {
        "id": "Y7ClClcoHIwe",
        "colab_type": "text"
      },
      "cell_type": "markdown",
      "source": [
        "## Load data"
      ]
    },
    {
      "metadata": {
        "id": "xUnZfg68m63u",
        "colab_type": "code",
        "colab": {
          "autoexec": {
            "startup": false,
            "wait_interval": 0
          }
        }
      },
      "cell_type": "code",
      "source": [
        "class Dataset:\n",
        "  \n",
        "  def __init__(self, filename, file_id):\n",
        "    \n",
        "    self.filename = filename\n",
        "    self.file_id = file_id\n",
        "    self.drive_file = drive.CreateFile({'id': self.file_id})\n",
        "    self.df = None\n",
        "\n",
        "    \n",
        "  def save_to_colab(self):\n",
        "    \n",
        "    print('Uploading ' + filename)\n",
        "    self.drive_file.GetContentFile(self.filename)\n",
        "    \n",
        "    \n",
        "  def create_dataframe(self):\n",
        "    \n",
        "    try:\n",
        "      \n",
        "      return pd.read_csv(self.filename)\n",
        "    \n",
        "    except:\n",
        "      \n",
        "      self.save_to_colab()\n",
        "      return pd.read_csv(self.filename)"
      ],
      "execution_count": 0,
      "outputs": []
    },
    {
      "metadata": {
        "id": "7OcNOBacgnd1",
        "colab_type": "code",
        "colab": {
          "autoexec": {
            "startup": false,
            "wait_interval": 0
          }
        }
      },
      "cell_type": "code",
      "source": [
        "drive_files_ids = {\n",
        "    'application_test.csv': '1iCv5mT_HGXAMY0wSS0FleH7diKQd1F83',\n",
        "    'application_train.csv': '1D30vNL-K_jKBy81qKl64dMY_0xNyr6n7',\n",
        "    'bureau_balance.csv': '1eUzTy9FLXZXo_zA2WGssOdk9DmKwFxn1',\n",
        "    'bureau.csv': '1bMPfM10MGLD8jOvEuYYD9BvV_tJ9vzOq',\n",
        "    'credit_card_balance.csv': '1PrQTHXyxU8swAqr2pm2x_NINzvYo7ljl',\n",
        "    'installments_payments.csv': '1_c1yp4WNhG3MjD2_4hoI3Qu0UVgk7FuY',\n",
        "    'POS_CASH_balance.csv': '1GiX1CR0mgaj8sZ2VaAmYQQ2sHaQqldtK',\n",
        "    'previous_application.csv': '1FvkycXPEONQB-ngIygTeuLjU5HgCLZF5'\n",
        " #   'HomeCredit_columns_description.csv': '10uALeL7ZGLtRvxONebNDuAcbizP4O8QJ',\n",
        "  #     'sample_submission.csv': '1DtHBHfvoMwThsfd9Rn5kfOSn3NyiBs2q',\n",
        "}"
      ],
      "execution_count": 0,
      "outputs": []
    },
    {
      "metadata": {
        "id": "SVooNbUdpJF6",
        "colab_type": "code",
        "colab": {
          "autoexec": {
            "startup": false,
            "wait_interval": 0
          },
          "base_uri": "https://localhost:8080/",
          "height": 158
        },
        "outputId": "f46f5501-d460-4fef-ae6d-bb306376f142",
        "executionInfo": {
          "status": "ok",
          "timestamp": 1527752714735,
          "user_tz": 420,
          "elapsed": 115731,
          "user": {
            "displayName": "Edgar Pavlovsky",
            "photoUrl": "//lh3.googleusercontent.com/-Ny57IabeLHQ/AAAAAAAAAAI/AAAAAAAAG4o/xsyDtZ2P3Ro/s50-c-k-no/photo.jpg",
            "userId": "116270002817181830687"
          }
        }
      },
      "cell_type": "code",
      "source": [
        "datasets = []\n",
        "for filename in list(drive_files_ids.keys()):\n",
        "  \n",
        "  \n",
        "  dataset = Dataset(filename,drive_files_ids[filename])\n",
        "  dataset.df = dataset.create_dataframe()\n",
        "  print('Read DataFrame ' + filename)"
      ],
      "execution_count": 8,
      "outputs": [
        {
          "output_type": "stream",
          "text": [
            "Read DataFrame application_test.csv\n",
            "Read DataFrame application_train.csv\n",
            "Read DataFrame bureau_balance.csv\n",
            "Read DataFrame bureau.csv\n",
            "Read DataFrame credit_card_balance.csv\n",
            "Read DataFrame installments_payments.csv\n",
            "Read DataFrame POS_CASH_balance.csv\n",
            "Read DataFrame previous_application.csv\n"
          ],
          "name": "stdout"
        }
      ]
    },
    {
      "metadata": {
        "id": "mvynvxvK_wqM",
        "colab_type": "code",
        "colab": {
          "autoexec": {
            "startup": false,
            "wait_interval": 0
          }
        }
      },
      "cell_type": "code",
      "source": [
        "## Uncomment this for kaggle\n",
        "# pos = pd.read_csv('../input/POS_CASH_balance.csv')\n",
        "# test = pd.read_csv('../input/application_test.csv')\n",
        "# train = pd.read_csv('../input/application_train.csv')\n",
        "# bureau = pd.read_csv('../input/bureau.csv')\n",
        "# bureau_balance = pd.read_csv('../input/bureau_balance.csv')\n",
        "# cc_bal = pd.read_csv('../input/credit_card_balance.csv')\n",
        "# inst = pd.read_csv('../input/installments_payments.csv')\n",
        "# prev_app = pd.read_csv('../input/previous_application.csv')\n",
        "# sample_submission = pd.read_csv('../input/sample_submission.csv')\n",
        "\n",
        "\n",
        "## Uncomment this for local\n",
        "# pos = pd.read_csv('data/POS_CASH_balance.csv')\n",
        "# test = pd.read_csv('data/application_test.csv')\n",
        "# train = pd.read_csv('data/application_train.csv')\n",
        "# bureau = pd.read_csv('data/bureau.csv')\n",
        "# bureau_balance = pd.read_csv('data/bureau_balance.csv')\n",
        "# cc_bal = pd.read_csv('data/credit_card_balance.csv')\n",
        "# inst = pd.read_csv('data/installments_payments.csv')\n",
        "# prev_app = pd.read_csv('data/previous_application.csv')\n",
        "# sample_submission = pd.read_csv('data/sample_submission.csv')\n",
        "\n",
        "## Uncomment this for colab\n",
        "# pos = pd.read_csv('POS_CASH_balance.csv')\n",
        "# test = pd.read_csv('application_test.csv')\n",
        "train = pd.read_csv('application_train.csv')\n",
        "# bureau = pd.read_csv('bureau.csv')\n",
        "# bureau_balance = pd.read_csv('bureau_balance.csv')\n",
        "# cc_bal = pd.read_csv('credit_card_balance.csv')\n",
        "# inst = pd.read_csv('installments_payments.csv')\n",
        "# prev_app = pd.read_csv('previous_application.csv')\n",
        "# sample_submission = pd.read_csv('sample_submission.csv')\n",
        "# col_desc = pd.read_csv('data/HomeCredit_columns_description.csv', encoding=\"ISO-8859-1\")"
      ],
      "execution_count": 0,
      "outputs": []
    },
    {
      "metadata": {
        "id": "d864sDVwQNiS",
        "colab_type": "code",
        "colab": {
          "autoexec": {
            "startup": false,
            "wait_interval": 0
          },
          "base_uri": "https://localhost:8080/",
          "height": 34
        },
        "outputId": "b3108645-6ee8-4650-cd3a-2f802c53cb9a",
        "executionInfo": {
          "status": "ok",
          "timestamp": 1527752735528,
          "user_tz": 420,
          "elapsed": 549,
          "user": {
            "displayName": "Edgar Pavlovsky",
            "photoUrl": "//lh3.googleusercontent.com/-Ny57IabeLHQ/AAAAAAAAAAI/AAAAAAAAG4o/xsyDtZ2P3Ro/s50-c-k-no/photo.jpg",
            "userId": "116270002817181830687"
          }
        }
      },
      "cell_type": "code",
      "source": [
        "# If we need them, we have original, untouched dataframes in our objects stored in the `datasets` list\n",
        "# dfs = [pos, test, train, bureau, bureau_balance, cc_bal, inst, prev_app]\n",
        "\n",
        "dfs = [train]\n",
        "\n",
        "for df in dfs:\n",
        "  print(df.shape)"
      ],
      "execution_count": 11,
      "outputs": [
        {
          "output_type": "stream",
          "text": [
            "(307511, 122)\n"
          ],
          "name": "stdout"
        }
      ]
    },
    {
      "metadata": {
        "id": "mgkMkYoj_wqR",
        "colab_type": "text"
      },
      "cell_type": "markdown",
      "source": [
        "## Preprocessing"
      ]
    },
    {
      "metadata": {
        "id": "af1KgcvBvf6d",
        "colab_type": "text"
      },
      "cell_type": "markdown",
      "source": [
        "#### `application_train`:"
      ]
    },
    {
      "metadata": {
        "id": "pWR1i3XovaHQ",
        "colab_type": "code",
        "colab": {
          "autoexec": {
            "startup": false,
            "wait_interval": 0
          }
        }
      },
      "cell_type": "code",
      "source": [
        "target = ['TARGET']\n",
        "\n",
        "features = [x for x in list(train.columns) if x != 'TARGET']"
      ],
      "execution_count": 0,
      "outputs": []
    },
    {
      "metadata": {
        "id": "RymzAghEvafb",
        "colab_type": "code",
        "colab": {
          "autoexec": {
            "startup": false,
            "wait_interval": 0
          }
        }
      },
      "cell_type": "code",
      "source": [
        "train_features = train[features]"
      ],
      "execution_count": 0,
      "outputs": []
    },
    {
      "metadata": {
        "id": "bP-jeNVIwmna",
        "colab_type": "code",
        "colab": {
          "autoexec": {
            "startup": false,
            "wait_interval": 0
          },
          "base_uri": "https://localhost:8080/",
          "height": 34
        },
        "outputId": "2d9d9ba1-2f03-4351-fdeb-8d48126df027",
        "executionInfo": {
          "status": "ok",
          "timestamp": 1527752750422,
          "user_tz": 420,
          "elapsed": 319,
          "user": {
            "displayName": "Edgar Pavlovsky",
            "photoUrl": "//lh3.googleusercontent.com/-Ny57IabeLHQ/AAAAAAAAAAI/AAAAAAAAG4o/xsyDtZ2P3Ro/s50-c-k-no/photo.jpg",
            "userId": "116270002817181830687"
          }
        }
      },
      "cell_type": "code",
      "source": [
        "train_features.shape"
      ],
      "execution_count": 14,
      "outputs": [
        {
          "output_type": "execute_result",
          "data": {
            "text/plain": [
              "(307511, 121)"
            ]
          },
          "metadata": {
            "tags": []
          },
          "execution_count": 14
        }
      ]
    },
    {
      "metadata": {
        "id": "fyNqDvsmvadE",
        "colab_type": "code",
        "colab": {
          "autoexec": {
            "startup": false,
            "wait_interval": 0
          },
          "base_uri": "https://localhost:8080/",
          "height": 2167
        },
        "outputId": "16ac3ffe-e704-4d76-e034-db407b0f29f9",
        "executionInfo": {
          "status": "ok",
          "timestamp": 1527752751601,
          "user_tz": 420,
          "elapsed": 380,
          "user": {
            "displayName": "Edgar Pavlovsky",
            "photoUrl": "//lh3.googleusercontent.com/-Ny57IabeLHQ/AAAAAAAAAAI/AAAAAAAAG4o/xsyDtZ2P3Ro/s50-c-k-no/photo.jpg",
            "userId": "116270002817181830687"
          }
        }
      },
      "cell_type": "code",
      "source": [
        "sorted(list(train_features.columns))"
      ],
      "execution_count": 15,
      "outputs": [
        {
          "output_type": "execute_result",
          "data": {
            "text/plain": [
              "['AMT_ANNUITY',\n",
              " 'AMT_CREDIT',\n",
              " 'AMT_GOODS_PRICE',\n",
              " 'AMT_INCOME_TOTAL',\n",
              " 'AMT_REQ_CREDIT_BUREAU_DAY',\n",
              " 'AMT_REQ_CREDIT_BUREAU_HOUR',\n",
              " 'AMT_REQ_CREDIT_BUREAU_MON',\n",
              " 'AMT_REQ_CREDIT_BUREAU_QRT',\n",
              " 'AMT_REQ_CREDIT_BUREAU_WEEK',\n",
              " 'AMT_REQ_CREDIT_BUREAU_YEAR',\n",
              " 'APARTMENTS_AVG',\n",
              " 'APARTMENTS_MEDI',\n",
              " 'APARTMENTS_MODE',\n",
              " 'BASEMENTAREA_AVG',\n",
              " 'BASEMENTAREA_MEDI',\n",
              " 'BASEMENTAREA_MODE',\n",
              " 'CNT_CHILDREN',\n",
              " 'CNT_FAM_MEMBERS',\n",
              " 'CODE_GENDER',\n",
              " 'COMMONAREA_AVG',\n",
              " 'COMMONAREA_MEDI',\n",
              " 'COMMONAREA_MODE',\n",
              " 'DAYS_BIRTH',\n",
              " 'DAYS_EMPLOYED',\n",
              " 'DAYS_ID_PUBLISH',\n",
              " 'DAYS_LAST_PHONE_CHANGE',\n",
              " 'DAYS_REGISTRATION',\n",
              " 'DEF_30_CNT_SOCIAL_CIRCLE',\n",
              " 'DEF_60_CNT_SOCIAL_CIRCLE',\n",
              " 'ELEVATORS_AVG',\n",
              " 'ELEVATORS_MEDI',\n",
              " 'ELEVATORS_MODE',\n",
              " 'EMERGENCYSTATE_MODE',\n",
              " 'ENTRANCES_AVG',\n",
              " 'ENTRANCES_MEDI',\n",
              " 'ENTRANCES_MODE',\n",
              " 'EXT_SOURCE_1',\n",
              " 'EXT_SOURCE_2',\n",
              " 'EXT_SOURCE_3',\n",
              " 'FLAG_CONT_MOBILE',\n",
              " 'FLAG_DOCUMENT_10',\n",
              " 'FLAG_DOCUMENT_11',\n",
              " 'FLAG_DOCUMENT_12',\n",
              " 'FLAG_DOCUMENT_13',\n",
              " 'FLAG_DOCUMENT_14',\n",
              " 'FLAG_DOCUMENT_15',\n",
              " 'FLAG_DOCUMENT_16',\n",
              " 'FLAG_DOCUMENT_17',\n",
              " 'FLAG_DOCUMENT_18',\n",
              " 'FLAG_DOCUMENT_19',\n",
              " 'FLAG_DOCUMENT_2',\n",
              " 'FLAG_DOCUMENT_20',\n",
              " 'FLAG_DOCUMENT_21',\n",
              " 'FLAG_DOCUMENT_3',\n",
              " 'FLAG_DOCUMENT_4',\n",
              " 'FLAG_DOCUMENT_5',\n",
              " 'FLAG_DOCUMENT_6',\n",
              " 'FLAG_DOCUMENT_7',\n",
              " 'FLAG_DOCUMENT_8',\n",
              " 'FLAG_DOCUMENT_9',\n",
              " 'FLAG_EMAIL',\n",
              " 'FLAG_EMP_PHONE',\n",
              " 'FLAG_MOBIL',\n",
              " 'FLAG_OWN_CAR',\n",
              " 'FLAG_OWN_REALTY',\n",
              " 'FLAG_PHONE',\n",
              " 'FLAG_WORK_PHONE',\n",
              " 'FLOORSMAX_AVG',\n",
              " 'FLOORSMAX_MEDI',\n",
              " 'FLOORSMAX_MODE',\n",
              " 'FLOORSMIN_AVG',\n",
              " 'FLOORSMIN_MEDI',\n",
              " 'FLOORSMIN_MODE',\n",
              " 'FONDKAPREMONT_MODE',\n",
              " 'HOUR_APPR_PROCESS_START',\n",
              " 'HOUSETYPE_MODE',\n",
              " 'LANDAREA_AVG',\n",
              " 'LANDAREA_MEDI',\n",
              " 'LANDAREA_MODE',\n",
              " 'LIVE_CITY_NOT_WORK_CITY',\n",
              " 'LIVE_REGION_NOT_WORK_REGION',\n",
              " 'LIVINGAPARTMENTS_AVG',\n",
              " 'LIVINGAPARTMENTS_MEDI',\n",
              " 'LIVINGAPARTMENTS_MODE',\n",
              " 'LIVINGAREA_AVG',\n",
              " 'LIVINGAREA_MEDI',\n",
              " 'LIVINGAREA_MODE',\n",
              " 'NAME_CONTRACT_TYPE',\n",
              " 'NAME_EDUCATION_TYPE',\n",
              " 'NAME_FAMILY_STATUS',\n",
              " 'NAME_HOUSING_TYPE',\n",
              " 'NAME_INCOME_TYPE',\n",
              " 'NAME_TYPE_SUITE',\n",
              " 'NONLIVINGAPARTMENTS_AVG',\n",
              " 'NONLIVINGAPARTMENTS_MEDI',\n",
              " 'NONLIVINGAPARTMENTS_MODE',\n",
              " 'NONLIVINGAREA_AVG',\n",
              " 'NONLIVINGAREA_MEDI',\n",
              " 'NONLIVINGAREA_MODE',\n",
              " 'OBS_30_CNT_SOCIAL_CIRCLE',\n",
              " 'OBS_60_CNT_SOCIAL_CIRCLE',\n",
              " 'OCCUPATION_TYPE',\n",
              " 'ORGANIZATION_TYPE',\n",
              " 'OWN_CAR_AGE',\n",
              " 'REGION_POPULATION_RELATIVE',\n",
              " 'REGION_RATING_CLIENT',\n",
              " 'REGION_RATING_CLIENT_W_CITY',\n",
              " 'REG_CITY_NOT_LIVE_CITY',\n",
              " 'REG_CITY_NOT_WORK_CITY',\n",
              " 'REG_REGION_NOT_LIVE_REGION',\n",
              " 'REG_REGION_NOT_WORK_REGION',\n",
              " 'SK_ID_CURR',\n",
              " 'TOTALAREA_MODE',\n",
              " 'WALLSMATERIAL_MODE',\n",
              " 'WEEKDAY_APPR_PROCESS_START',\n",
              " 'YEARS_BEGINEXPLUATATION_AVG',\n",
              " 'YEARS_BEGINEXPLUATATION_MEDI',\n",
              " 'YEARS_BEGINEXPLUATATION_MODE',\n",
              " 'YEARS_BUILD_AVG',\n",
              " 'YEARS_BUILD_MEDI',\n",
              " 'YEARS_BUILD_MODE']"
            ]
          },
          "metadata": {
            "tags": []
          },
          "execution_count": 15
        }
      ]
    },
    {
      "metadata": {
        "id": "FQlwrSnbw1aE",
        "colab_type": "text"
      },
      "cell_type": "markdown",
      "source": [
        "Take a look at the % null in each column:"
      ]
    },
    {
      "metadata": {
        "id": "hQCiBpT8vaFJ",
        "colab_type": "code",
        "colab": {
          "autoexec": {
            "startup": false,
            "wait_interval": 0
          }
        }
      },
      "cell_type": "code",
      "source": [
        "train_features_nulls = pd.DataFrame(train_features.isnull().sum()).reset_index()\n",
        "train_features_nulls.columns = ['column','nulls_num']\n",
        "train_features_nulls['nulls_perc'] = train_features_nulls.nulls_num.apply(lambda x: x / len(train_features))"
      ],
      "execution_count": 0,
      "outputs": []
    },
    {
      "metadata": {
        "id": "6q2Goe9fvaCb",
        "colab_type": "code",
        "colab": {
          "autoexec": {
            "startup": false,
            "wait_interval": 0
          },
          "base_uri": "https://localhost:8080/",
          "height": 3677
        },
        "outputId": "ea592eae-e4c5-4594-e522-a7045594a7ea",
        "executionInfo": {
          "status": "ok",
          "timestamp": 1527752762488,
          "user_tz": 420,
          "elapsed": 379,
          "user": {
            "displayName": "Edgar Pavlovsky",
            "photoUrl": "//lh3.googleusercontent.com/-Ny57IabeLHQ/AAAAAAAAAAI/AAAAAAAAG4o/xsyDtZ2P3Ro/s50-c-k-no/photo.jpg",
            "userId": "116270002817181830687"
          }
        }
      },
      "cell_type": "code",
      "source": [
        "train_features_nulls.sort_values(by='column')"
      ],
      "execution_count": 17,
      "outputs": [
        {
          "output_type": "execute_result",
          "data": {
            "text/html": [
              "<div>\n",
              "<style scoped>\n",
              "    .dataframe tbody tr th:only-of-type {\n",
              "        vertical-align: middle;\n",
              "    }\n",
              "\n",
              "    .dataframe tbody tr th {\n",
              "        vertical-align: top;\n",
              "    }\n",
              "\n",
              "    .dataframe thead th {\n",
              "        text-align: right;\n",
              "    }\n",
              "</style>\n",
              "<table border=\"1\" class=\"dataframe\">\n",
              "  <thead>\n",
              "    <tr style=\"text-align: right;\">\n",
              "      <th></th>\n",
              "      <th>column</th>\n",
              "      <th>nulls_num</th>\n",
              "      <th>nulls_perc</th>\n",
              "    </tr>\n",
              "  </thead>\n",
              "  <tbody>\n",
              "    <tr>\n",
              "      <th>8</th>\n",
              "      <td>AMT_ANNUITY</td>\n",
              "      <td>12</td>\n",
              "      <td>0.000039</td>\n",
              "    </tr>\n",
              "    <tr>\n",
              "      <th>7</th>\n",
              "      <td>AMT_CREDIT</td>\n",
              "      <td>0</td>\n",
              "      <td>0.000000</td>\n",
              "    </tr>\n",
              "    <tr>\n",
              "      <th>9</th>\n",
              "      <td>AMT_GOODS_PRICE</td>\n",
              "      <td>278</td>\n",
              "      <td>0.000904</td>\n",
              "    </tr>\n",
              "    <tr>\n",
              "      <th>6</th>\n",
              "      <td>AMT_INCOME_TOTAL</td>\n",
              "      <td>0</td>\n",
              "      <td>0.000000</td>\n",
              "    </tr>\n",
              "    <tr>\n",
              "      <th>116</th>\n",
              "      <td>AMT_REQ_CREDIT_BUREAU_DAY</td>\n",
              "      <td>41519</td>\n",
              "      <td>0.135016</td>\n",
              "    </tr>\n",
              "    <tr>\n",
              "      <th>115</th>\n",
              "      <td>AMT_REQ_CREDIT_BUREAU_HOUR</td>\n",
              "      <td>41519</td>\n",
              "      <td>0.135016</td>\n",
              "    </tr>\n",
              "    <tr>\n",
              "      <th>118</th>\n",
              "      <td>AMT_REQ_CREDIT_BUREAU_MON</td>\n",
              "      <td>41519</td>\n",
              "      <td>0.135016</td>\n",
              "    </tr>\n",
              "    <tr>\n",
              "      <th>119</th>\n",
              "      <td>AMT_REQ_CREDIT_BUREAU_QRT</td>\n",
              "      <td>41519</td>\n",
              "      <td>0.135016</td>\n",
              "    </tr>\n",
              "    <tr>\n",
              "      <th>117</th>\n",
              "      <td>AMT_REQ_CREDIT_BUREAU_WEEK</td>\n",
              "      <td>41519</td>\n",
              "      <td>0.135016</td>\n",
              "    </tr>\n",
              "    <tr>\n",
              "      <th>120</th>\n",
              "      <td>AMT_REQ_CREDIT_BUREAU_YEAR</td>\n",
              "      <td>41519</td>\n",
              "      <td>0.135016</td>\n",
              "    </tr>\n",
              "    <tr>\n",
              "      <th>43</th>\n",
              "      <td>APARTMENTS_AVG</td>\n",
              "      <td>156061</td>\n",
              "      <td>0.507497</td>\n",
              "    </tr>\n",
              "    <tr>\n",
              "      <th>71</th>\n",
              "      <td>APARTMENTS_MEDI</td>\n",
              "      <td>156061</td>\n",
              "      <td>0.507497</td>\n",
              "    </tr>\n",
              "    <tr>\n",
              "      <th>57</th>\n",
              "      <td>APARTMENTS_MODE</td>\n",
              "      <td>156061</td>\n",
              "      <td>0.507497</td>\n",
              "    </tr>\n",
              "    <tr>\n",
              "      <th>44</th>\n",
              "      <td>BASEMENTAREA_AVG</td>\n",
              "      <td>179943</td>\n",
              "      <td>0.585160</td>\n",
              "    </tr>\n",
              "    <tr>\n",
              "      <th>72</th>\n",
              "      <td>BASEMENTAREA_MEDI</td>\n",
              "      <td>179943</td>\n",
              "      <td>0.585160</td>\n",
              "    </tr>\n",
              "    <tr>\n",
              "      <th>58</th>\n",
              "      <td>BASEMENTAREA_MODE</td>\n",
              "      <td>179943</td>\n",
              "      <td>0.585160</td>\n",
              "    </tr>\n",
              "    <tr>\n",
              "      <th>5</th>\n",
              "      <td>CNT_CHILDREN</td>\n",
              "      <td>0</td>\n",
              "      <td>0.000000</td>\n",
              "    </tr>\n",
              "    <tr>\n",
              "      <th>28</th>\n",
              "      <td>CNT_FAM_MEMBERS</td>\n",
              "      <td>2</td>\n",
              "      <td>0.000007</td>\n",
              "    </tr>\n",
              "    <tr>\n",
              "      <th>2</th>\n",
              "      <td>CODE_GENDER</td>\n",
              "      <td>0</td>\n",
              "      <td>0.000000</td>\n",
              "    </tr>\n",
              "    <tr>\n",
              "      <th>47</th>\n",
              "      <td>COMMONAREA_AVG</td>\n",
              "      <td>214865</td>\n",
              "      <td>0.698723</td>\n",
              "    </tr>\n",
              "    <tr>\n",
              "      <th>75</th>\n",
              "      <td>COMMONAREA_MEDI</td>\n",
              "      <td>214865</td>\n",
              "      <td>0.698723</td>\n",
              "    </tr>\n",
              "    <tr>\n",
              "      <th>61</th>\n",
              "      <td>COMMONAREA_MODE</td>\n",
              "      <td>214865</td>\n",
              "      <td>0.698723</td>\n",
              "    </tr>\n",
              "    <tr>\n",
              "      <th>16</th>\n",
              "      <td>DAYS_BIRTH</td>\n",
              "      <td>0</td>\n",
              "      <td>0.000000</td>\n",
              "    </tr>\n",
              "    <tr>\n",
              "      <th>17</th>\n",
              "      <td>DAYS_EMPLOYED</td>\n",
              "      <td>0</td>\n",
              "      <td>0.000000</td>\n",
              "    </tr>\n",
              "    <tr>\n",
              "      <th>19</th>\n",
              "      <td>DAYS_ID_PUBLISH</td>\n",
              "      <td>0</td>\n",
              "      <td>0.000000</td>\n",
              "    </tr>\n",
              "    <tr>\n",
              "      <th>94</th>\n",
              "      <td>DAYS_LAST_PHONE_CHANGE</td>\n",
              "      <td>1</td>\n",
              "      <td>0.000003</td>\n",
              "    </tr>\n",
              "    <tr>\n",
              "      <th>18</th>\n",
              "      <td>DAYS_REGISTRATION</td>\n",
              "      <td>0</td>\n",
              "      <td>0.000000</td>\n",
              "    </tr>\n",
              "    <tr>\n",
              "      <th>91</th>\n",
              "      <td>DEF_30_CNT_SOCIAL_CIRCLE</td>\n",
              "      <td>1021</td>\n",
              "      <td>0.003320</td>\n",
              "    </tr>\n",
              "    <tr>\n",
              "      <th>93</th>\n",
              "      <td>DEF_60_CNT_SOCIAL_CIRCLE</td>\n",
              "      <td>1021</td>\n",
              "      <td>0.003320</td>\n",
              "    </tr>\n",
              "    <tr>\n",
              "      <th>48</th>\n",
              "      <td>ELEVATORS_AVG</td>\n",
              "      <td>163891</td>\n",
              "      <td>0.532960</td>\n",
              "    </tr>\n",
              "    <tr>\n",
              "      <th>76</th>\n",
              "      <td>ELEVATORS_MEDI</td>\n",
              "      <td>163891</td>\n",
              "      <td>0.532960</td>\n",
              "    </tr>\n",
              "    <tr>\n",
              "      <th>62</th>\n",
              "      <td>ELEVATORS_MODE</td>\n",
              "      <td>163891</td>\n",
              "      <td>0.532960</td>\n",
              "    </tr>\n",
              "    <tr>\n",
              "      <th>89</th>\n",
              "      <td>EMERGENCYSTATE_MODE</td>\n",
              "      <td>145755</td>\n",
              "      <td>0.473983</td>\n",
              "    </tr>\n",
              "    <tr>\n",
              "      <th>49</th>\n",
              "      <td>ENTRANCES_AVG</td>\n",
              "      <td>154828</td>\n",
              "      <td>0.503488</td>\n",
              "    </tr>\n",
              "    <tr>\n",
              "      <th>77</th>\n",
              "      <td>ENTRANCES_MEDI</td>\n",
              "      <td>154828</td>\n",
              "      <td>0.503488</td>\n",
              "    </tr>\n",
              "    <tr>\n",
              "      <th>63</th>\n",
              "      <td>ENTRANCES_MODE</td>\n",
              "      <td>154828</td>\n",
              "      <td>0.503488</td>\n",
              "    </tr>\n",
              "    <tr>\n",
              "      <th>40</th>\n",
              "      <td>EXT_SOURCE_1</td>\n",
              "      <td>173378</td>\n",
              "      <td>0.563811</td>\n",
              "    </tr>\n",
              "    <tr>\n",
              "      <th>41</th>\n",
              "      <td>EXT_SOURCE_2</td>\n",
              "      <td>660</td>\n",
              "      <td>0.002146</td>\n",
              "    </tr>\n",
              "    <tr>\n",
              "      <th>42</th>\n",
              "      <td>EXT_SOURCE_3</td>\n",
              "      <td>60965</td>\n",
              "      <td>0.198253</td>\n",
              "    </tr>\n",
              "    <tr>\n",
              "      <th>24</th>\n",
              "      <td>FLAG_CONT_MOBILE</td>\n",
              "      <td>0</td>\n",
              "      <td>0.000000</td>\n",
              "    </tr>\n",
              "    <tr>\n",
              "      <th>103</th>\n",
              "      <td>FLAG_DOCUMENT_10</td>\n",
              "      <td>0</td>\n",
              "      <td>0.000000</td>\n",
              "    </tr>\n",
              "    <tr>\n",
              "      <th>104</th>\n",
              "      <td>FLAG_DOCUMENT_11</td>\n",
              "      <td>0</td>\n",
              "      <td>0.000000</td>\n",
              "    </tr>\n",
              "    <tr>\n",
              "      <th>105</th>\n",
              "      <td>FLAG_DOCUMENT_12</td>\n",
              "      <td>0</td>\n",
              "      <td>0.000000</td>\n",
              "    </tr>\n",
              "    <tr>\n",
              "      <th>106</th>\n",
              "      <td>FLAG_DOCUMENT_13</td>\n",
              "      <td>0</td>\n",
              "      <td>0.000000</td>\n",
              "    </tr>\n",
              "    <tr>\n",
              "      <th>107</th>\n",
              "      <td>FLAG_DOCUMENT_14</td>\n",
              "      <td>0</td>\n",
              "      <td>0.000000</td>\n",
              "    </tr>\n",
              "    <tr>\n",
              "      <th>108</th>\n",
              "      <td>FLAG_DOCUMENT_15</td>\n",
              "      <td>0</td>\n",
              "      <td>0.000000</td>\n",
              "    </tr>\n",
              "    <tr>\n",
              "      <th>109</th>\n",
              "      <td>FLAG_DOCUMENT_16</td>\n",
              "      <td>0</td>\n",
              "      <td>0.000000</td>\n",
              "    </tr>\n",
              "    <tr>\n",
              "      <th>110</th>\n",
              "      <td>FLAG_DOCUMENT_17</td>\n",
              "      <td>0</td>\n",
              "      <td>0.000000</td>\n",
              "    </tr>\n",
              "    <tr>\n",
              "      <th>111</th>\n",
              "      <td>FLAG_DOCUMENT_18</td>\n",
              "      <td>0</td>\n",
              "      <td>0.000000</td>\n",
              "    </tr>\n",
              "    <tr>\n",
              "      <th>112</th>\n",
              "      <td>FLAG_DOCUMENT_19</td>\n",
              "      <td>0</td>\n",
              "      <td>0.000000</td>\n",
              "    </tr>\n",
              "    <tr>\n",
              "      <th>95</th>\n",
              "      <td>FLAG_DOCUMENT_2</td>\n",
              "      <td>0</td>\n",
              "      <td>0.000000</td>\n",
              "    </tr>\n",
              "    <tr>\n",
              "      <th>113</th>\n",
              "      <td>FLAG_DOCUMENT_20</td>\n",
              "      <td>0</td>\n",
              "      <td>0.000000</td>\n",
              "    </tr>\n",
              "    <tr>\n",
              "      <th>114</th>\n",
              "      <td>FLAG_DOCUMENT_21</td>\n",
              "      <td>0</td>\n",
              "      <td>0.000000</td>\n",
              "    </tr>\n",
              "    <tr>\n",
              "      <th>96</th>\n",
              "      <td>FLAG_DOCUMENT_3</td>\n",
              "      <td>0</td>\n",
              "      <td>0.000000</td>\n",
              "    </tr>\n",
              "    <tr>\n",
              "      <th>97</th>\n",
              "      <td>FLAG_DOCUMENT_4</td>\n",
              "      <td>0</td>\n",
              "      <td>0.000000</td>\n",
              "    </tr>\n",
              "    <tr>\n",
              "      <th>98</th>\n",
              "      <td>FLAG_DOCUMENT_5</td>\n",
              "      <td>0</td>\n",
              "      <td>0.000000</td>\n",
              "    </tr>\n",
              "    <tr>\n",
              "      <th>99</th>\n",
              "      <td>FLAG_DOCUMENT_6</td>\n",
              "      <td>0</td>\n",
              "      <td>0.000000</td>\n",
              "    </tr>\n",
              "    <tr>\n",
              "      <th>100</th>\n",
              "      <td>FLAG_DOCUMENT_7</td>\n",
              "      <td>0</td>\n",
              "      <td>0.000000</td>\n",
              "    </tr>\n",
              "    <tr>\n",
              "      <th>101</th>\n",
              "      <td>FLAG_DOCUMENT_8</td>\n",
              "      <td>0</td>\n",
              "      <td>0.000000</td>\n",
              "    </tr>\n",
              "    <tr>\n",
              "      <th>102</th>\n",
              "      <td>FLAG_DOCUMENT_9</td>\n",
              "      <td>0</td>\n",
              "      <td>0.000000</td>\n",
              "    </tr>\n",
              "    <tr>\n",
              "      <th>26</th>\n",
              "      <td>FLAG_EMAIL</td>\n",
              "      <td>0</td>\n",
              "      <td>0.000000</td>\n",
              "    </tr>\n",
              "    <tr>\n",
              "      <th>22</th>\n",
              "      <td>FLAG_EMP_PHONE</td>\n",
              "      <td>0</td>\n",
              "      <td>0.000000</td>\n",
              "    </tr>\n",
              "    <tr>\n",
              "      <th>21</th>\n",
              "      <td>FLAG_MOBIL</td>\n",
              "      <td>0</td>\n",
              "      <td>0.000000</td>\n",
              "    </tr>\n",
              "    <tr>\n",
              "      <th>3</th>\n",
              "      <td>FLAG_OWN_CAR</td>\n",
              "      <td>0</td>\n",
              "      <td>0.000000</td>\n",
              "    </tr>\n",
              "    <tr>\n",
              "      <th>4</th>\n",
              "      <td>FLAG_OWN_REALTY</td>\n",
              "      <td>0</td>\n",
              "      <td>0.000000</td>\n",
              "    </tr>\n",
              "    <tr>\n",
              "      <th>25</th>\n",
              "      <td>FLAG_PHONE</td>\n",
              "      <td>0</td>\n",
              "      <td>0.000000</td>\n",
              "    </tr>\n",
              "    <tr>\n",
              "      <th>23</th>\n",
              "      <td>FLAG_WORK_PHONE</td>\n",
              "      <td>0</td>\n",
              "      <td>0.000000</td>\n",
              "    </tr>\n",
              "    <tr>\n",
              "      <th>50</th>\n",
              "      <td>FLOORSMAX_AVG</td>\n",
              "      <td>153020</td>\n",
              "      <td>0.497608</td>\n",
              "    </tr>\n",
              "    <tr>\n",
              "      <th>78</th>\n",
              "      <td>FLOORSMAX_MEDI</td>\n",
              "      <td>153020</td>\n",
              "      <td>0.497608</td>\n",
              "    </tr>\n",
              "    <tr>\n",
              "      <th>64</th>\n",
              "      <td>FLOORSMAX_MODE</td>\n",
              "      <td>153020</td>\n",
              "      <td>0.497608</td>\n",
              "    </tr>\n",
              "    <tr>\n",
              "      <th>51</th>\n",
              "      <td>FLOORSMIN_AVG</td>\n",
              "      <td>208642</td>\n",
              "      <td>0.678486</td>\n",
              "    </tr>\n",
              "    <tr>\n",
              "      <th>79</th>\n",
              "      <td>FLOORSMIN_MEDI</td>\n",
              "      <td>208642</td>\n",
              "      <td>0.678486</td>\n",
              "    </tr>\n",
              "    <tr>\n",
              "      <th>65</th>\n",
              "      <td>FLOORSMIN_MODE</td>\n",
              "      <td>208642</td>\n",
              "      <td>0.678486</td>\n",
              "    </tr>\n",
              "    <tr>\n",
              "      <th>85</th>\n",
              "      <td>FONDKAPREMONT_MODE</td>\n",
              "      <td>210295</td>\n",
              "      <td>0.683862</td>\n",
              "    </tr>\n",
              "    <tr>\n",
              "      <th>32</th>\n",
              "      <td>HOUR_APPR_PROCESS_START</td>\n",
              "      <td>0</td>\n",
              "      <td>0.000000</td>\n",
              "    </tr>\n",
              "    <tr>\n",
              "      <th>86</th>\n",
              "      <td>HOUSETYPE_MODE</td>\n",
              "      <td>154297</td>\n",
              "      <td>0.501761</td>\n",
              "    </tr>\n",
              "    <tr>\n",
              "      <th>52</th>\n",
              "      <td>LANDAREA_AVG</td>\n",
              "      <td>182590</td>\n",
              "      <td>0.593767</td>\n",
              "    </tr>\n",
              "    <tr>\n",
              "      <th>80</th>\n",
              "      <td>LANDAREA_MEDI</td>\n",
              "      <td>182590</td>\n",
              "      <td>0.593767</td>\n",
              "    </tr>\n",
              "    <tr>\n",
              "      <th>66</th>\n",
              "      <td>LANDAREA_MODE</td>\n",
              "      <td>182590</td>\n",
              "      <td>0.593767</td>\n",
              "    </tr>\n",
              "    <tr>\n",
              "      <th>38</th>\n",
              "      <td>LIVE_CITY_NOT_WORK_CITY</td>\n",
              "      <td>0</td>\n",
              "      <td>0.000000</td>\n",
              "    </tr>\n",
              "    <tr>\n",
              "      <th>35</th>\n",
              "      <td>LIVE_REGION_NOT_WORK_REGION</td>\n",
              "      <td>0</td>\n",
              "      <td>0.000000</td>\n",
              "    </tr>\n",
              "    <tr>\n",
              "      <th>53</th>\n",
              "      <td>LIVINGAPARTMENTS_AVG</td>\n",
              "      <td>210199</td>\n",
              "      <td>0.683550</td>\n",
              "    </tr>\n",
              "    <tr>\n",
              "      <th>81</th>\n",
              "      <td>LIVINGAPARTMENTS_MEDI</td>\n",
              "      <td>210199</td>\n",
              "      <td>0.683550</td>\n",
              "    </tr>\n",
              "    <tr>\n",
              "      <th>67</th>\n",
              "      <td>LIVINGAPARTMENTS_MODE</td>\n",
              "      <td>210199</td>\n",
              "      <td>0.683550</td>\n",
              "    </tr>\n",
              "    <tr>\n",
              "      <th>54</th>\n",
              "      <td>LIVINGAREA_AVG</td>\n",
              "      <td>154350</td>\n",
              "      <td>0.501933</td>\n",
              "    </tr>\n",
              "    <tr>\n",
              "      <th>82</th>\n",
              "      <td>LIVINGAREA_MEDI</td>\n",
              "      <td>154350</td>\n",
              "      <td>0.501933</td>\n",
              "    </tr>\n",
              "    <tr>\n",
              "      <th>68</th>\n",
              "      <td>LIVINGAREA_MODE</td>\n",
              "      <td>154350</td>\n",
              "      <td>0.501933</td>\n",
              "    </tr>\n",
              "    <tr>\n",
              "      <th>1</th>\n",
              "      <td>NAME_CONTRACT_TYPE</td>\n",
              "      <td>0</td>\n",
              "      <td>0.000000</td>\n",
              "    </tr>\n",
              "    <tr>\n",
              "      <th>12</th>\n",
              "      <td>NAME_EDUCATION_TYPE</td>\n",
              "      <td>0</td>\n",
              "      <td>0.000000</td>\n",
              "    </tr>\n",
              "    <tr>\n",
              "      <th>13</th>\n",
              "      <td>NAME_FAMILY_STATUS</td>\n",
              "      <td>0</td>\n",
              "      <td>0.000000</td>\n",
              "    </tr>\n",
              "    <tr>\n",
              "      <th>14</th>\n",
              "      <td>NAME_HOUSING_TYPE</td>\n",
              "      <td>0</td>\n",
              "      <td>0.000000</td>\n",
              "    </tr>\n",
              "    <tr>\n",
              "      <th>11</th>\n",
              "      <td>NAME_INCOME_TYPE</td>\n",
              "      <td>0</td>\n",
              "      <td>0.000000</td>\n",
              "    </tr>\n",
              "    <tr>\n",
              "      <th>10</th>\n",
              "      <td>NAME_TYPE_SUITE</td>\n",
              "      <td>1292</td>\n",
              "      <td>0.004201</td>\n",
              "    </tr>\n",
              "    <tr>\n",
              "      <th>55</th>\n",
              "      <td>NONLIVINGAPARTMENTS_AVG</td>\n",
              "      <td>213514</td>\n",
              "      <td>0.694330</td>\n",
              "    </tr>\n",
              "    <tr>\n",
              "      <th>83</th>\n",
              "      <td>NONLIVINGAPARTMENTS_MEDI</td>\n",
              "      <td>213514</td>\n",
              "      <td>0.694330</td>\n",
              "    </tr>\n",
              "    <tr>\n",
              "      <th>69</th>\n",
              "      <td>NONLIVINGAPARTMENTS_MODE</td>\n",
              "      <td>213514</td>\n",
              "      <td>0.694330</td>\n",
              "    </tr>\n",
              "    <tr>\n",
              "      <th>56</th>\n",
              "      <td>NONLIVINGAREA_AVG</td>\n",
              "      <td>169682</td>\n",
              "      <td>0.551792</td>\n",
              "    </tr>\n",
              "    <tr>\n",
              "      <th>84</th>\n",
              "      <td>NONLIVINGAREA_MEDI</td>\n",
              "      <td>169682</td>\n",
              "      <td>0.551792</td>\n",
              "    </tr>\n",
              "    <tr>\n",
              "      <th>70</th>\n",
              "      <td>NONLIVINGAREA_MODE</td>\n",
              "      <td>169682</td>\n",
              "      <td>0.551792</td>\n",
              "    </tr>\n",
              "    <tr>\n",
              "      <th>90</th>\n",
              "      <td>OBS_30_CNT_SOCIAL_CIRCLE</td>\n",
              "      <td>1021</td>\n",
              "      <td>0.003320</td>\n",
              "    </tr>\n",
              "    <tr>\n",
              "      <th>92</th>\n",
              "      <td>OBS_60_CNT_SOCIAL_CIRCLE</td>\n",
              "      <td>1021</td>\n",
              "      <td>0.003320</td>\n",
              "    </tr>\n",
              "    <tr>\n",
              "      <th>27</th>\n",
              "      <td>OCCUPATION_TYPE</td>\n",
              "      <td>96391</td>\n",
              "      <td>0.313455</td>\n",
              "    </tr>\n",
              "    <tr>\n",
              "      <th>39</th>\n",
              "      <td>ORGANIZATION_TYPE</td>\n",
              "      <td>0</td>\n",
              "      <td>0.000000</td>\n",
              "    </tr>\n",
              "    <tr>\n",
              "      <th>20</th>\n",
              "      <td>OWN_CAR_AGE</td>\n",
              "      <td>202929</td>\n",
              "      <td>0.659908</td>\n",
              "    </tr>\n",
              "    <tr>\n",
              "      <th>15</th>\n",
              "      <td>REGION_POPULATION_RELATIVE</td>\n",
              "      <td>0</td>\n",
              "      <td>0.000000</td>\n",
              "    </tr>\n",
              "    <tr>\n",
              "      <th>29</th>\n",
              "      <td>REGION_RATING_CLIENT</td>\n",
              "      <td>0</td>\n",
              "      <td>0.000000</td>\n",
              "    </tr>\n",
              "    <tr>\n",
              "      <th>30</th>\n",
              "      <td>REGION_RATING_CLIENT_W_CITY</td>\n",
              "      <td>0</td>\n",
              "      <td>0.000000</td>\n",
              "    </tr>\n",
              "    <tr>\n",
              "      <th>36</th>\n",
              "      <td>REG_CITY_NOT_LIVE_CITY</td>\n",
              "      <td>0</td>\n",
              "      <td>0.000000</td>\n",
              "    </tr>\n",
              "    <tr>\n",
              "      <th>37</th>\n",
              "      <td>REG_CITY_NOT_WORK_CITY</td>\n",
              "      <td>0</td>\n",
              "      <td>0.000000</td>\n",
              "    </tr>\n",
              "    <tr>\n",
              "      <th>33</th>\n",
              "      <td>REG_REGION_NOT_LIVE_REGION</td>\n",
              "      <td>0</td>\n",
              "      <td>0.000000</td>\n",
              "    </tr>\n",
              "    <tr>\n",
              "      <th>34</th>\n",
              "      <td>REG_REGION_NOT_WORK_REGION</td>\n",
              "      <td>0</td>\n",
              "      <td>0.000000</td>\n",
              "    </tr>\n",
              "    <tr>\n",
              "      <th>0</th>\n",
              "      <td>SK_ID_CURR</td>\n",
              "      <td>0</td>\n",
              "      <td>0.000000</td>\n",
              "    </tr>\n",
              "    <tr>\n",
              "      <th>87</th>\n",
              "      <td>TOTALAREA_MODE</td>\n",
              "      <td>148431</td>\n",
              "      <td>0.482685</td>\n",
              "    </tr>\n",
              "    <tr>\n",
              "      <th>88</th>\n",
              "      <td>WALLSMATERIAL_MODE</td>\n",
              "      <td>156341</td>\n",
              "      <td>0.508408</td>\n",
              "    </tr>\n",
              "    <tr>\n",
              "      <th>31</th>\n",
              "      <td>WEEKDAY_APPR_PROCESS_START</td>\n",
              "      <td>0</td>\n",
              "      <td>0.000000</td>\n",
              "    </tr>\n",
              "    <tr>\n",
              "      <th>45</th>\n",
              "      <td>YEARS_BEGINEXPLUATATION_AVG</td>\n",
              "      <td>150007</td>\n",
              "      <td>0.487810</td>\n",
              "    </tr>\n",
              "    <tr>\n",
              "      <th>73</th>\n",
              "      <td>YEARS_BEGINEXPLUATATION_MEDI</td>\n",
              "      <td>150007</td>\n",
              "      <td>0.487810</td>\n",
              "    </tr>\n",
              "    <tr>\n",
              "      <th>59</th>\n",
              "      <td>YEARS_BEGINEXPLUATATION_MODE</td>\n",
              "      <td>150007</td>\n",
              "      <td>0.487810</td>\n",
              "    </tr>\n",
              "    <tr>\n",
              "      <th>46</th>\n",
              "      <td>YEARS_BUILD_AVG</td>\n",
              "      <td>204488</td>\n",
              "      <td>0.664978</td>\n",
              "    </tr>\n",
              "    <tr>\n",
              "      <th>74</th>\n",
              "      <td>YEARS_BUILD_MEDI</td>\n",
              "      <td>204488</td>\n",
              "      <td>0.664978</td>\n",
              "    </tr>\n",
              "    <tr>\n",
              "      <th>60</th>\n",
              "      <td>YEARS_BUILD_MODE</td>\n",
              "      <td>204488</td>\n",
              "      <td>0.664978</td>\n",
              "    </tr>\n",
              "  </tbody>\n",
              "</table>\n",
              "</div>"
            ],
            "text/plain": [
              "                           column  nulls_num  nulls_perc\n",
              "8                     AMT_ANNUITY         12    0.000039\n",
              "7                      AMT_CREDIT          0    0.000000\n",
              "9                 AMT_GOODS_PRICE        278    0.000904\n",
              "6                AMT_INCOME_TOTAL          0    0.000000\n",
              "116     AMT_REQ_CREDIT_BUREAU_DAY      41519    0.135016\n",
              "115    AMT_REQ_CREDIT_BUREAU_HOUR      41519    0.135016\n",
              "118     AMT_REQ_CREDIT_BUREAU_MON      41519    0.135016\n",
              "119     AMT_REQ_CREDIT_BUREAU_QRT      41519    0.135016\n",
              "117    AMT_REQ_CREDIT_BUREAU_WEEK      41519    0.135016\n",
              "120    AMT_REQ_CREDIT_BUREAU_YEAR      41519    0.135016\n",
              "43                 APARTMENTS_AVG     156061    0.507497\n",
              "71                APARTMENTS_MEDI     156061    0.507497\n",
              "57                APARTMENTS_MODE     156061    0.507497\n",
              "44               BASEMENTAREA_AVG     179943    0.585160\n",
              "72              BASEMENTAREA_MEDI     179943    0.585160\n",
              "58              BASEMENTAREA_MODE     179943    0.585160\n",
              "5                    CNT_CHILDREN          0    0.000000\n",
              "28                CNT_FAM_MEMBERS          2    0.000007\n",
              "2                     CODE_GENDER          0    0.000000\n",
              "47                 COMMONAREA_AVG     214865    0.698723\n",
              "75                COMMONAREA_MEDI     214865    0.698723\n",
              "61                COMMONAREA_MODE     214865    0.698723\n",
              "16                     DAYS_BIRTH          0    0.000000\n",
              "17                  DAYS_EMPLOYED          0    0.000000\n",
              "19                DAYS_ID_PUBLISH          0    0.000000\n",
              "94         DAYS_LAST_PHONE_CHANGE          1    0.000003\n",
              "18              DAYS_REGISTRATION          0    0.000000\n",
              "91       DEF_30_CNT_SOCIAL_CIRCLE       1021    0.003320\n",
              "93       DEF_60_CNT_SOCIAL_CIRCLE       1021    0.003320\n",
              "48                  ELEVATORS_AVG     163891    0.532960\n",
              "76                 ELEVATORS_MEDI     163891    0.532960\n",
              "62                 ELEVATORS_MODE     163891    0.532960\n",
              "89            EMERGENCYSTATE_MODE     145755    0.473983\n",
              "49                  ENTRANCES_AVG     154828    0.503488\n",
              "77                 ENTRANCES_MEDI     154828    0.503488\n",
              "63                 ENTRANCES_MODE     154828    0.503488\n",
              "40                   EXT_SOURCE_1     173378    0.563811\n",
              "41                   EXT_SOURCE_2        660    0.002146\n",
              "42                   EXT_SOURCE_3      60965    0.198253\n",
              "24               FLAG_CONT_MOBILE          0    0.000000\n",
              "103              FLAG_DOCUMENT_10          0    0.000000\n",
              "104              FLAG_DOCUMENT_11          0    0.000000\n",
              "105              FLAG_DOCUMENT_12          0    0.000000\n",
              "106              FLAG_DOCUMENT_13          0    0.000000\n",
              "107              FLAG_DOCUMENT_14          0    0.000000\n",
              "108              FLAG_DOCUMENT_15          0    0.000000\n",
              "109              FLAG_DOCUMENT_16          0    0.000000\n",
              "110              FLAG_DOCUMENT_17          0    0.000000\n",
              "111              FLAG_DOCUMENT_18          0    0.000000\n",
              "112              FLAG_DOCUMENT_19          0    0.000000\n",
              "95                FLAG_DOCUMENT_2          0    0.000000\n",
              "113              FLAG_DOCUMENT_20          0    0.000000\n",
              "114              FLAG_DOCUMENT_21          0    0.000000\n",
              "96                FLAG_DOCUMENT_3          0    0.000000\n",
              "97                FLAG_DOCUMENT_4          0    0.000000\n",
              "98                FLAG_DOCUMENT_5          0    0.000000\n",
              "99                FLAG_DOCUMENT_6          0    0.000000\n",
              "100               FLAG_DOCUMENT_7          0    0.000000\n",
              "101               FLAG_DOCUMENT_8          0    0.000000\n",
              "102               FLAG_DOCUMENT_9          0    0.000000\n",
              "26                     FLAG_EMAIL          0    0.000000\n",
              "22                 FLAG_EMP_PHONE          0    0.000000\n",
              "21                     FLAG_MOBIL          0    0.000000\n",
              "3                    FLAG_OWN_CAR          0    0.000000\n",
              "4                 FLAG_OWN_REALTY          0    0.000000\n",
              "25                     FLAG_PHONE          0    0.000000\n",
              "23                FLAG_WORK_PHONE          0    0.000000\n",
              "50                  FLOORSMAX_AVG     153020    0.497608\n",
              "78                 FLOORSMAX_MEDI     153020    0.497608\n",
              "64                 FLOORSMAX_MODE     153020    0.497608\n",
              "51                  FLOORSMIN_AVG     208642    0.678486\n",
              "79                 FLOORSMIN_MEDI     208642    0.678486\n",
              "65                 FLOORSMIN_MODE     208642    0.678486\n",
              "85             FONDKAPREMONT_MODE     210295    0.683862\n",
              "32        HOUR_APPR_PROCESS_START          0    0.000000\n",
              "86                 HOUSETYPE_MODE     154297    0.501761\n",
              "52                   LANDAREA_AVG     182590    0.593767\n",
              "80                  LANDAREA_MEDI     182590    0.593767\n",
              "66                  LANDAREA_MODE     182590    0.593767\n",
              "38        LIVE_CITY_NOT_WORK_CITY          0    0.000000\n",
              "35    LIVE_REGION_NOT_WORK_REGION          0    0.000000\n",
              "53           LIVINGAPARTMENTS_AVG     210199    0.683550\n",
              "81          LIVINGAPARTMENTS_MEDI     210199    0.683550\n",
              "67          LIVINGAPARTMENTS_MODE     210199    0.683550\n",
              "54                 LIVINGAREA_AVG     154350    0.501933\n",
              "82                LIVINGAREA_MEDI     154350    0.501933\n",
              "68                LIVINGAREA_MODE     154350    0.501933\n",
              "1              NAME_CONTRACT_TYPE          0    0.000000\n",
              "12            NAME_EDUCATION_TYPE          0    0.000000\n",
              "13             NAME_FAMILY_STATUS          0    0.000000\n",
              "14              NAME_HOUSING_TYPE          0    0.000000\n",
              "11               NAME_INCOME_TYPE          0    0.000000\n",
              "10                NAME_TYPE_SUITE       1292    0.004201\n",
              "55        NONLIVINGAPARTMENTS_AVG     213514    0.694330\n",
              "83       NONLIVINGAPARTMENTS_MEDI     213514    0.694330\n",
              "69       NONLIVINGAPARTMENTS_MODE     213514    0.694330\n",
              "56              NONLIVINGAREA_AVG     169682    0.551792\n",
              "84             NONLIVINGAREA_MEDI     169682    0.551792\n",
              "70             NONLIVINGAREA_MODE     169682    0.551792\n",
              "90       OBS_30_CNT_SOCIAL_CIRCLE       1021    0.003320\n",
              "92       OBS_60_CNT_SOCIAL_CIRCLE       1021    0.003320\n",
              "27                OCCUPATION_TYPE      96391    0.313455\n",
              "39              ORGANIZATION_TYPE          0    0.000000\n",
              "20                    OWN_CAR_AGE     202929    0.659908\n",
              "15     REGION_POPULATION_RELATIVE          0    0.000000\n",
              "29           REGION_RATING_CLIENT          0    0.000000\n",
              "30    REGION_RATING_CLIENT_W_CITY          0    0.000000\n",
              "36         REG_CITY_NOT_LIVE_CITY          0    0.000000\n",
              "37         REG_CITY_NOT_WORK_CITY          0    0.000000\n",
              "33     REG_REGION_NOT_LIVE_REGION          0    0.000000\n",
              "34     REG_REGION_NOT_WORK_REGION          0    0.000000\n",
              "0                      SK_ID_CURR          0    0.000000\n",
              "87                 TOTALAREA_MODE     148431    0.482685\n",
              "88             WALLSMATERIAL_MODE     156341    0.508408\n",
              "31     WEEKDAY_APPR_PROCESS_START          0    0.000000\n",
              "45    YEARS_BEGINEXPLUATATION_AVG     150007    0.487810\n",
              "73   YEARS_BEGINEXPLUATATION_MEDI     150007    0.487810\n",
              "59   YEARS_BEGINEXPLUATATION_MODE     150007    0.487810\n",
              "46                YEARS_BUILD_AVG     204488    0.664978\n",
              "74               YEARS_BUILD_MEDI     204488    0.664978\n",
              "60               YEARS_BUILD_MODE     204488    0.664978"
            ]
          },
          "metadata": {
            "tags": []
          },
          "execution_count": 17
        }
      ]
    },
    {
      "metadata": {
        "id": "AMsP6D10xPfy",
        "colab_type": "text"
      },
      "cell_type": "markdown",
      "source": [
        "It looks like groups of columns have the exact same number of nulls, meaning that it's like the same samples have nulls within groups of columns. We can group train_features_nulls by nulls_num (or nulls_perc, should yield the same result) and count the number of columns that have the same exact numbers of nulls:"
      ]
    },
    {
      "metadata": {
        "id": "rNX697-6xPA1",
        "colab_type": "code",
        "colab": {
          "autoexec": {
            "startup": false,
            "wait_interval": 0
          },
          "base_uri": "https://localhost:8080/",
          "height": 1007
        },
        "outputId": "ef974df6-9654-403d-d134-cfd24a92e729",
        "executionInfo": {
          "status": "ok",
          "timestamp": 1527752763607,
          "user_tz": 420,
          "elapsed": 622,
          "user": {
            "displayName": "Edgar Pavlovsky",
            "photoUrl": "//lh3.googleusercontent.com/-Ny57IabeLHQ/AAAAAAAAAAI/AAAAAAAAG4o/xsyDtZ2P3Ro/s50-c-k-no/photo.jpg",
            "userId": "116270002817181830687"
          }
        }
      },
      "cell_type": "code",
      "source": [
        "train_null_groups = train_features_nulls.groupby(by='nulls_num')['column'].count().reset_index()\n",
        "train_null_groups.sort_values(by='column',ascending=False)"
      ],
      "execution_count": 18,
      "outputs": [
        {
          "output_type": "execute_result",
          "data": {
            "text/html": [
              "<div>\n",
              "<style scoped>\n",
              "    .dataframe tbody tr th:only-of-type {\n",
              "        vertical-align: middle;\n",
              "    }\n",
              "\n",
              "    .dataframe tbody tr th {\n",
              "        vertical-align: top;\n",
              "    }\n",
              "\n",
              "    .dataframe thead th {\n",
              "        text-align: right;\n",
              "    }\n",
              "</style>\n",
              "<table border=\"1\" class=\"dataframe\">\n",
              "  <thead>\n",
              "    <tr style=\"text-align: right;\">\n",
              "      <th></th>\n",
              "      <th>nulls_num</th>\n",
              "      <th>column</th>\n",
              "    </tr>\n",
              "  </thead>\n",
              "  <tbody>\n",
              "    <tr>\n",
              "      <th>0</th>\n",
              "      <td>0</td>\n",
              "      <td>54</td>\n",
              "    </tr>\n",
              "    <tr>\n",
              "      <th>8</th>\n",
              "      <td>41519</td>\n",
              "      <td>6</td>\n",
              "    </tr>\n",
              "    <tr>\n",
              "      <th>6</th>\n",
              "      <td>1021</td>\n",
              "      <td>4</td>\n",
              "    </tr>\n",
              "    <tr>\n",
              "      <th>14</th>\n",
              "      <td>153020</td>\n",
              "      <td>3</td>\n",
              "    </tr>\n",
              "    <tr>\n",
              "      <th>30</th>\n",
              "      <td>213514</td>\n",
              "      <td>3</td>\n",
              "    </tr>\n",
              "    <tr>\n",
              "      <th>28</th>\n",
              "      <td>210199</td>\n",
              "      <td>3</td>\n",
              "    </tr>\n",
              "    <tr>\n",
              "      <th>27</th>\n",
              "      <td>208642</td>\n",
              "      <td>3</td>\n",
              "    </tr>\n",
              "    <tr>\n",
              "      <th>26</th>\n",
              "      <td>204488</td>\n",
              "      <td>3</td>\n",
              "    </tr>\n",
              "    <tr>\n",
              "      <th>24</th>\n",
              "      <td>182590</td>\n",
              "      <td>3</td>\n",
              "    </tr>\n",
              "    <tr>\n",
              "      <th>23</th>\n",
              "      <td>179943</td>\n",
              "      <td>3</td>\n",
              "    </tr>\n",
              "    <tr>\n",
              "      <th>21</th>\n",
              "      <td>169682</td>\n",
              "      <td>3</td>\n",
              "    </tr>\n",
              "    <tr>\n",
              "      <th>20</th>\n",
              "      <td>163891</td>\n",
              "      <td>3</td>\n",
              "    </tr>\n",
              "    <tr>\n",
              "      <th>18</th>\n",
              "      <td>156061</td>\n",
              "      <td>3</td>\n",
              "    </tr>\n",
              "    <tr>\n",
              "      <th>17</th>\n",
              "      <td>154828</td>\n",
              "      <td>3</td>\n",
              "    </tr>\n",
              "    <tr>\n",
              "      <th>16</th>\n",
              "      <td>154350</td>\n",
              "      <td>3</td>\n",
              "    </tr>\n",
              "    <tr>\n",
              "      <th>31</th>\n",
              "      <td>214865</td>\n",
              "      <td>3</td>\n",
              "    </tr>\n",
              "    <tr>\n",
              "      <th>13</th>\n",
              "      <td>150007</td>\n",
              "      <td>3</td>\n",
              "    </tr>\n",
              "    <tr>\n",
              "      <th>7</th>\n",
              "      <td>1292</td>\n",
              "      <td>1</td>\n",
              "    </tr>\n",
              "    <tr>\n",
              "      <th>2</th>\n",
              "      <td>2</td>\n",
              "      <td>1</td>\n",
              "    </tr>\n",
              "    <tr>\n",
              "      <th>29</th>\n",
              "      <td>210295</td>\n",
              "      <td>1</td>\n",
              "    </tr>\n",
              "    <tr>\n",
              "      <th>3</th>\n",
              "      <td>12</td>\n",
              "      <td>1</td>\n",
              "    </tr>\n",
              "    <tr>\n",
              "      <th>4</th>\n",
              "      <td>278</td>\n",
              "      <td>1</td>\n",
              "    </tr>\n",
              "    <tr>\n",
              "      <th>5</th>\n",
              "      <td>660</td>\n",
              "      <td>1</td>\n",
              "    </tr>\n",
              "    <tr>\n",
              "      <th>25</th>\n",
              "      <td>202929</td>\n",
              "      <td>1</td>\n",
              "    </tr>\n",
              "    <tr>\n",
              "      <th>15</th>\n",
              "      <td>154297</td>\n",
              "      <td>1</td>\n",
              "    </tr>\n",
              "    <tr>\n",
              "      <th>1</th>\n",
              "      <td>1</td>\n",
              "      <td>1</td>\n",
              "    </tr>\n",
              "    <tr>\n",
              "      <th>22</th>\n",
              "      <td>173378</td>\n",
              "      <td>1</td>\n",
              "    </tr>\n",
              "    <tr>\n",
              "      <th>10</th>\n",
              "      <td>96391</td>\n",
              "      <td>1</td>\n",
              "    </tr>\n",
              "    <tr>\n",
              "      <th>11</th>\n",
              "      <td>145755</td>\n",
              "      <td>1</td>\n",
              "    </tr>\n",
              "    <tr>\n",
              "      <th>19</th>\n",
              "      <td>156341</td>\n",
              "      <td>1</td>\n",
              "    </tr>\n",
              "    <tr>\n",
              "      <th>12</th>\n",
              "      <td>148431</td>\n",
              "      <td>1</td>\n",
              "    </tr>\n",
              "    <tr>\n",
              "      <th>9</th>\n",
              "      <td>60965</td>\n",
              "      <td>1</td>\n",
              "    </tr>\n",
              "  </tbody>\n",
              "</table>\n",
              "</div>"
            ],
            "text/plain": [
              "    nulls_num  column\n",
              "0           0      54\n",
              "8       41519       6\n",
              "6        1021       4\n",
              "14     153020       3\n",
              "30     213514       3\n",
              "28     210199       3\n",
              "27     208642       3\n",
              "26     204488       3\n",
              "24     182590       3\n",
              "23     179943       3\n",
              "21     169682       3\n",
              "20     163891       3\n",
              "18     156061       3\n",
              "17     154828       3\n",
              "16     154350       3\n",
              "31     214865       3\n",
              "13     150007       3\n",
              "7        1292       1\n",
              "2           2       1\n",
              "29     210295       1\n",
              "3          12       1\n",
              "4         278       1\n",
              "5         660       1\n",
              "25     202929       1\n",
              "15     154297       1\n",
              "1           1       1\n",
              "22     173378       1\n",
              "10      96391       1\n",
              "11     145755       1\n",
              "19     156341       1\n",
              "12     148431       1\n",
              "9       60965       1"
            ]
          },
          "metadata": {
            "tags": []
          },
          "execution_count": 18
        }
      ]
    },
    {
      "metadata": {
        "id": "4ONU4lHexd9A",
        "colab_type": "text"
      },
      "cell_type": "markdown",
      "source": [
        "This gives us some helpful information:\n",
        "\n",
        "- 54 columns have 0 nulls\n",
        "- Groups of 3-6 columns can be derived by the number of nulls. We can look through these to see if the groups are interesting:"
      ]
    },
    {
      "metadata": {
        "id": "UTAFFnHkxO-W",
        "colab_type": "code",
        "colab": {
          "autoexec": {
            "startup": false,
            "wait_interval": 0
          },
          "base_uri": "https://localhost:8080/",
          "height": 1794
        },
        "outputId": "700ffc15-6c71-48c5-84b8-125d0be0b30a",
        "executionInfo": {
          "status": "ok",
          "timestamp": 1527752764326,
          "user_tz": 420,
          "elapsed": 422,
          "user": {
            "displayName": "Edgar Pavlovsky",
            "photoUrl": "//lh3.googleusercontent.com/-Ny57IabeLHQ/AAAAAAAAAAI/AAAAAAAAG4o/xsyDtZ2P3Ro/s50-c-k-no/photo.jpg",
            "userId": "116270002817181830687"
          }
        }
      },
      "cell_type": "code",
      "source": [
        "for x in list(train_null_groups.nulls_num):\n",
        "    if x != 0:\n",
        "        num_cols = len(train_features_nulls.loc[train_features_nulls.nulls_num == x,:])\n",
        "        if num_cols > 1:\n",
        "            print('----')\n",
        "            print('nulls_num: '+str(x))\n",
        "            print(train_features_nulls.loc[train_features_nulls.nulls_num == x,:])"
      ],
      "execution_count": 19,
      "outputs": [
        {
          "output_type": "stream",
          "text": [
            "----\n",
            "nulls_num: 1021\n",
            "                      column  nulls_num  nulls_perc\n",
            "90  OBS_30_CNT_SOCIAL_CIRCLE       1021     0.00332\n",
            "91  DEF_30_CNT_SOCIAL_CIRCLE       1021     0.00332\n",
            "92  OBS_60_CNT_SOCIAL_CIRCLE       1021     0.00332\n",
            "93  DEF_60_CNT_SOCIAL_CIRCLE       1021     0.00332\n",
            "----\n",
            "nulls_num: 41519\n",
            "                         column  nulls_num  nulls_perc\n",
            "115  AMT_REQ_CREDIT_BUREAU_HOUR      41519    0.135016\n",
            "116   AMT_REQ_CREDIT_BUREAU_DAY      41519    0.135016\n",
            "117  AMT_REQ_CREDIT_BUREAU_WEEK      41519    0.135016\n",
            "118   AMT_REQ_CREDIT_BUREAU_MON      41519    0.135016\n",
            "119   AMT_REQ_CREDIT_BUREAU_QRT      41519    0.135016\n",
            "120  AMT_REQ_CREDIT_BUREAU_YEAR      41519    0.135016\n",
            "----\n",
            "nulls_num: 150007\n",
            "                          column  nulls_num  nulls_perc\n",
            "45   YEARS_BEGINEXPLUATATION_AVG     150007     0.48781\n",
            "59  YEARS_BEGINEXPLUATATION_MODE     150007     0.48781\n",
            "73  YEARS_BEGINEXPLUATATION_MEDI     150007     0.48781\n",
            "----\n",
            "nulls_num: 153020\n",
            "            column  nulls_num  nulls_perc\n",
            "50   FLOORSMAX_AVG     153020    0.497608\n",
            "64  FLOORSMAX_MODE     153020    0.497608\n",
            "78  FLOORSMAX_MEDI     153020    0.497608\n",
            "----\n",
            "nulls_num: 154350\n",
            "             column  nulls_num  nulls_perc\n",
            "54   LIVINGAREA_AVG     154350    0.501933\n",
            "68  LIVINGAREA_MODE     154350    0.501933\n",
            "82  LIVINGAREA_MEDI     154350    0.501933\n",
            "----\n",
            "nulls_num: 154828\n",
            "            column  nulls_num  nulls_perc\n",
            "49   ENTRANCES_AVG     154828    0.503488\n",
            "63  ENTRANCES_MODE     154828    0.503488\n",
            "77  ENTRANCES_MEDI     154828    0.503488\n",
            "----\n",
            "nulls_num: 156061\n",
            "             column  nulls_num  nulls_perc\n",
            "43   APARTMENTS_AVG     156061    0.507497\n",
            "57  APARTMENTS_MODE     156061    0.507497\n",
            "71  APARTMENTS_MEDI     156061    0.507497\n",
            "----\n",
            "nulls_num: 163891\n",
            "            column  nulls_num  nulls_perc\n",
            "48   ELEVATORS_AVG     163891     0.53296\n",
            "62  ELEVATORS_MODE     163891     0.53296\n",
            "76  ELEVATORS_MEDI     163891     0.53296\n",
            "----\n",
            "nulls_num: 169682\n",
            "                column  nulls_num  nulls_perc\n",
            "56   NONLIVINGAREA_AVG     169682    0.551792\n",
            "70  NONLIVINGAREA_MODE     169682    0.551792\n",
            "84  NONLIVINGAREA_MEDI     169682    0.551792\n",
            "----\n",
            "nulls_num: 179943\n",
            "               column  nulls_num  nulls_perc\n",
            "44   BASEMENTAREA_AVG     179943     0.58516\n",
            "58  BASEMENTAREA_MODE     179943     0.58516\n",
            "72  BASEMENTAREA_MEDI     179943     0.58516\n",
            "----\n",
            "nulls_num: 182590\n",
            "           column  nulls_num  nulls_perc\n",
            "52   LANDAREA_AVG     182590    0.593767\n",
            "66  LANDAREA_MODE     182590    0.593767\n",
            "80  LANDAREA_MEDI     182590    0.593767\n",
            "----\n",
            "nulls_num: 204488\n",
            "              column  nulls_num  nulls_perc\n",
            "46   YEARS_BUILD_AVG     204488    0.664978\n",
            "60  YEARS_BUILD_MODE     204488    0.664978\n",
            "74  YEARS_BUILD_MEDI     204488    0.664978\n",
            "----\n",
            "nulls_num: 208642\n",
            "            column  nulls_num  nulls_perc\n",
            "51   FLOORSMIN_AVG     208642    0.678486\n",
            "65  FLOORSMIN_MODE     208642    0.678486\n",
            "79  FLOORSMIN_MEDI     208642    0.678486\n",
            "----\n",
            "nulls_num: 210199\n",
            "                   column  nulls_num  nulls_perc\n",
            "53   LIVINGAPARTMENTS_AVG     210199     0.68355\n",
            "67  LIVINGAPARTMENTS_MODE     210199     0.68355\n",
            "81  LIVINGAPARTMENTS_MEDI     210199     0.68355\n",
            "----\n",
            "nulls_num: 213514\n",
            "                      column  nulls_num  nulls_perc\n",
            "55   NONLIVINGAPARTMENTS_AVG     213514     0.69433\n",
            "69  NONLIVINGAPARTMENTS_MODE     213514     0.69433\n",
            "83  NONLIVINGAPARTMENTS_MEDI     213514     0.69433\n",
            "----\n",
            "nulls_num: 214865\n",
            "             column  nulls_num  nulls_perc\n",
            "47   COMMONAREA_AVG     214865    0.698723\n",
            "61  COMMONAREA_MODE     214865    0.698723\n",
            "75  COMMONAREA_MEDI     214865    0.698723\n"
          ],
          "name": "stdout"
        }
      ]
    },
    {
      "metadata": {
        "id": "18c4MmFlxs2U",
        "colab_type": "text"
      },
      "cell_type": "markdown",
      "source": [
        "Looks like all the column groups are named really similarly, and there are no groups of columns with the same exact nulls that aren't similarly named. This means these nulls could have come from LEFT JOINing data sources together, for lack of a sleeker way to put that."
      ]
    },
    {
      "metadata": {
        "id": "nTRc6O0-y7rR",
        "colab_type": "text"
      },
      "cell_type": "markdown",
      "source": [
        "Let's look at the descriptions for each column in the dataset. schema [here](https://docs.google.com/spreadsheets/d/1WPC7ULTv-GsYbz6FoBuS8ar2DHHVIVqoNjFnIhgg8a0/edit?usp=sharing)."
      ]
    },
    {
      "metadata": {
        "id": "VcgSeAtIzR_8",
        "colab_type": "text"
      },
      "cell_type": "markdown",
      "source": [
        "`SK_ID_CURR` is the \"ID of loan in our sample\". Since it's a unique ID, it's likely not relevant for our model. It could _potentially_ be relevant if unique IDs are numerical, created incrementally, and if we want to use this unique ID to determien the # loan that was extended to each client. We'll exclude it for now."
      ]
    },
    {
      "metadata": {
        "id": "DI3iXmTo0PWk",
        "colab_type": "code",
        "colab": {
          "autoexec": {
            "startup": false,
            "wait_interval": 0
          }
        }
      },
      "cell_type": "code",
      "source": [
        "exclude_vars = ['SK_ID_CURR']"
      ],
      "execution_count": 0,
      "outputs": []
    },
    {
      "metadata": {
        "id": "m84ELuEP0XFH",
        "colab_type": "text"
      },
      "cell_type": "markdown",
      "source": [
        "`NAME_CONTRACT_TYPE` is the \"Identification if loan is cash or revolving\". This is a categorical column that we can create dummies from. If we want to reduce dimensions while maintaining richness, we could also transform this into a binary variable."
      ]
    },
    {
      "metadata": {
        "id": "k7f8Vbr202t-",
        "colab_type": "code",
        "colab": {
          "autoexec": {
            "startup": false,
            "wait_interval": 0
          },
          "base_uri": "https://localhost:8080/",
          "height": 34
        },
        "outputId": "4dd33c2c-9f66-406f-ec2e-580125b029ce",
        "executionInfo": {
          "status": "ok",
          "timestamp": 1527752765836,
          "user_tz": 420,
          "elapsed": 294,
          "user": {
            "displayName": "Edgar Pavlovsky",
            "photoUrl": "//lh3.googleusercontent.com/-Ny57IabeLHQ/AAAAAAAAAAI/AAAAAAAAG4o/xsyDtZ2P3Ro/s50-c-k-no/photo.jpg",
            "userId": "116270002817181830687"
          }
        }
      },
      "cell_type": "code",
      "source": [
        "train_features.NAME_CONTRACT_TYPE.unique()"
      ],
      "execution_count": 21,
      "outputs": [
        {
          "output_type": "execute_result",
          "data": {
            "text/plain": [
              "array(['Cash loans', 'Revolving loans'], dtype=object)"
            ]
          },
          "metadata": {
            "tags": []
          },
          "execution_count": 21
        }
      ]
    },
    {
      "metadata": {
        "id": "hkagCdHX0oAW",
        "colab_type": "code",
        "colab": {
          "autoexec": {
            "startup": false,
            "wait_interval": 0
          }
        }
      },
      "cell_type": "code",
      "source": [
        "cat_vars = ['NAME_CONTRACT_TYPE']"
      ],
      "execution_count": 0,
      "outputs": []
    },
    {
      "metadata": {
        "id": "vjkHq6OA1ELI",
        "colab_type": "text"
      },
      "cell_type": "markdown",
      "source": [
        "`CODE GENDER` is the \"Gender of the client\". It looks like there are 3 genders."
      ]
    },
    {
      "metadata": {
        "id": "hc-QkMJp08RW",
        "colab_type": "code",
        "colab": {
          "autoexec": {
            "startup": false,
            "wait_interval": 0
          },
          "base_uri": "https://localhost:8080/",
          "height": 34
        },
        "outputId": "c1fc1424-b8f4-4aa4-93ad-9fed9f333aa3",
        "executionInfo": {
          "status": "ok",
          "timestamp": 1527752767124,
          "user_tz": 420,
          "elapsed": 302,
          "user": {
            "displayName": "Edgar Pavlovsky",
            "photoUrl": "//lh3.googleusercontent.com/-Ny57IabeLHQ/AAAAAAAAAAI/AAAAAAAAG4o/xsyDtZ2P3Ro/s50-c-k-no/photo.jpg",
            "userId": "116270002817181830687"
          }
        }
      },
      "cell_type": "code",
      "source": [
        "train_features.CODE_GENDER.unique()"
      ],
      "execution_count": 23,
      "outputs": [
        {
          "output_type": "execute_result",
          "data": {
            "text/plain": [
              "array(['M', 'F', 'XNA'], dtype=object)"
            ]
          },
          "metadata": {
            "tags": []
          },
          "execution_count": 23
        }
      ]
    },
    {
      "metadata": {
        "id": "ijdvQV1C1QJZ",
        "colab_type": "code",
        "colab": {
          "autoexec": {
            "startup": false,
            "wait_interval": 0
          }
        }
      },
      "cell_type": "code",
      "source": [
        "cat_vars.append('CODE GENDER')"
      ],
      "execution_count": 0,
      "outputs": []
    },
    {
      "metadata": {
        "id": "TqKdhRLj1ec9",
        "colab_type": "text"
      },
      "cell_type": "markdown",
      "source": [
        "`FLAG_OWN_CAR` and `FLAG_OWN_REALTY` are binary variables and won't need to be transformed."
      ]
    },
    {
      "metadata": {
        "id": "ZsFiNnvn1VeR",
        "colab_type": "code",
        "colab": {
          "autoexec": {
            "startup": false,
            "wait_interval": 0
          }
        }
      },
      "cell_type": "code",
      "source": [
        "binary_vars = ['FLAG_OWN_CAR','FLAG_OWN_REALTY']"
      ],
      "execution_count": 0,
      "outputs": []
    },
    {
      "metadata": {
        "id": "IOpBo6Uj1rXC",
        "colab_type": "text"
      },
      "cell_type": "markdown",
      "source": [
        "In fact, we can do a quick check to make sure all `FLAG_*` columns really are flags:"
      ]
    },
    {
      "metadata": {
        "id": "7Ow6nrmP1Vb1",
        "colab_type": "code",
        "colab": {
          "autoexec": {
            "startup": false,
            "wait_interval": 0
          },
          "base_uri": "https://localhost:8080/",
          "height": 514
        },
        "outputId": "5879bb34-31e0-4e36-a898-a5dd2ba59649",
        "executionInfo": {
          "status": "ok",
          "timestamp": 1527752776040,
          "user_tz": 420,
          "elapsed": 497,
          "user": {
            "displayName": "Edgar Pavlovsky",
            "photoUrl": "//lh3.googleusercontent.com/-Ny57IabeLHQ/AAAAAAAAAAI/AAAAAAAAG4o/xsyDtZ2P3Ro/s50-c-k-no/photo.jpg",
            "userId": "116270002817181830687"
          }
        }
      },
      "cell_type": "code",
      "source": [
        "for col in list(train_features.columns):\n",
        "  \n",
        "  if col.split('_')[0] == 'FLAG':\n",
        "    \n",
        "    print(col, train_features[col].min(), train_features[col].max())"
      ],
      "execution_count": 26,
      "outputs": [
        {
          "output_type": "stream",
          "text": [
            "FLAG_OWN_CAR N Y\n",
            "FLAG_OWN_REALTY N Y\n",
            "FLAG_MOBIL 0 1\n",
            "FLAG_EMP_PHONE 0 1\n",
            "FLAG_WORK_PHONE 0 1\n",
            "FLAG_CONT_MOBILE 0 1\n",
            "FLAG_PHONE 0 1\n",
            "FLAG_EMAIL 0 1\n",
            "FLAG_DOCUMENT_2 0 1\n",
            "FLAG_DOCUMENT_3 0 1\n",
            "FLAG_DOCUMENT_4 0 1\n",
            "FLAG_DOCUMENT_5 0 1\n",
            "FLAG_DOCUMENT_6 0 1\n",
            "FLAG_DOCUMENT_7 0 1\n",
            "FLAG_DOCUMENT_8 0 1\n",
            "FLAG_DOCUMENT_9 0 1\n",
            "FLAG_DOCUMENT_10 0 1\n",
            "FLAG_DOCUMENT_11 0 1\n",
            "FLAG_DOCUMENT_12 0 1\n",
            "FLAG_DOCUMENT_13 0 1\n",
            "FLAG_DOCUMENT_14 0 1\n",
            "FLAG_DOCUMENT_15 0 1\n",
            "FLAG_DOCUMENT_16 0 1\n",
            "FLAG_DOCUMENT_17 0 1\n",
            "FLAG_DOCUMENT_18 0 1\n",
            "FLAG_DOCUMENT_19 0 1\n",
            "FLAG_DOCUMENT_20 0 1\n",
            "FLAG_DOCUMENT_21 0 1\n"
          ],
          "name": "stdout"
        }
      ]
    },
    {
      "metadata": {
        "id": "Jl8BSgMY2Ehl",
        "colab_type": "text"
      },
      "cell_type": "markdown",
      "source": [
        "Most are good to go as binary variables with only `0` or `1` values. Lets find all columns with only two unique values, convert them to numericals (0s and 1s), and then add all the binary columns to binary_vars."
      ]
    },
    {
      "metadata": {
        "id": "oh6I_FZIcw59",
        "colab_type": "code",
        "colab": {
          "autoexec": {
            "startup": false,
            "wait_interval": 0
          }
        }
      },
      "cell_type": "code",
      "source": [
        "# Edward's code\n",
        "# Find columns with only 2 unique values\n",
        "bin_cols = []\n",
        "for col in train_features.columns:\n",
        "  if train_features[col].unique().shape[0] == 2:\n",
        "    bin_cols.append(col)"
      ],
      "execution_count": 0,
      "outputs": []
    },
    {
      "metadata": {
        "id": "0qt2B1Pkfd38",
        "colab_type": "code",
        "colab": {
          "autoexec": {
            "startup": false,
            "wait_interval": 0
          }
        }
      },
      "cell_type": "code",
      "source": [
        "# Edward's code\n",
        "# Turn the cols with object data types into binary\n",
        "for col in bin_cols:\n",
        "  if train_features[col].dtype == 'O':\n",
        "    train[col] = pd.factorize(train[col])[0]"
      ],
      "execution_count": 0,
      "outputs": []
    },
    {
      "metadata": {
        "id": "Zy2THMHr0DYV",
        "colab_type": "code",
        "colab": {
          "autoexec": {
            "startup": false,
            "wait_interval": 0
          }
        }
      },
      "cell_type": "code",
      "source": [
        "# Edward's code\n",
        "# Then add these columns to binary_vars\n",
        "# Reinitialize the list so that we dont double add FLAG_OWN_CAR or FLAG_OWN_REALTY\n",
        "# NOTE: Binary_vars includes NAME_CONTRACT_TYPE and while this columns isnt a flag\n",
        "#   it's not like the model cares, or knows that a 1 means Yes or a 0 means No in the case\n",
        "#   of columns that are flags.\n",
        "binary_vars = []\n",
        "for col in bin_cols:\n",
        "  binary_vars.append(col)"
      ],
      "execution_count": 0,
      "outputs": []
    },
    {
      "metadata": {
        "id": "aRxqaZaC4zVl",
        "colab_type": "text"
      },
      "cell_type": "markdown",
      "source": [
        "`CNT_CHILDREN` is the \"Number of children the client has'\":"
      ]
    },
    {
      "metadata": {
        "id": "z9FTuGjb4nwC",
        "colab_type": "code",
        "colab": {
          "autoexec": {
            "startup": false,
            "wait_interval": 0
          },
          "base_uri": "https://localhost:8080/",
          "height": 141
        },
        "outputId": "a079c8cd-e642-41a1-f5b5-6930091b66d7",
        "executionInfo": {
          "status": "ok",
          "timestamp": 1527752928473,
          "user_tz": 420,
          "elapsed": 492,
          "user": {
            "displayName": "Edgar Pavlovsky",
            "photoUrl": "//lh3.googleusercontent.com/-Ny57IabeLHQ/AAAAAAAAAAI/AAAAAAAAG4o/xsyDtZ2P3Ro/s50-c-k-no/photo.jpg",
            "userId": "116270002817181830687"
          }
        }
      },
      "cell_type": "code",
      "source": [
        "train_features.CNT_CHILDREN.unique(), train_features.CNT_CHILDREN.quantile([0,0.25,0.5,0.75,1])"
      ],
      "execution_count": 38,
      "outputs": [
        {
          "output_type": "execute_result",
          "data": {
            "text/plain": [
              "(array([ 0,  1,  2,  3,  4,  7,  5,  6,  8,  9, 11, 12, 10, 19, 14]),\n",
              " 0.00     0.0\n",
              " 0.25     0.0\n",
              " 0.50     0.0\n",
              " 0.75     1.0\n",
              " 1.00    19.0\n",
              " Name: CNT_CHILDREN, dtype: float64)"
            ]
          },
          "metadata": {
            "tags": []
          },
          "execution_count": 38
        }
      ]
    },
    {
      "metadata": {
        "id": "otAT3MfM5H-3",
        "colab_type": "text"
      },
      "cell_type": "markdown",
      "source": [
        "Woahh look at those quantiles - what a skew! Let's plot a histogram really quick:"
      ]
    },
    {
      "metadata": {
        "id": "8yO1cX4z5Okp",
        "colab_type": "code",
        "colab": {
          "autoexec": {
            "startup": false,
            "wait_interval": 0
          },
          "base_uri": "https://localhost:8080/",
          "height": 346
        },
        "outputId": "c4eedcaf-4e21-40c6-f2df-df2167a6c5ab",
        "executionInfo": {
          "status": "ok",
          "timestamp": 1527752931253,
          "user_tz": 420,
          "elapsed": 653,
          "user": {
            "displayName": "Edgar Pavlovsky",
            "photoUrl": "//lh3.googleusercontent.com/-Ny57IabeLHQ/AAAAAAAAAAI/AAAAAAAAG4o/xsyDtZ2P3Ro/s50-c-k-no/photo.jpg",
            "userId": "116270002817181830687"
          }
        }
      },
      "cell_type": "code",
      "source": [
        "plt.close()\n",
        "train_features.CNT_CHILDREN.hist(bins=100)\n",
        "plt.show()"
      ],
      "execution_count": 39,
      "outputs": [
        {
          "output_type": "display_data",
          "data": {
            "image/png": "[encoded data removed]",
            "text/plain": [
              "<matplotlib.figure.Figure at 0x7f710460a1d0>"
            ]
          },
          "metadata": {
            "tags": []
          }
        }
      ]
    },
    {
      "metadata": {
        "id": "U4zlYoS95Z_T",
        "colab_type": "text"
      },
      "cell_type": "markdown",
      "source": [
        "With this kind of skew, it's important to use the `median` instead of the `mean` when filling nulls so that the long right tail we have doesnt' bias our numbers. In general, I prefer the median over the mean when data is dense - that way you don't have to worry as much about the skew. Looking at our table of % null above, it doesn't look like `CNT_CHILDREN` has any nulls - so no filling nulls necessary here!"
      ]
    },
    {
      "metadata": {
        "id": "B64PLO3q59qs",
        "colab_type": "code",
        "colab": {
          "autoexec": {
            "startup": false,
            "wait_interval": 0
          }
        }
      },
      "cell_type": "code",
      "source": [
        "num_vars = ['CNT_CHILDREN']"
      ],
      "execution_count": 0,
      "outputs": []
    },
    {
      "metadata": {
        "id": "CnWs1VBP7MXl",
        "colab_type": "text"
      },
      "cell_type": "markdown",
      "source": [
        "The next columns are `AMT_INCOME_TOTAL`,`AMT_CREDIT`,`AMT_ANNUITY`,`AMT_GOODS_PRICE`. Looking at our nulls table above `train_features_nulls`, most of these columns don't have any nulls. `AMT_ANNUITY` and `AMT_GOODS_PRICE` do.\n",
        "\n",
        "`AMT_ANNUITY`: Loan annuity\n",
        "\n",
        "`AMT_GOODS_PRICE`: For consumer loans it is the price of the goods for which the loan is given"
      ]
    },
    {
      "metadata": {
        "id": "URFp-W7c6IoZ",
        "colab_type": "code",
        "colab": {
          "autoexec": {
            "startup": false,
            "wait_interval": 0
          },
          "base_uri": "https://localhost:8080/",
          "height": 123
        },
        "outputId": "65c639e0-2e71-4ce0-c851-965aacda62cf",
        "executionInfo": {
          "status": "ok",
          "timestamp": 1527752937316,
          "user_tz": 420,
          "elapsed": 347,
          "user": {
            "displayName": "Edgar Pavlovsky",
            "photoUrl": "//lh3.googleusercontent.com/-Ny57IabeLHQ/AAAAAAAAAAI/AAAAAAAAG4o/xsyDtZ2P3Ro/s50-c-k-no/photo.jpg",
            "userId": "116270002817181830687"
          }
        }
      },
      "cell_type": "code",
      "source": [
        "train_features.AMT_ANNUITY.quantile([0,0.25,0.5,0.75,1])"
      ],
      "execution_count": 41,
      "outputs": [
        {
          "output_type": "execute_result",
          "data": {
            "text/plain": [
              "0.00      1615.5\n",
              "0.25     16524.0\n",
              "0.50     24903.0\n",
              "0.75     34596.0\n",
              "1.00    258025.5\n",
              "Name: AMT_ANNUITY, dtype: float64"
            ]
          },
          "metadata": {
            "tags": []
          },
          "execution_count": 41
        }
      ]
    },
    {
      "metadata": {
        "id": "l8Zg4oui7sad",
        "colab_type": "code",
        "colab": {
          "autoexec": {
            "startup": false,
            "wait_interval": 0
          },
          "base_uri": "https://localhost:8080/",
          "height": 364
        },
        "outputId": "4ce17014-5f9f-407c-99c0-c9327f820852",
        "executionInfo": {
          "status": "ok",
          "timestamp": 1527752945377,
          "user_tz": 420,
          "elapsed": 524,
          "user": {
            "displayName": "Edgar Pavlovsky",
            "photoUrl": "//lh3.googleusercontent.com/-Ny57IabeLHQ/AAAAAAAAAAI/AAAAAAAAG4o/xsyDtZ2P3Ro/s50-c-k-no/photo.jpg",
            "userId": "116270002817181830687"
          }
        }
      },
      "cell_type": "code",
      "source": [
        "train_features.AMT_ANNUITY.hist(bins=100)"
      ],
      "execution_count": 42,
      "outputs": [
        {
          "output_type": "execute_result",
          "data": {
            "text/plain": [
              "<matplotlib.axes._subplots.AxesSubplot at 0x7f7104580e80>"
            ]
          },
          "metadata": {
            "tags": []
          },
          "execution_count": 42
        },
        {
          "output_type": "display_data",
          "data": {
            "image/png": "[encoded data removed]",
            "text/plain": [
              "<matplotlib.figure.Figure at 0x7f710460a160>"
            ]
          },
          "metadata": {
            "tags": []
          }
        }
      ]
    },
    {
      "metadata": {
        "id": "lAPT59RJ7ype",
        "colab_type": "text"
      },
      "cell_type": "markdown",
      "source": [
        "Also a right skew. Let's use the median to fill null values:"
      ]
    },
    {
      "metadata": {
        "id": "7BUCM74fip_3",
        "colab_type": "code",
        "colab": {
          "autoexec": {
            "startup": false,
            "wait_interval": 0
          },
          "base_uri": "https://localhost:8080/",
          "height": 105
        },
        "outputId": "74ba8bea-8656-4f51-82f9-3c938c377afe",
        "executionInfo": {
          "status": "ok",
          "timestamp": 1527752945960,
          "user_tz": 420,
          "elapsed": 435,
          "user": {
            "displayName": "Edgar Pavlovsky",
            "photoUrl": "//lh3.googleusercontent.com/-Ny57IabeLHQ/AAAAAAAAAAI/AAAAAAAAG4o/xsyDtZ2P3Ro/s50-c-k-no/photo.jpg",
            "userId": "116270002817181830687"
          }
        }
      },
      "cell_type": "code",
      "source": [
        "# Edward's code\n",
        "# Using fillna\n",
        "\n",
        "# I think you could also get rid of the function before getting median and just do\n",
        "train_features.AMT_ANNUITY.fillna(train_features.AMT_ANNUITY.median(), inplace=True)"
      ],
      "execution_count": 43,
      "outputs": [
        {
          "output_type": "stream",
          "text": [
            "/usr/local/lib/python3.6/dist-packages/pandas/core/generic.py:4355: SettingWithCopyWarning: \n",
            "A value is trying to be set on a copy of a slice from a DataFrame\n",
            "\n",
            "See the caveats in the documentation: http://pandas.pydata.org/pandas-docs/stable/indexing.html#indexing-view-versus-copy\n",
            "  self._update_inplace(new_data)\n"
          ],
          "name": "stderr"
        }
      ]
    },
    {
      "metadata": {
        "id": "Mz_okzoN8z1z",
        "colab_type": "code",
        "colab": {
          "autoexec": {
            "startup": false,
            "wait_interval": 0
          },
          "base_uri": "https://localhost:8080/",
          "height": 34
        },
        "outputId": "b9805cab-84ed-444b-b150-3e6660fb7868",
        "executionInfo": {
          "status": "ok",
          "timestamp": 1527752947276,
          "user_tz": 420,
          "elapsed": 336,
          "user": {
            "displayName": "Edgar Pavlovsky",
            "photoUrl": "//lh3.googleusercontent.com/-Ny57IabeLHQ/AAAAAAAAAAI/AAAAAAAAG4o/xsyDtZ2P3Ro/s50-c-k-no/photo.jpg",
            "userId": "116270002817181830687"
          }
        }
      },
      "cell_type": "code",
      "source": [
        "train_features.AMT_ANNUITY.isnull().sum()"
      ],
      "execution_count": 44,
      "outputs": [
        {
          "output_type": "execute_result",
          "data": {
            "text/plain": [
              "0"
            ]
          },
          "metadata": {
            "tags": []
          },
          "execution_count": 44
        }
      ]
    },
    {
      "metadata": {
        "id": "6dMXXMMb82lM",
        "colab_type": "code",
        "colab": {
          "autoexec": {
            "startup": false,
            "wait_interval": 0
          }
        }
      },
      "cell_type": "code",
      "source": [
        "# [x for x in train_features.AMT_ANNUITY if x*0 != 0]"
      ],
      "execution_count": 0,
      "outputs": []
    },
    {
      "metadata": {
        "id": "g0csG7ru59oP",
        "colab_type": "code",
        "colab": {
          "autoexec": {
            "startup": false,
            "wait_interval": 0
          }
        }
      },
      "cell_type": "code",
      "source": [
        "# n = [x for x in train_features.AMT_ANNUITY if x*0 != 0][0]"
      ],
      "execution_count": 0,
      "outputs": []
    },
    {
      "metadata": {
        "id": "hbXGNwJP59lb",
        "colab_type": "code",
        "colab": {
          "autoexec": {
            "startup": false,
            "wait_interval": 0
          }
        }
      },
      "cell_type": "code",
      "source": [
        "# train_features.AMT_ANNUITY = train_features.AMT_ANNUITY.apply(lambda x: med if x*0 != 0 else x)"
      ],
      "execution_count": 0,
      "outputs": []
    },
    {
      "metadata": {
        "id": "j4NNFY4d59iC",
        "colab_type": "code",
        "colab": {
          "autoexec": {
            "startup": false,
            "wait_interval": 0
          }
        }
      },
      "cell_type": "code",
      "source": [
        "# train_features.AMT_ANNUITY.isnull().sum()"
      ],
      "execution_count": 0,
      "outputs": []
    },
    {
      "metadata": {
        "id": "fyyCmbqA-Jeg",
        "colab_type": "code",
        "colab": {
          "autoexec": {
            "startup": false,
            "wait_interval": 0
          },
          "base_uri": "https://localhost:8080/",
          "height": 364
        },
        "outputId": "461fad8b-40dd-49a1-ec3d-df02487a7a74",
        "executionInfo": {
          "status": "ok",
          "timestamp": 1527752951445,
          "user_tz": 420,
          "elapsed": 623,
          "user": {
            "displayName": "Edgar Pavlovsky",
            "photoUrl": "//lh3.googleusercontent.com/-Ny57IabeLHQ/AAAAAAAAAAI/AAAAAAAAG4o/xsyDtZ2P3Ro/s50-c-k-no/photo.jpg",
            "userId": "116270002817181830687"
          }
        }
      },
      "cell_type": "code",
      "source": [
        "train_features.AMT_GOODS_PRICE.hist(bins=50)"
      ],
      "execution_count": 49,
      "outputs": [
        {
          "output_type": "execute_result",
          "data": {
            "text/plain": [
              "<matplotlib.axes._subplots.AxesSubplot at 0x7f710451d160>"
            ]
          },
          "metadata": {
            "tags": []
          },
          "execution_count": 49
        },
        {
          "output_type": "display_data",
          "data": {
            "image/png": "[encoded data removed]",
            "text/plain": [
              "<matplotlib.figure.Figure at 0x7f710451dba8>"
            ]
          },
          "metadata": {
            "tags": []
          }
        }
      ]
    },
    {
      "metadata": {
        "id": "At7Cg_oB-QaO",
        "colab_type": "text"
      },
      "cell_type": "markdown",
      "source": [
        "Also a skew."
      ]
    },
    {
      "metadata": {
        "id": "oqj_5LJf-Jbv",
        "colab_type": "code",
        "colab": {
          "autoexec": {
            "startup": false,
            "wait_interval": 0
          },
          "base_uri": "https://localhost:8080/",
          "height": 105
        },
        "outputId": "49725d08-2914-42da-d56f-a8ed0d892073",
        "executionInfo": {
          "status": "ok",
          "timestamp": 1527752952391,
          "user_tz": 420,
          "elapsed": 701,
          "user": {
            "displayName": "Edgar Pavlovsky",
            "photoUrl": "//lh3.googleusercontent.com/-Ny57IabeLHQ/AAAAAAAAAAI/AAAAAAAAG4o/xsyDtZ2P3Ro/s50-c-k-no/photo.jpg",
            "userId": "116270002817181830687"
          }
        }
      },
      "cell_type": "code",
      "source": [
        "train_features.AMT_GOODS_PRICE.fillna(train_features.AMT_GOODS_PRICE.median(), inplace=True)"
      ],
      "execution_count": 50,
      "outputs": [
        {
          "output_type": "stream",
          "text": [
            "/usr/local/lib/python3.6/dist-packages/pandas/core/generic.py:4355: SettingWithCopyWarning: \n",
            "A value is trying to be set on a copy of a slice from a DataFrame\n",
            "\n",
            "See the caveats in the documentation: http://pandas.pydata.org/pandas-docs/stable/indexing.html#indexing-view-versus-copy\n",
            "  self._update_inplace(new_data)\n"
          ],
          "name": "stderr"
        }
      ]
    },
    {
      "metadata": {
        "id": "GkNyGubL-JYl",
        "colab_type": "code",
        "colab": {
          "autoexec": {
            "startup": false,
            "wait_interval": 0
          },
          "base_uri": "https://localhost:8080/",
          "height": 34
        },
        "outputId": "6e14ef37-c521-4fdf-985e-0cbb93b8c2af",
        "executionInfo": {
          "status": "ok",
          "timestamp": 1527752953499,
          "user_tz": 420,
          "elapsed": 339,
          "user": {
            "displayName": "Edgar Pavlovsky",
            "photoUrl": "//lh3.googleusercontent.com/-Ny57IabeLHQ/AAAAAAAAAAI/AAAAAAAAG4o/xsyDtZ2P3Ro/s50-c-k-no/photo.jpg",
            "userId": "116270002817181830687"
          }
        }
      },
      "cell_type": "code",
      "source": [
        "train_features.AMT_GOODS_PRICE.isnull().sum()"
      ],
      "execution_count": 51,
      "outputs": [
        {
          "output_type": "execute_result",
          "data": {
            "text/plain": [
              "0"
            ]
          },
          "metadata": {
            "tags": []
          },
          "execution_count": 51
        }
      ]
    },
    {
      "metadata": {
        "id": "k61AaX6v-JVB",
        "colab_type": "code",
        "colab": {
          "autoexec": {
            "startup": false,
            "wait_interval": 0
          }
        }
      },
      "cell_type": "code",
      "source": [
        "current_cols = ['AMT_INCOME_TOTAL','AMT_CREDIT','AMT_ANNUITY','AMT_GOODS_PRICE']\n",
        "\n",
        "num_vars += current_cols"
      ],
      "execution_count": 0,
      "outputs": []
    },
    {
      "metadata": {
        "id": "2ae3T1s0_GFf",
        "colab_type": "text"
      },
      "cell_type": "markdown",
      "source": [
        "Looking at `NAME_TYPE_SUITE`, this is a categorical column and we will create dummies from it. We can leave the nulls here."
      ]
    },
    {
      "metadata": {
        "id": "1xbIq38v-_qt",
        "colab_type": "code",
        "colab": {
          "autoexec": {
            "startup": false,
            "wait_interval": 0
          },
          "base_uri": "https://localhost:8080/",
          "height": 52
        },
        "outputId": "c6100bb3-ccea-4313-f98b-31e1e43c1065",
        "executionInfo": {
          "status": "ok",
          "timestamp": 1527752954741,
          "user_tz": 420,
          "elapsed": 284,
          "user": {
            "displayName": "Edgar Pavlovsky",
            "photoUrl": "//lh3.googleusercontent.com/-Ny57IabeLHQ/AAAAAAAAAAI/AAAAAAAAG4o/xsyDtZ2P3Ro/s50-c-k-no/photo.jpg",
            "userId": "116270002817181830687"
          }
        }
      },
      "cell_type": "code",
      "source": [
        "train_features.NAME_TYPE_SUITE.unique()"
      ],
      "execution_count": 53,
      "outputs": [
        {
          "output_type": "execute_result",
          "data": {
            "text/plain": [
              "array(['Unaccompanied', 'Family', 'Spouse, partner', 'Children',\n",
              "       'Other_A', nan, 'Other_B', 'Group of people'], dtype=object)"
            ]
          },
          "metadata": {
            "tags": []
          },
          "execution_count": 53
        }
      ]
    },
    {
      "metadata": {
        "id": "U0zMeEBE-_9I",
        "colab_type": "code",
        "colab": {
          "autoexec": {
            "startup": false,
            "wait_interval": 0
          }
        }
      },
      "cell_type": "code",
      "source": [
        "cat_vars.append('NAME_TYPE_SUITE')"
      ],
      "execution_count": 0,
      "outputs": []
    },
    {
      "metadata": {
        "id": "KEnbRZCj_Yrx",
        "colab_type": "text"
      },
      "cell_type": "markdown",
      "source": [
        "Let's look at this group now:\n",
        "\n",
        "```\n",
        "NAME_INCOME_TYPE\n",
        "NAME_EDUCATION_TYPE\n",
        "NAME_FAMILY_STATUS\n",
        "NAME_HOUSING_TYPE\n",
        "```"
      ]
    },
    {
      "metadata": {
        "id": "me38pM5T_XXb",
        "colab_type": "code",
        "colab": {
          "autoexec": {
            "startup": false,
            "wait_interval": 0
          },
          "base_uri": "https://localhost:8080/",
          "height": 230
        },
        "outputId": "c1c62b63-2f30-4d2f-d37c-0b77e011fe78",
        "executionInfo": {
          "status": "ok",
          "timestamp": 1527752956210,
          "user_tz": 420,
          "elapsed": 439,
          "user": {
            "displayName": "Edgar Pavlovsky",
            "photoUrl": "//lh3.googleusercontent.com/-Ny57IabeLHQ/AAAAAAAAAAI/AAAAAAAAG4o/xsyDtZ2P3Ro/s50-c-k-no/photo.jpg",
            "userId": "116270002817181830687"
          }
        }
      },
      "cell_type": "code",
      "source": [
        "for col in ['NAME_INCOME_TYPE','NAME_EDUCATION_TYPE','NAME_FAMILY_STATUS','NAME_HOUSING_TYPE']:\n",
        "  \n",
        "  print(col,train_features[col].unique())\n",
        "  print('--')"
      ],
      "execution_count": 55,
      "outputs": [
        {
          "output_type": "stream",
          "text": [
            "NAME_INCOME_TYPE ['Working' 'State servant' 'Commercial associate' 'Pensioner' 'Unemployed'\n",
            " 'Student' 'Businessman' 'Maternity leave']\n",
            "--\n",
            "NAME_EDUCATION_TYPE ['Secondary / secondary special' 'Higher education' 'Incomplete higher'\n",
            " 'Lower secondary' 'Academic degree']\n",
            "--\n",
            "NAME_FAMILY_STATUS ['Single / not married' 'Married' 'Civil marriage' 'Widow' 'Separated'\n",
            " 'Unknown']\n",
            "--\n",
            "NAME_HOUSING_TYPE ['House / apartment' 'Rented apartment' 'With parents'\n",
            " 'Municipal apartment' 'Office apartment' 'Co-op apartment']\n",
            "--\n"
          ],
          "name": "stdout"
        }
      ]
    },
    {
      "metadata": {
        "id": "bGDXSqkP_sUo",
        "colab_type": "text"
      },
      "cell_type": "markdown",
      "source": [
        "These are all cat vars and we can create dummies for them."
      ]
    },
    {
      "metadata": {
        "id": "FxJSZmfG-_5i",
        "colab_type": "code",
        "colab": {
          "autoexec": {
            "startup": false,
            "wait_interval": 0
          }
        }
      },
      "cell_type": "code",
      "source": [
        "for col in ['NAME_INCOME_TYPE','NAME_EDUCATION_TYPE','NAME_FAMILY_STATUS','NAME_HOUSING_TYPE']:\n",
        "  \n",
        "  cat_vars.append(col)"
      ],
      "execution_count": 0,
      "outputs": []
    },
    {
      "metadata": {
        "id": "P0F8iXgz_5nV",
        "colab_type": "text"
      },
      "cell_type": "markdown",
      "source": [
        "`REGION_POPULATION_RELATIVE` is defined as \"Normalized population of region where client lives (higher number means the client lives in more populated region)\".\n",
        "\n",
        "There's an important keyword here - normalized! Although not relevant for all models, normalization can help models that rely on linearity. Taking another look, there are many columns with normalized (and therefore numerical) data:\n",
        "\n",
        "```\n",
        "REGION_POPULATION_RELATIVE\n",
        "EXT_SOURCE_1\n",
        "EXT_SOURCE_2\n",
        "EXT_SOURCE_3\n",
        "APARTMENTS_AVG\n",
        "BASEMENTAREA_AVG\n",
        "YEARS_BEGINEXPLUATATION_AVG\n",
        "YEARS_BUILD_AVG\n",
        "COMMONAREA_AVG\n",
        "ELEVATORS_AVG\n",
        "ENTRANCES_AVG\n",
        "FLOORSMAX_AVG\n",
        "FLOORSMIN_AVG\n",
        "LANDAREA_AVG\n",
        "LIVINGAPARTMENTS_AVG\n",
        "LIVINGAREA_AVG\n",
        "NONLIVINGAPARTMENTS_AVG\n",
        "NONLIVINGAREA_AVG\n",
        "APARTMENTS_MODE\n",
        "BASEMENTAREA_MODE\n",
        "YEARS_BEGINEXPLUATATION_MODE\n",
        "YEARS_BUILD_MODE\n",
        "COMMONAREA_MODE\n",
        "ELEVATORS_MODE\n",
        "ENTRANCES_MODE\n",
        "FLOORSMAX_MODE\n",
        "FLOORSMIN_MODE\n",
        "LANDAREA_MODE\n",
        "LIVINGAPARTMENTS_MODE\n",
        "LIVINGAREA_MODE\n",
        "NONLIVINGAPARTMENTS_MODE\n",
        "NONLIVINGAREA_MODE\n",
        "APARTMENTS_MEDI\n",
        "BASEMENTAREA_MEDI\n",
        "YEARS_BEGINEXPLUATATION_MEDI\n",
        "YEARS_BUILD_MEDI\n",
        "COMMONAREA_MEDI\n",
        "ELEVATORS_MEDI\n",
        "ENTRANCES_MEDI\n",
        "FLOORSMAX_MEDI\n",
        "FLOORSMIN_MEDI\n",
        "LANDAREA_MEDI\n",
        "LIVINGAPARTMENTS_MEDI\n",
        "LIVINGAREA_MEDI\n",
        "NONLIVINGAPARTMENTS_MEDI\n",
        "NONLIVINGAREA_MEDI\n",
        "FONDKAPREMONT_MODE\n",
        "HOUSETYPE_MODE\n",
        "TOTALAREA_MODE\n",
        "WALLSMATERIAL_MODE\n",
        "EMERGENCYSTATE_MODE\n",
        "```\n",
        "\n",
        "This is a lot of columns - for now, let's leave them for now the way they are."
      ]
    },
    {
      "metadata": {
        "id": "8W3Qfr8F_zk-",
        "colab_type": "code",
        "colab": {
          "autoexec": {
            "startup": false,
            "wait_interval": 0
          }
        }
      },
      "cell_type": "code",
      "source": [
        "current_cols = ['REGION_POPULATION_RELATIVE',\\\n",
        "'EXT_SOURCE_1',\\\n",
        "'EXT_SOURCE_2',\\\n",
        "'EXT_SOURCE_3',\\\n",
        "'APARTMENTS_AVG',\\\n",
        "'BASEMENTAREA_AVG',\\\n",
        "'YEARS_BEGINEXPLUATATION_AVG',\\\n",
        "'YEARS_BUILD_AVG',\\\n",
        "'COMMONAREA_AVG',\\\n",
        "'ELEVATORS_AVG',\\\n",
        "'ENTRANCES_AVG',\\\n",
        "'FLOORSMAX_AVG',\\\n",
        "'FLOORSMIN_AVG',\\\n",
        "'LANDAREA_AVG',\\\n",
        "'LIVINGAPARTMENTS_AVG',\\\n",
        "'LIVINGAREA_AVG',\\\n",
        "'NONLIVINGAPARTMENTS_AVG',\\\n",
        "'NONLIVINGAREA_AVG',\\\n",
        "'APARTMENTS_MODE',\\\n",
        "'BASEMENTAREA_MODE',\\\n",
        "'YEARS_BEGINEXPLUATATION_MODE',\\\n",
        "'YEARS_BUILD_MODE',\\\n",
        "'COMMONAREA_MODE',\\\n",
        "'ELEVATORS_MODE',\\\n",
        "'ENTRANCES_MODE',\\\n",
        "'FLOORSMAX_MODE',\\\n",
        "'FLOORSMIN_MODE',\\\n",
        "'LANDAREA_MODE',\\\n",
        "'LIVINGAPARTMENTS_MODE',\\\n",
        "'LIVINGAREA_MODE',\\\n",
        "'NONLIVINGAPARTMENTS_MODE',\\\n",
        "'NONLIVINGAREA_MODE',\\\n",
        "'APARTMENTS_MEDI',\\\n",
        "'BASEMENTAREA_MEDI',\\\n",
        "'YEARS_BEGINEXPLUATATION_MEDI',\\\n",
        "'YEARS_BUILD_MEDI',\\\n",
        "'COMMONAREA_MEDI',\\\n",
        "'ELEVATORS_MEDI',\\\n",
        "'ENTRANCES_MEDI',\\\n",
        "'FLOORSMAX_MEDI',\\\n",
        "'FLOORSMIN_MEDI',\\\n",
        "'LANDAREA_MEDI',\\\n",
        "'LIVINGAPARTMENTS_MEDI',\\\n",
        "'LIVINGAREA_MEDI',\\\n",
        "'NONLIVINGAPARTMENTS_MEDI',\\\n",
        "'NONLIVINGAREA_MEDI',\\\n",
        "'FONDKAPREMONT_MODE',\\\n",
        "'HOUSETYPE_MODE',\\\n",
        "'TOTALAREA_MODE',\\\n",
        "'WALLSMATERIAL_MODE',\\\n",
        "'EMERGENCYSTATE_MODE']"
      ],
      "execution_count": 0,
      "outputs": []
    },
    {
      "metadata": {
        "id": "QHP_AOX4_zg_",
        "colab_type": "code",
        "colab": {
          "autoexec": {
            "startup": false,
            "wait_interval": 0
          },
          "base_uri": "https://localhost:8080/",
          "height": 34
        },
        "outputId": "2fc76e6e-bd70-499d-8e15-d1a311649344",
        "executionInfo": {
          "status": "ok",
          "timestamp": 1527752958219,
          "user_tz": 420,
          "elapsed": 311,
          "user": {
            "displayName": "Edgar Pavlovsky",
            "photoUrl": "//lh3.googleusercontent.com/-Ny57IabeLHQ/AAAAAAAAAAI/AAAAAAAAG4o/xsyDtZ2P3Ro/s50-c-k-no/photo.jpg",
            "userId": "116270002817181830687"
          }
        }
      },
      "cell_type": "code",
      "source": [
        "list(set([type(train_features[x][0]) for x in current_cols]))"
      ],
      "execution_count": 58,
      "outputs": [
        {
          "output_type": "execute_result",
          "data": {
            "text/plain": [
              "[str, numpy.float64]"
            ]
          },
          "metadata": {
            "tags": []
          },
          "execution_count": 58
        }
      ]
    },
    {
      "metadata": {
        "id": "_VcNdwLYHjIW",
        "colab_type": "code",
        "colab": {
          "autoexec": {
            "startup": false,
            "wait_interval": 0
          }
        }
      },
      "cell_type": "code",
      "source": [
        "for col in current_cols:\n",
        "  \n",
        "  if type(train_features[col][0]) == str:\n",
        "    \n",
        "    cat_vars.append(col)\n",
        "    \n",
        "  else:\n",
        "    \n",
        "    num_vars.append(col)"
      ],
      "execution_count": 0,
      "outputs": []
    },
    {
      "metadata": {
        "id": "xfHy7Tu74z5k",
        "colab_type": "text"
      },
      "cell_type": "markdown",
      "source": [
        "There are a few columns that look at \"age\" in one way or another:\n",
        "\n",
        "**`DAYS_BIRTH`:** Client's age in days at the time of application\n",
        "\n",
        "**`DAYS_EMPLOYED`:** How many days before the application the person started current employment\n",
        "\n",
        "**`DAYS_REGISTRATION`:** How many days before the application did client change his registration\n",
        "\n",
        "**`DAYS_ID_PUBLISH`:** How many days before the application did client change the identity document with which he applied for the loan\n",
        "\n",
        "**`OWN_CAR_AGE`:** Age of client's car\n",
        "\n",
        "**`DAYS_LAST_PHONE_CHANGE`:** How many days before application did client change phone\n",
        "\n",
        "Most of these columns have an interesting note: \"time only relative to the application\".\n",
        "\n",
        "Let's explore further."
      ]
    },
    {
      "metadata": {
        "id": "h4TgckGM8JIM",
        "colab_type": "text"
      },
      "cell_type": "markdown",
      "source": [
        "Most of these columns have no null values. `DAYS_LAST_PHONE_CHANGE` has 1 null value, which we'll ignore for now given the model that we use will be able to handle nulls by itself if it has to.\n",
        "\n",
        "`OWN_CAR_AGE` is a different story though - from our % nulls table above, 65% of this feature's samples are null. We can generate a new feature from this called `HAVE_CAR_AGE`, which is a binary defined as:\n",
        "\n",
        "*Do we have the age of this individual's car?*\n",
        "\n",
        "We can create it like this:"
      ]
    },
    {
      "metadata": {
        "id": "d6qggEma_zeA",
        "colab_type": "code",
        "colab": {
          "autoexec": {
            "startup": false,
            "wait_interval": 0
          }
        }
      },
      "cell_type": "code",
      "source": [
        "train_features['HAVE_CAR_AGE'] = train_features['OWN_CAR_AGE'].apply(lambda x: 1 if x*0 == 0 else 0)"
      ],
      "execution_count": 0,
      "outputs": []
    },
    {
      "metadata": {
        "id": "1seXrcDF9CKv",
        "colab_type": "text"
      },
      "cell_type": "markdown",
      "source": [
        "Let's leave nulls in `OWN_CAR_AGE` the way they are for now."
      ]
    },
    {
      "metadata": {
        "id": "OOOJBhpL-NJ8",
        "colab_type": "code",
        "colab": {
          "autoexec": {
            "startup": false,
            "wait_interval": 0
          }
        }
      },
      "cell_type": "code",
      "source": [
        "num_vars.append('OWN_CAR_AGE')\n",
        "binary_vars.append('HAVE_CAR_AGE')"
      ],
      "execution_count": 0,
      "outputs": []
    },
    {
      "metadata": {
        "id": "yFchTpZR9X6L",
        "colab_type": "text"
      },
      "cell_type": "markdown",
      "source": [
        "Next up, `OCCUPATION_TYPE`. Here's where things start getting interesting. Let's look at how many unique occupations we have in our dataset:"
      ]
    },
    {
      "metadata": {
        "id": "8Y2NtYAA_zaQ",
        "colab_type": "code",
        "colab": {
          "autoexec": {
            "startup": false,
            "wait_interval": 0
          },
          "base_uri": "https://localhost:8080/",
          "height": 123
        },
        "outputId": "316c07d3-dfb3-42d7-fed1-9559f8267fd8",
        "executionInfo": {
          "status": "ok",
          "timestamp": 1527752978936,
          "user_tz": 420,
          "elapsed": 349,
          "user": {
            "displayName": "Edgar Pavlovsky",
            "photoUrl": "//lh3.googleusercontent.com/-Ny57IabeLHQ/AAAAAAAAAAI/AAAAAAAAG4o/xsyDtZ2P3Ro/s50-c-k-no/photo.jpg",
            "userId": "116270002817181830687"
          }
        }
      },
      "cell_type": "code",
      "source": [
        "unique_occupation_types = train_features.OCCUPATION_TYPE.unique()\n",
        "print(unique_occupation_types)\n",
        "print(len(unique_occupation_types))\n"
      ],
      "execution_count": 62,
      "outputs": [
        {
          "output_type": "stream",
          "text": [
            "['Laborers' 'Core staff' 'Accountants' 'Managers' nan 'Drivers'\n",
            " 'Sales staff' 'Cleaning staff' 'Cooking staff' 'Private service staff'\n",
            " 'Medicine staff' 'Security staff' 'High skill tech staff'\n",
            " 'Waiters/barmen staff' 'Low-skill Laborers' 'Realty agents' 'Secretaries'\n",
            " 'IT staff' 'HR staff']\n",
            "19\n"
          ],
          "name": "stdout"
        }
      ]
    },
    {
      "metadata": {
        "id": "7psk4y4B9lzc",
        "colab_type": "text"
      },
      "cell_type": "markdown",
      "source": [
        "19 is not all that many. Could we engineer some additional new features, using these occupation types as groupings? We can, for example, get a percentile for any continuous variable for each individual _within_ their occupation type - getting the percentile that a Laborer's income is at relative only to other Laborer's. In order to do that, though, we should probably finish cleaning all of our numerical variables. Let's see which ones we have left:"
      ]
    },
    {
      "metadata": {
        "id": "ZRA7jskz_RSC",
        "colab_type": "text"
      },
      "cell_type": "markdown",
      "source": [
        "A count of family members:"
      ]
    },
    {
      "metadata": {
        "id": "8xMqvzHI_T6i",
        "colab_type": "code",
        "colab": {
          "autoexec": {
            "startup": false,
            "wait_interval": 0
          },
          "base_uri": "https://localhost:8080/",
          "height": 364
        },
        "outputId": "3f2226a3-b98b-4ec8-b664-459141cb726c",
        "executionInfo": {
          "status": "ok",
          "timestamp": 1527752979855,
          "user_tz": 420,
          "elapsed": 537,
          "user": {
            "displayName": "Edgar Pavlovsky",
            "photoUrl": "//lh3.googleusercontent.com/-Ny57IabeLHQ/AAAAAAAAAAI/AAAAAAAAG4o/xsyDtZ2P3Ro/s50-c-k-no/photo.jpg",
            "userId": "116270002817181830687"
          }
        }
      },
      "cell_type": "code",
      "source": [
        "train_features.CNT_FAM_MEMBERS.hist(bins=50)"
      ],
      "execution_count": 63,
      "outputs": [
        {
          "output_type": "execute_result",
          "data": {
            "text/plain": [
              "<matplotlib.axes._subplots.AxesSubplot at 0x7f71045a20b8>"
            ]
          },
          "metadata": {
            "tags": []
          },
          "execution_count": 63
        },
        {
          "output_type": "display_data",
          "data": {
            "image/png": "[encoded data removed]",
            "text/plain": [
              "<matplotlib.figure.Figure at 0x7f7104518358>"
            ]
          },
          "metadata": {
            "tags": []
          }
        }
      ]
    },
    {
      "metadata": {
        "id": "-uOdoyN8_mqU",
        "colab_type": "text"
      },
      "cell_type": "markdown",
      "source": [
        "We can create an additional quick feature here. We have `CNT_CHILDREN` and `CNT_FAM_MEMBERS`, so we can create a feature that is (`CNT_CHILDREN`/`CNT_FAM_MEMBERS`) - the % of the individuals family members that are their children:"
      ]
    },
    {
      "metadata": {
        "id": "ODZ7Y_te_lzV",
        "colab_type": "code",
        "colab": {
          "autoexec": {
            "startup": false,
            "wait_interval": 0
          }
        }
      },
      "cell_type": "code",
      "source": [
        "train_features['PERC_FAM_MEMBERS_CHILDREN'] = (1.0 * train_features.CNT_CHILDREN) / train_features.CNT_FAM_MEMBERS\n",
        "\n",
        "num_vars += ['CNT_FAM_MEMBERS','PERC_FAM_MEMBERS_CHILDREN']"
      ],
      "execution_count": 0,
      "outputs": []
    },
    {
      "metadata": {
        "id": "wsk4qsIdALCf",
        "colab_type": "text"
      },
      "cell_type": "markdown",
      "source": [
        "We'll keep `REGION_RATING_CLIENT` and `REGION_RATING_CLIENT_W_CITY` as they are right now:\n"
      ]
    },
    {
      "metadata": {
        "id": "9Ymc8IE9Aa-V",
        "colab_type": "code",
        "colab": {
          "autoexec": {
            "startup": false,
            "wait_interval": 0
          }
        }
      },
      "cell_type": "code",
      "source": [
        "num_vars += ['REGION_RATING_CLIENT','REGION_RATING_CLIENT_W_CITY']"
      ],
      "execution_count": 0,
      "outputs": []
    },
    {
      "metadata": {
        "id": "WeQF5rehBCZ8",
        "colab_type": "text"
      },
      "cell_type": "markdown",
      "source": [
        "Same with `*_SOCIAL_CIRLCE` features:"
      ]
    },
    {
      "metadata": {
        "id": "Lby-le6jAa6I",
        "colab_type": "code",
        "colab": {
          "autoexec": {
            "startup": false,
            "wait_interval": 0
          }
        }
      },
      "cell_type": "code",
      "source": [
        "num_vars += ['OBS_30_CNT_SOCIAL_CIRCLE','DEF_30_CNT_SOCIAL_CIRCLE','OBS_60_CNT_SOCIAL_CIRCLE','DEF_60_CNT_SOCIAL_CIRCLE']"
      ],
      "execution_count": 0,
      "outputs": []
    },
    {
      "metadata": {
        "id": "JkStrV80BTko",
        "colab_type": "text"
      },
      "cell_type": "markdown",
      "source": [
        "Same with the remaining `AMT_*` features:"
      ]
    },
    {
      "metadata": {
        "id": "hX-e7b3sAa23",
        "colab_type": "code",
        "colab": {
          "autoexec": {
            "startup": false,
            "wait_interval": 0
          }
        }
      },
      "cell_type": "code",
      "source": [
        "num_vars += ['AMT_REQ_CREDIT_BUREAU_HOUR',\\\n",
        "             'AMT_REQ_CREDIT_BUREAU_DAY',\\\n",
        "             'AMT_REQ_CREDIT_BUREAU_WEEK',\\\n",
        "             'AMT_REQ_CREDIT_BUREAU_MON',\\\n",
        "             'AMT_REQ_CREDIT_BUREAU_QRT',\\\n",
        "             'AMT_REQ_CREDIT_BUREAU_YEAR']"
      ],
      "execution_count": 0,
      "outputs": []
    },
    {
      "metadata": {
        "id": "Ah_e0GE_BrHw",
        "colab_type": "text"
      },
      "cell_type": "markdown",
      "source": [
        "And, we're done with numerical features! A few more categorical and we'll have cleaned the whole dataset:"
      ]
    },
    {
      "metadata": {
        "id": "iP_A9PL8-56B",
        "colab_type": "text"
      },
      "cell_type": "markdown",
      "source": [
        "Careful! `WEEKDAY_APPR_PROCESS_START` is actually a categorical variable, not a numerical one. So is `HOUR_APPR_PROCESS_START`:"
      ]
    },
    {
      "metadata": {
        "id": "9ZNyCKQt-9jq",
        "colab_type": "code",
        "colab": {
          "autoexec": {
            "startup": false,
            "wait_interval": 0
          }
        }
      },
      "cell_type": "code",
      "source": [
        "cat_vars += ['WEEKDAY_APPR_PROCESS_START','HOUR_APPR_PROCESS_START']"
      ],
      "execution_count": 0,
      "outputs": []
    },
    {
      "metadata": {
        "id": "gaf65HqQCHZP",
        "colab_type": "text"
      },
      "cell_type": "markdown",
      "source": [
        "We have one more feature to go, `ORGANIZATION_TYPE`. This is going to get interesting (I cheated - I'm writing this text cell having already looked at `ORGANIZATION_TYPE`).\n",
        "\n",
        "Let's look at the unique Organization types:"
      ]
    },
    {
      "metadata": {
        "id": "ctZak7a4B06l",
        "colab_type": "code",
        "colab": {
          "autoexec": {
            "startup": false,
            "wait_interval": 0
          },
          "base_uri": "https://localhost:8080/",
          "height": 1047
        },
        "outputId": "37e34578-6349-4ce1-91ff-2d3a9c932cc2",
        "executionInfo": {
          "status": "ok",
          "timestamp": 1527752983572,
          "user_tz": 420,
          "elapsed": 384,
          "user": {
            "displayName": "Edgar Pavlovsky",
            "photoUrl": "//lh3.googleusercontent.com/-Ny57IabeLHQ/AAAAAAAAAAI/AAAAAAAAG4o/xsyDtZ2P3Ro/s50-c-k-no/photo.jpg",
            "userId": "116270002817181830687"
          }
        }
      },
      "cell_type": "code",
      "source": [
        "list(train_features.ORGANIZATION_TYPE.unique())"
      ],
      "execution_count": 69,
      "outputs": [
        {
          "output_type": "execute_result",
          "data": {
            "text/plain": [
              "['Business Entity Type 3',\n",
              " 'School',\n",
              " 'Government',\n",
              " 'Religion',\n",
              " 'Other',\n",
              " 'XNA',\n",
              " 'Electricity',\n",
              " 'Medicine',\n",
              " 'Business Entity Type 2',\n",
              " 'Self-employed',\n",
              " 'Transport: type 2',\n",
              " 'Construction',\n",
              " 'Housing',\n",
              " 'Kindergarten',\n",
              " 'Trade: type 7',\n",
              " 'Industry: type 11',\n",
              " 'Military',\n",
              " 'Services',\n",
              " 'Security Ministries',\n",
              " 'Transport: type 4',\n",
              " 'Industry: type 1',\n",
              " 'Emergency',\n",
              " 'Security',\n",
              " 'Trade: type 2',\n",
              " 'University',\n",
              " 'Transport: type 3',\n",
              " 'Police',\n",
              " 'Business Entity Type 1',\n",
              " 'Postal',\n",
              " 'Industry: type 4',\n",
              " 'Agriculture',\n",
              " 'Restaurant',\n",
              " 'Culture',\n",
              " 'Hotel',\n",
              " 'Industry: type 7',\n",
              " 'Trade: type 3',\n",
              " 'Industry: type 3',\n",
              " 'Bank',\n",
              " 'Industry: type 9',\n",
              " 'Insurance',\n",
              " 'Trade: type 6',\n",
              " 'Industry: type 2',\n",
              " 'Transport: type 1',\n",
              " 'Industry: type 12',\n",
              " 'Mobile',\n",
              " 'Trade: type 1',\n",
              " 'Industry: type 5',\n",
              " 'Industry: type 10',\n",
              " 'Legal Services',\n",
              " 'Advertising',\n",
              " 'Trade: type 5',\n",
              " 'Cleaning',\n",
              " 'Industry: type 13',\n",
              " 'Trade: type 4',\n",
              " 'Telecom',\n",
              " 'Industry: type 8',\n",
              " 'Realtor',\n",
              " 'Industry: type 6']"
            ]
          },
          "metadata": {
            "tags": []
          },
          "execution_count": 69
        }
      ]
    },
    {
      "metadata": {
        "id": "6yqRy02n-9gg",
        "colab_type": "code",
        "colab": {
          "autoexec": {
            "startup": false,
            "wait_interval": 0
          },
          "base_uri": "https://localhost:8080/",
          "height": 34
        },
        "outputId": "590123e9-1a4c-4e8f-8f18-7c09e4ce09d3",
        "executionInfo": {
          "status": "ok",
          "timestamp": 1527752985019,
          "user_tz": 420,
          "elapsed": 385,
          "user": {
            "displayName": "Edgar Pavlovsky",
            "photoUrl": "//lh3.googleusercontent.com/-Ny57IabeLHQ/AAAAAAAAAAI/AAAAAAAAG4o/xsyDtZ2P3Ro/s50-c-k-no/photo.jpg",
            "userId": "116270002817181830687"
          }
        }
      },
      "cell_type": "code",
      "source": [
        "len(list(train_features.ORGANIZATION_TYPE.unique()))"
      ],
      "execution_count": 70,
      "outputs": [
        {
          "output_type": "execute_result",
          "data": {
            "text/plain": [
              "58"
            ]
          },
          "metadata": {
            "tags": []
          },
          "execution_count": 70
        }
      ]
    },
    {
      "metadata": {
        "id": "NGuvMaqOCd7s",
        "colab_type": "text"
      },
      "cell_type": "markdown",
      "source": [
        "58 organization types is a lot - with this many dimensions, it might help to create a feature that grouped these dimensions into fewer, higher-level buckets. Looking at the Organization Type names, it's clear we can first bucket just by removing \"types\":"
      ]
    },
    {
      "metadata": {
        "id": "Q9_5_uV_-9dM",
        "colab_type": "code",
        "colab": {
          "autoexec": {
            "startup": false,
            "wait_interval": 0
          },
          "base_uri": "https://localhost:8080/",
          "height": 34
        },
        "outputId": "e3740eff-244f-4ffa-9c5b-e06e3d2fa7f6",
        "executionInfo": {
          "status": "ok",
          "timestamp": 1527752985849,
          "user_tz": 420,
          "elapsed": 460,
          "user": {
            "displayName": "Edgar Pavlovsky",
            "photoUrl": "//lh3.googleusercontent.com/-Ny57IabeLHQ/AAAAAAAAAAI/AAAAAAAAG4o/xsyDtZ2P3Ro/s50-c-k-no/photo.jpg",
            "userId": "116270002817181830687"
          }
        }
      },
      "cell_type": "code",
      "source": [
        "len(train_features.ORGANIZATION_TYPE.apply(lambda x: x.split(':')[0].split('Type')[0]).unique())"
      ],
      "execution_count": 71,
      "outputs": [
        {
          "output_type": "execute_result",
          "data": {
            "text/plain": [
              "35"
            ]
          },
          "metadata": {
            "tags": []
          },
          "execution_count": 71
        }
      ]
    },
    {
      "metadata": {
        "id": "Ix5nGqGCDkRc",
        "colab_type": "text"
      },
      "cell_type": "markdown",
      "source": [
        "35 is a decent reduction from 58. Let's add this feature:"
      ]
    },
    {
      "metadata": {
        "id": "fTPAZJ_d-9ZH",
        "colab_type": "code",
        "colab": {
          "autoexec": {
            "startup": false,
            "wait_interval": 0
          }
        }
      },
      "cell_type": "code",
      "source": [
        "train_features['ORGANIZATION_TYPE_GROUP'] = train_features.ORGANIZATION_TYPE.apply(lambda x: x.split(':')[0].split('Type')[0])"
      ],
      "execution_count": 0,
      "outputs": []
    },
    {
      "metadata": {
        "id": "l_5DYSHT-9V_",
        "colab_type": "code",
        "colab": {
          "autoexec": {
            "startup": false,
            "wait_interval": 0
          }
        }
      },
      "cell_type": "code",
      "source": [
        "cat_vars += ['ORGANIZATION_TYPE','ORGANIZATION_TYPE_GROUP']"
      ],
      "execution_count": 0,
      "outputs": []
    },
    {
      "metadata": {
        "id": "FSSO1D7qEGwz",
        "colab_type": "text"
      },
      "cell_type": "markdown",
      "source": [
        "We had an idea previously, to derive percentiles for continuous features within partitions created using categorical features. Let's look at the numerical features we have to work with, do they all make sense to do this with?"
      ]
    },
    {
      "metadata": {
        "id": "QBFFtAe3-9SW",
        "colab_type": "code",
        "colab": {
          "autoexec": {
            "startup": false,
            "wait_interval": 0
          },
          "base_uri": "https://localhost:8080/",
          "height": 1207
        },
        "outputId": "aa3fe434-97bf-4c87-92aa-85e4d3a9b391",
        "executionInfo": {
          "status": "ok",
          "timestamp": 1527752988180,
          "user_tz": 420,
          "elapsed": 367,
          "user": {
            "displayName": "Edgar Pavlovsky",
            "photoUrl": "//lh3.googleusercontent.com/-Ny57IabeLHQ/AAAAAAAAAAI/AAAAAAAAG4o/xsyDtZ2P3Ro/s50-c-k-no/photo.jpg",
            "userId": "116270002817181830687"
          }
        }
      },
      "cell_type": "code",
      "source": [
        "num_vars"
      ],
      "execution_count": 74,
      "outputs": [
        {
          "output_type": "execute_result",
          "data": {
            "text/plain": [
              "['CNT_CHILDREN',\n",
              " 'AMT_INCOME_TOTAL',\n",
              " 'AMT_CREDIT',\n",
              " 'AMT_ANNUITY',\n",
              " 'AMT_GOODS_PRICE',\n",
              " 'REGION_POPULATION_RELATIVE',\n",
              " 'EXT_SOURCE_1',\n",
              " 'EXT_SOURCE_2',\n",
              " 'EXT_SOURCE_3',\n",
              " 'APARTMENTS_AVG',\n",
              " 'BASEMENTAREA_AVG',\n",
              " 'YEARS_BEGINEXPLUATATION_AVG',\n",
              " 'YEARS_BUILD_AVG',\n",
              " 'COMMONAREA_AVG',\n",
              " 'ELEVATORS_AVG',\n",
              " 'ENTRANCES_AVG',\n",
              " 'FLOORSMAX_AVG',\n",
              " 'FLOORSMIN_AVG',\n",
              " 'LANDAREA_AVG',\n",
              " 'LIVINGAPARTMENTS_AVG',\n",
              " 'LIVINGAREA_AVG',\n",
              " 'NONLIVINGAPARTMENTS_AVG',\n",
              " 'NONLIVINGAREA_AVG',\n",
              " 'APARTMENTS_MODE',\n",
              " 'BASEMENTAREA_MODE',\n",
              " 'YEARS_BEGINEXPLUATATION_MODE',\n",
              " 'YEARS_BUILD_MODE',\n",
              " 'COMMONAREA_MODE',\n",
              " 'ELEVATORS_MODE',\n",
              " 'ENTRANCES_MODE',\n",
              " 'FLOORSMAX_MODE',\n",
              " 'FLOORSMIN_MODE',\n",
              " 'LANDAREA_MODE',\n",
              " 'LIVINGAPARTMENTS_MODE',\n",
              " 'LIVINGAREA_MODE',\n",
              " 'NONLIVINGAPARTMENTS_MODE',\n",
              " 'NONLIVINGAREA_MODE',\n",
              " 'APARTMENTS_MEDI',\n",
              " 'BASEMENTAREA_MEDI',\n",
              " 'YEARS_BEGINEXPLUATATION_MEDI',\n",
              " 'YEARS_BUILD_MEDI',\n",
              " 'COMMONAREA_MEDI',\n",
              " 'ELEVATORS_MEDI',\n",
              " 'ENTRANCES_MEDI',\n",
              " 'FLOORSMAX_MEDI',\n",
              " 'FLOORSMIN_MEDI',\n",
              " 'LANDAREA_MEDI',\n",
              " 'LIVINGAPARTMENTS_MEDI',\n",
              " 'LIVINGAREA_MEDI',\n",
              " 'NONLIVINGAPARTMENTS_MEDI',\n",
              " 'NONLIVINGAREA_MEDI',\n",
              " 'TOTALAREA_MODE',\n",
              " 'OWN_CAR_AGE',\n",
              " 'CNT_FAM_MEMBERS',\n",
              " 'PERC_FAM_MEMBERS_CHILDREN',\n",
              " 'REGION_RATING_CLIENT',\n",
              " 'REGION_RATING_CLIENT_W_CITY',\n",
              " 'OBS_30_CNT_SOCIAL_CIRCLE',\n",
              " 'DEF_30_CNT_SOCIAL_CIRCLE',\n",
              " 'OBS_60_CNT_SOCIAL_CIRCLE',\n",
              " 'DEF_60_CNT_SOCIAL_CIRCLE',\n",
              " 'AMT_REQ_CREDIT_BUREAU_HOUR',\n",
              " 'AMT_REQ_CREDIT_BUREAU_DAY',\n",
              " 'AMT_REQ_CREDIT_BUREAU_WEEK',\n",
              " 'AMT_REQ_CREDIT_BUREAU_MON',\n",
              " 'AMT_REQ_CREDIT_BUREAU_QRT',\n",
              " 'AMT_REQ_CREDIT_BUREAU_YEAR']"
            ]
          },
          "metadata": {
            "tags": []
          },
          "execution_count": 74
        }
      ]
    },
    {
      "metadata": {
        "id": "IrSV0Sd1D8sD",
        "colab_type": "code",
        "colab": {
          "autoexec": {
            "startup": false,
            "wait_interval": 0
          }
        }
      },
      "cell_type": "code",
      "source": [
        ""
      ],
      "execution_count": 0,
      "outputs": []
    },
    {
      "metadata": {
        "id": "uK-2MFlXD8_P",
        "colab_type": "code",
        "colab": {
          "autoexec": {
            "startup": false,
            "wait_interval": 0
          }
        }
      },
      "cell_type": "code",
      "source": [
        ""
      ],
      "execution_count": 0,
      "outputs": []
    },
    {
      "metadata": {
        "id": "Ul4QezAzD868",
        "colab_type": "code",
        "colab": {
          "autoexec": {
            "startup": false,
            "wait_interval": 0
          }
        }
      },
      "cell_type": "code",
      "source": [
        ""
      ],
      "execution_count": 0,
      "outputs": []
    },
    {
      "metadata": {
        "id": "AXvWoNwVD83j",
        "colab_type": "code",
        "colab": {
          "autoexec": {
            "startup": false,
            "wait_interval": 0
          }
        }
      },
      "cell_type": "code",
      "source": [
        ""
      ],
      "execution_count": 0,
      "outputs": []
    },
    {
      "metadata": {
        "id": "hqZwLr_OD8zA",
        "colab_type": "code",
        "colab": {
          "autoexec": {
            "startup": false,
            "wait_interval": 0
          }
        }
      },
      "cell_type": "code",
      "source": [
        ""
      ],
      "execution_count": 0,
      "outputs": []
    },
    {
      "metadata": {
        "id": "73J2OQ74LYHV",
        "colab_type": "text"
      },
      "cell_type": "markdown",
      "source": [
        "# Edgar's Appendix\n",
        "\n",
        "The code below isn't necessarily obsolete by any means, but I (Edgar) haven't gotten to it yet, so I'm calling it \"Edgar's Appendix\"."
      ]
    },
    {
      "metadata": {
        "id": "wiLgVC1_xO7B",
        "colab_type": "code",
        "colab": {
          "autoexec": {
            "startup": false,
            "wait_interval": 0
          },
          "base_uri": "https://localhost:8080/",
          "height": 426
        },
        "outputId": "7671ca10-7fb1-4a7a-8c7e-2849034f3618",
        "executionInfo": {
          "status": "ok",
          "timestamp": 1527662565833,
          "user_tz": 420,
          "elapsed": 3883,
          "user": {
            "displayName": "Edgar Pavlovsky",
            "photoUrl": "//lh3.googleusercontent.com/-Ny57IabeLHQ/AAAAAAAAAAI/AAAAAAAAG4o/xsyDtZ2P3Ro/s50-c-k-no/photo.jpg",
            "userId": "116270002817181830687"
          }
        }
      },
      "cell_type": "code",
      "source": [
        "train_features.describe(include='all')"
      ],
      "execution_count": 80,
      "outputs": [
        {
          "output_type": "execute_result",
          "data": {
            "text/html": [
              "<div>\n",
              "<style scoped>\n",
              "    .dataframe tbody tr th:only-of-type {\n",
              "        vertical-align: middle;\n",
              "    }\n",
              "\n",
              "    .dataframe tbody tr th {\n",
              "        vertical-align: top;\n",
              "    }\n",
              "\n",
              "    .dataframe thead th {\n",
              "        text-align: right;\n",
              "    }\n",
              "</style>\n",
              "<table border=\"1\" class=\"dataframe\">\n",
              "  <thead>\n",
              "    <tr style=\"text-align: right;\">\n",
              "      <th></th>\n",
              "      <th>SK_ID_CURR</th>\n",
              "      <th>NAME_CONTRACT_TYPE</th>\n",
              "      <th>CODE_GENDER</th>\n",
              "      <th>FLAG_OWN_CAR</th>\n",
              "      <th>FLAG_OWN_REALTY</th>\n",
              "      <th>CNT_CHILDREN</th>\n",
              "      <th>AMT_INCOME_TOTAL</th>\n",
              "      <th>AMT_CREDIT</th>\n",
              "      <th>AMT_ANNUITY</th>\n",
              "      <th>AMT_GOODS_PRICE</th>\n",
              "      <th>...</th>\n",
              "      <th>FLAG_DOCUMENT_18</th>\n",
              "      <th>FLAG_DOCUMENT_19</th>\n",
              "      <th>FLAG_DOCUMENT_20</th>\n",
              "      <th>FLAG_DOCUMENT_21</th>\n",
              "      <th>AMT_REQ_CREDIT_BUREAU_HOUR</th>\n",
              "      <th>AMT_REQ_CREDIT_BUREAU_DAY</th>\n",
              "      <th>AMT_REQ_CREDIT_BUREAU_WEEK</th>\n",
              "      <th>AMT_REQ_CREDIT_BUREAU_MON</th>\n",
              "      <th>AMT_REQ_CREDIT_BUREAU_QRT</th>\n",
              "      <th>AMT_REQ_CREDIT_BUREAU_YEAR</th>\n",
              "    </tr>\n",
              "  </thead>\n",
              "  <tbody>\n",
              "    <tr>\n",
              "      <th>count</th>\n",
              "      <td>307511.000000</td>\n",
              "      <td>307511</td>\n",
              "      <td>307511</td>\n",
              "      <td>307511</td>\n",
              "      <td>307511</td>\n",
              "      <td>307511.000000</td>\n",
              "      <td>3.075110e+05</td>\n",
              "      <td>3.075110e+05</td>\n",
              "      <td>307499.000000</td>\n",
              "      <td>3.072330e+05</td>\n",
              "      <td>...</td>\n",
              "      <td>307511.000000</td>\n",
              "      <td>307511.000000</td>\n",
              "      <td>307511.000000</td>\n",
              "      <td>307511.000000</td>\n",
              "      <td>265992.000000</td>\n",
              "      <td>265992.000000</td>\n",
              "      <td>265992.000000</td>\n",
              "      <td>265992.000000</td>\n",
              "      <td>265992.000000</td>\n",
              "      <td>265992.000000</td>\n",
              "    </tr>\n",
              "    <tr>\n",
              "      <th>unique</th>\n",
              "      <td>NaN</td>\n",
              "      <td>2</td>\n",
              "      <td>3</td>\n",
              "      <td>2</td>\n",
              "      <td>2</td>\n",
              "      <td>NaN</td>\n",
              "      <td>NaN</td>\n",
              "      <td>NaN</td>\n",
              "      <td>NaN</td>\n",
              "      <td>NaN</td>\n",
              "      <td>...</td>\n",
              "      <td>NaN</td>\n",
              "      <td>NaN</td>\n",
              "      <td>NaN</td>\n",
              "      <td>NaN</td>\n",
              "      <td>NaN</td>\n",
              "      <td>NaN</td>\n",
              "      <td>NaN</td>\n",
              "      <td>NaN</td>\n",
              "      <td>NaN</td>\n",
              "      <td>NaN</td>\n",
              "    </tr>\n",
              "    <tr>\n",
              "      <th>top</th>\n",
              "      <td>NaN</td>\n",
              "      <td>Cash loans</td>\n",
              "      <td>F</td>\n",
              "      <td>N</td>\n",
              "      <td>Y</td>\n",
              "      <td>NaN</td>\n",
              "      <td>NaN</td>\n",
              "      <td>NaN</td>\n",
              "      <td>NaN</td>\n",
              "      <td>NaN</td>\n",
              "      <td>...</td>\n",
              "      <td>NaN</td>\n",
              "      <td>NaN</td>\n",
              "      <td>NaN</td>\n",
              "      <td>NaN</td>\n",
              "      <td>NaN</td>\n",
              "      <td>NaN</td>\n",
              "      <td>NaN</td>\n",
              "      <td>NaN</td>\n",
              "      <td>NaN</td>\n",
              "      <td>NaN</td>\n",
              "    </tr>\n",
              "    <tr>\n",
              "      <th>freq</th>\n",
              "      <td>NaN</td>\n",
              "      <td>278232</td>\n",
              "      <td>202448</td>\n",
              "      <td>202924</td>\n",
              "      <td>213312</td>\n",
              "      <td>NaN</td>\n",
              "      <td>NaN</td>\n",
              "      <td>NaN</td>\n",
              "      <td>NaN</td>\n",
              "      <td>NaN</td>\n",
              "      <td>...</td>\n",
              "      <td>NaN</td>\n",
              "      <td>NaN</td>\n",
              "      <td>NaN</td>\n",
              "      <td>NaN</td>\n",
              "      <td>NaN</td>\n",
              "      <td>NaN</td>\n",
              "      <td>NaN</td>\n",
              "      <td>NaN</td>\n",
              "      <td>NaN</td>\n",
              "      <td>NaN</td>\n",
              "    </tr>\n",
              "    <tr>\n",
              "      <th>mean</th>\n",
              "      <td>278180.518577</td>\n",
              "      <td>NaN</td>\n",
              "      <td>NaN</td>\n",
              "      <td>NaN</td>\n",
              "      <td>NaN</td>\n",
              "      <td>0.417052</td>\n",
              "      <td>1.687979e+05</td>\n",
              "      <td>5.990260e+05</td>\n",
              "      <td>27108.573909</td>\n",
              "      <td>5.383962e+05</td>\n",
              "      <td>...</td>\n",
              "      <td>0.008130</td>\n",
              "      <td>0.000595</td>\n",
              "      <td>0.000507</td>\n",
              "      <td>0.000335</td>\n",
              "      <td>0.006402</td>\n",
              "      <td>0.007000</td>\n",
              "      <td>0.034362</td>\n",
              "      <td>0.267395</td>\n",
              "      <td>0.265474</td>\n",
              "      <td>1.899974</td>\n",
              "    </tr>\n",
              "    <tr>\n",
              "      <th>std</th>\n",
              "      <td>102790.175348</td>\n",
              "      <td>NaN</td>\n",
              "      <td>NaN</td>\n",
              "      <td>NaN</td>\n",
              "      <td>NaN</td>\n",
              "      <td>0.722121</td>\n",
              "      <td>2.371231e+05</td>\n",
              "      <td>4.024908e+05</td>\n",
              "      <td>14493.737315</td>\n",
              "      <td>3.694465e+05</td>\n",
              "      <td>...</td>\n",
              "      <td>0.089798</td>\n",
              "      <td>0.024387</td>\n",
              "      <td>0.022518</td>\n",
              "      <td>0.018299</td>\n",
              "      <td>0.083849</td>\n",
              "      <td>0.110757</td>\n",
              "      <td>0.204685</td>\n",
              "      <td>0.916002</td>\n",
              "      <td>0.794056</td>\n",
              "      <td>1.869295</td>\n",
              "    </tr>\n",
              "    <tr>\n",
              "      <th>min</th>\n",
              "      <td>100002.000000</td>\n",
              "      <td>NaN</td>\n",
              "      <td>NaN</td>\n",
              "      <td>NaN</td>\n",
              "      <td>NaN</td>\n",
              "      <td>0.000000</td>\n",
              "      <td>2.565000e+04</td>\n",
              "      <td>4.500000e+04</td>\n",
              "      <td>1615.500000</td>\n",
              "      <td>4.050000e+04</td>\n",
              "      <td>...</td>\n",
              "      <td>0.000000</td>\n",
              "      <td>0.000000</td>\n",
              "      <td>0.000000</td>\n",
              "      <td>0.000000</td>\n",
              "      <td>0.000000</td>\n",
              "      <td>0.000000</td>\n",
              "      <td>0.000000</td>\n",
              "      <td>0.000000</td>\n",
              "      <td>0.000000</td>\n",
              "      <td>0.000000</td>\n",
              "    </tr>\n",
              "    <tr>\n",
              "      <th>25%</th>\n",
              "      <td>189145.500000</td>\n",
              "      <td>NaN</td>\n",
              "      <td>NaN</td>\n",
              "      <td>NaN</td>\n",
              "      <td>NaN</td>\n",
              "      <td>0.000000</td>\n",
              "      <td>1.125000e+05</td>\n",
              "      <td>2.700000e+05</td>\n",
              "      <td>16524.000000</td>\n",
              "      <td>2.385000e+05</td>\n",
              "      <td>...</td>\n",
              "      <td>0.000000</td>\n",
              "      <td>0.000000</td>\n",
              "      <td>0.000000</td>\n",
              "      <td>0.000000</td>\n",
              "      <td>0.000000</td>\n",
              "      <td>0.000000</td>\n",
              "      <td>0.000000</td>\n",
              "      <td>0.000000</td>\n",
              "      <td>0.000000</td>\n",
              "      <td>0.000000</td>\n",
              "    </tr>\n",
              "    <tr>\n",
              "      <th>50%</th>\n",
              "      <td>278202.000000</td>\n",
              "      <td>NaN</td>\n",
              "      <td>NaN</td>\n",
              "      <td>NaN</td>\n",
              "      <td>NaN</td>\n",
              "      <td>0.000000</td>\n",
              "      <td>1.471500e+05</td>\n",
              "      <td>5.135310e+05</td>\n",
              "      <td>24903.000000</td>\n",
              "      <td>4.500000e+05</td>\n",
              "      <td>...</td>\n",
              "      <td>0.000000</td>\n",
              "      <td>0.000000</td>\n",
              "      <td>0.000000</td>\n",
              "      <td>0.000000</td>\n",
              "      <td>0.000000</td>\n",
              "      <td>0.000000</td>\n",
              "      <td>0.000000</td>\n",
              "      <td>0.000000</td>\n",
              "      <td>0.000000</td>\n",
              "      <td>1.000000</td>\n",
              "    </tr>\n",
              "    <tr>\n",
              "      <th>75%</th>\n",
              "      <td>367142.500000</td>\n",
              "      <td>NaN</td>\n",
              "      <td>NaN</td>\n",
              "      <td>NaN</td>\n",
              "      <td>NaN</td>\n",
              "      <td>1.000000</td>\n",
              "      <td>2.025000e+05</td>\n",
              "      <td>8.086500e+05</td>\n",
              "      <td>34596.000000</td>\n",
              "      <td>6.795000e+05</td>\n",
              "      <td>...</td>\n",
              "      <td>0.000000</td>\n",
              "      <td>0.000000</td>\n",
              "      <td>0.000000</td>\n",
              "      <td>0.000000</td>\n",
              "      <td>0.000000</td>\n",
              "      <td>0.000000</td>\n",
              "      <td>0.000000</td>\n",
              "      <td>0.000000</td>\n",
              "      <td>0.000000</td>\n",
              "      <td>3.000000</td>\n",
              "    </tr>\n",
              "    <tr>\n",
              "      <th>max</th>\n",
              "      <td>456255.000000</td>\n",
              "      <td>NaN</td>\n",
              "      <td>NaN</td>\n",
              "      <td>NaN</td>\n",
              "      <td>NaN</td>\n",
              "      <td>19.000000</td>\n",
              "      <td>1.170000e+08</td>\n",
              "      <td>4.050000e+06</td>\n",
              "      <td>258025.500000</td>\n",
              "      <td>4.050000e+06</td>\n",
              "      <td>...</td>\n",
              "      <td>1.000000</td>\n",
              "      <td>1.000000</td>\n",
              "      <td>1.000000</td>\n",
              "      <td>1.000000</td>\n",
              "      <td>4.000000</td>\n",
              "      <td>9.000000</td>\n",
              "      <td>8.000000</td>\n",
              "      <td>27.000000</td>\n",
              "      <td>261.000000</td>\n",
              "      <td>25.000000</td>\n",
              "    </tr>\n",
              "  </tbody>\n",
              "</table>\n",
              "<p>11 rows × 121 columns</p>\n",
              "</div>"
            ],
            "text/plain": [
              "           SK_ID_CURR NAME_CONTRACT_TYPE CODE_GENDER FLAG_OWN_CAR  \\\n",
              "count   307511.000000             307511      307511       307511   \n",
              "unique            NaN                  2           3            2   \n",
              "top               NaN         Cash loans           F            N   \n",
              "freq              NaN             278232      202448       202924   \n",
              "mean    278180.518577                NaN         NaN          NaN   \n",
              "std     102790.175348                NaN         NaN          NaN   \n",
              "min     100002.000000                NaN         NaN          NaN   \n",
              "25%     189145.500000                NaN         NaN          NaN   \n",
              "50%     278202.000000                NaN         NaN          NaN   \n",
              "75%     367142.500000                NaN         NaN          NaN   \n",
              "max     456255.000000                NaN         NaN          NaN   \n",
              "\n",
              "       FLAG_OWN_REALTY   CNT_CHILDREN  AMT_INCOME_TOTAL    AMT_CREDIT  \\\n",
              "count           307511  307511.000000      3.075110e+05  3.075110e+05   \n",
              "unique               2            NaN               NaN           NaN   \n",
              "top                  Y            NaN               NaN           NaN   \n",
              "freq            213312            NaN               NaN           NaN   \n",
              "mean               NaN       0.417052      1.687979e+05  5.990260e+05   \n",
              "std                NaN       0.722121      2.371231e+05  4.024908e+05   \n",
              "min                NaN       0.000000      2.565000e+04  4.500000e+04   \n",
              "25%                NaN       0.000000      1.125000e+05  2.700000e+05   \n",
              "50%                NaN       0.000000      1.471500e+05  5.135310e+05   \n",
              "75%                NaN       1.000000      2.025000e+05  8.086500e+05   \n",
              "max                NaN      19.000000      1.170000e+08  4.050000e+06   \n",
              "\n",
              "          AMT_ANNUITY  AMT_GOODS_PRICE             ...              \\\n",
              "count   307499.000000     3.072330e+05             ...               \n",
              "unique            NaN              NaN             ...               \n",
              "top               NaN              NaN             ...               \n",
              "freq              NaN              NaN             ...               \n",
              "mean     27108.573909     5.383962e+05             ...               \n",
              "std      14493.737315     3.694465e+05             ...               \n",
              "min       1615.500000     4.050000e+04             ...               \n",
              "25%      16524.000000     2.385000e+05             ...               \n",
              "50%      24903.000000     4.500000e+05             ...               \n",
              "75%      34596.000000     6.795000e+05             ...               \n",
              "max     258025.500000     4.050000e+06             ...               \n",
              "\n",
              "       FLAG_DOCUMENT_18 FLAG_DOCUMENT_19 FLAG_DOCUMENT_20 FLAG_DOCUMENT_21  \\\n",
              "count     307511.000000    307511.000000    307511.000000    307511.000000   \n",
              "unique              NaN              NaN              NaN              NaN   \n",
              "top                 NaN              NaN              NaN              NaN   \n",
              "freq                NaN              NaN              NaN              NaN   \n",
              "mean           0.008130         0.000595         0.000507         0.000335   \n",
              "std            0.089798         0.024387         0.022518         0.018299   \n",
              "min            0.000000         0.000000         0.000000         0.000000   \n",
              "25%            0.000000         0.000000         0.000000         0.000000   \n",
              "50%            0.000000         0.000000         0.000000         0.000000   \n",
              "75%            0.000000         0.000000         0.000000         0.000000   \n",
              "max            1.000000         1.000000         1.000000         1.000000   \n",
              "\n",
              "       AMT_REQ_CREDIT_BUREAU_HOUR  AMT_REQ_CREDIT_BUREAU_DAY  \\\n",
              "count               265992.000000              265992.000000   \n",
              "unique                        NaN                        NaN   \n",
              "top                           NaN                        NaN   \n",
              "freq                          NaN                        NaN   \n",
              "mean                     0.006402                   0.007000   \n",
              "std                      0.083849                   0.110757   \n",
              "min                      0.000000                   0.000000   \n",
              "25%                      0.000000                   0.000000   \n",
              "50%                      0.000000                   0.000000   \n",
              "75%                      0.000000                   0.000000   \n",
              "max                      4.000000                   9.000000   \n",
              "\n",
              "        AMT_REQ_CREDIT_BUREAU_WEEK  AMT_REQ_CREDIT_BUREAU_MON  \\\n",
              "count                265992.000000              265992.000000   \n",
              "unique                         NaN                        NaN   \n",
              "top                            NaN                        NaN   \n",
              "freq                           NaN                        NaN   \n",
              "mean                      0.034362                   0.267395   \n",
              "std                       0.204685                   0.916002   \n",
              "min                       0.000000                   0.000000   \n",
              "25%                       0.000000                   0.000000   \n",
              "50%                       0.000000                   0.000000   \n",
              "75%                       0.000000                   0.000000   \n",
              "max                       8.000000                  27.000000   \n",
              "\n",
              "        AMT_REQ_CREDIT_BUREAU_QRT  AMT_REQ_CREDIT_BUREAU_YEAR  \n",
              "count               265992.000000               265992.000000  \n",
              "unique                        NaN                         NaN  \n",
              "top                           NaN                         NaN  \n",
              "freq                          NaN                         NaN  \n",
              "mean                     0.265474                    1.899974  \n",
              "std                      0.794056                    1.869295  \n",
              "min                      0.000000                    0.000000  \n",
              "25%                      0.000000                    0.000000  \n",
              "50%                      0.000000                    1.000000  \n",
              "75%                      0.000000                    3.000000  \n",
              "max                    261.000000                   25.000000  \n",
              "\n",
              "[11 rows x 121 columns]"
            ]
          },
          "metadata": {
            "tags": []
          },
          "execution_count": 80
        }
      ]
    },
    {
      "metadata": {
        "id": "VsKpgzCAxO4X",
        "colab_type": "code",
        "colab": {
          "autoexec": {
            "startup": false,
            "wait_interval": 0
          }
        }
      },
      "cell_type": "code",
      "source": [
        ""
      ],
      "execution_count": 0,
      "outputs": []
    },
    {
      "metadata": {
        "id": "ShTibSCBvaAH",
        "colab_type": "code",
        "colab": {
          "autoexec": {
            "startup": false,
            "wait_interval": 0
          }
        }
      },
      "cell_type": "code",
      "source": [
        ""
      ],
      "execution_count": 0,
      "outputs": []
    },
    {
      "metadata": {
        "id": "FGkkK48w_wqS",
        "colab_type": "text"
      },
      "cell_type": "markdown",
      "source": [
        "What we are doing here, basically, is just get_dummies for each table, getting the count of past records and then averaging the tables to get unique values of SK_ID_CURR. \n",
        "This is pretty basic but could be effective feature engineering."
      ]
    },
    {
      "metadata": {
        "id": "-ZfA6Qvz_wqT",
        "colab_type": "code",
        "colab": {
          "autoexec": {
            "startup": false,
            "wait_interval": 0
          }
        }
      },
      "cell_type": "code",
      "source": [
        "pp_cols = []"
      ],
      "execution_count": 0,
      "outputs": []
    },
    {
      "metadata": {
        "id": "7pr4dynh_wqW",
        "colab_type": "code",
        "colab": {
          "autoexec": {
            "startup": false,
            "wait_interval": 0
          }
        }
      },
      "cell_type": "code",
      "source": [
        "print('Bureau_balance preprocess')\n",
        "bureau_balance = pd.get_dummies(bureau_balance)\n",
        "\n",
        "print('Counting bureaus')\n",
        "bb_counts = bureau_balance[['SK_ID_BUREAU', 'MONTHS_BALANCE']].groupby('SK_ID_BUREAU').count()\n",
        "bureau_balance['bb_count'] = bureau_balance['SK_ID_BUREAU'].map(bb_counts['MONTHS_BALANCE'])\n",
        "\n",
        "print('averaging bureau bal')\n",
        "avg_bureau_bal = bureau_balance.groupby('SK_ID_BUREAU').mean()\n",
        "\n",
        "avg_bureau_bal.reset_index(inplace=True)\n",
        "\n",
        "del bureau_balance, bb_counts\n",
        "gc.collect()"
      ],
      "execution_count": 0,
      "outputs": []
    },
    {
      "metadata": {
        "id": "OU1bAcuw_wqY",
        "colab_type": "code",
        "colab": {
          "autoexec": {
            "startup": false,
            "wait_interval": 0
          }
        }
      },
      "cell_type": "code",
      "source": [
        "print('Bureau preprocess, includes merging bureau_balance preprocess')\n",
        "bureau = pd.get_dummies(bureau)\n",
        "\n",
        "bureau_full = bureau.merge(avg_bureau_bal, how='left', on='SK_ID_BUREAU')\n",
        "\n",
        "print('Counting buro per SK_ID_CURR')\n",
        "nb_bureau_per_curr = bureau_full[['SK_ID_CURR', 'SK_ID_BUREAU']].groupby('SK_ID_CURR').count()\n",
        "bureau_full['SK_ID_BUREAU'] = bureau_full['SK_ID_CURR'].map(nb_bureau_per_curr['SK_ID_BUREAU'])\n",
        "\n",
        "print('Averaging bureau')\n",
        "avg_bureau = bureau_full.groupby('SK_ID_CURR').mean()\n",
        "\n",
        "avg_bureau.columns = ['avg_bureau_' + f_ for f_ in avg_bureau.columns]\n",
        "avg_bureau.reset_index(inplace = True)\n",
        "pp_cols.append('avg_bureau')\n",
        "\n",
        "del bureau, bureau_full, nb_bureau_per_curr\n",
        "gc.collect()"
      ],
      "execution_count": 0,
      "outputs": []
    },
    {
      "metadata": {
        "id": "6cSPfJ0__wqa",
        "colab_type": "code",
        "colab": {
          "autoexec": {
            "startup": false,
            "wait_interval": 0
          }
        }
      },
      "cell_type": "code",
      "source": [
        "print('Prev_app preprocess')\n",
        "prev_app = pd.get_dummies(prev_app)\n",
        "\n",
        "print('Counting number of prevs')\n",
        "nb_prevs = prev_app[['SK_ID_CURR', 'SK_ID_PREV']].groupby('SK_ID_CURR').count()\n",
        "prev_app['SK_ID_PREV'] = prev_app['SK_ID_CURR'].map(nb_prevs['SK_ID_PREV'])\n",
        "\n",
        "print('Averaging prev')\n",
        "avg_prev = prev_app.groupby('SK_ID_CURR').mean()\n",
        "\n",
        "avg_prev.columns = ['avg_prev_' + f_ for f_ in avg_prev.columns]\n",
        "avg_prev.reset_index(inplace=True)\n",
        "pp_cols.append('avg_prev')\n",
        "\n",
        "del prev_app, nb_prevs\n",
        "gc.collect()"
      ],
      "execution_count": 0,
      "outputs": []
    },
    {
      "metadata": {
        "id": "f1xNekqR_wqe",
        "colab_type": "code",
        "colab": {
          "autoexec": {
            "startup": false,
            "wait_interval": 0
          }
        }
      },
      "cell_type": "code",
      "source": [
        "print('Pos preprocess')\n",
        "pos = pd.get_dummies(pos)\n",
        "\n",
        "print('Counting number of prevs')\n",
        "nb_prevs = pos[['SK_ID_CURR', 'SK_ID_PREV']].groupby('SK_ID_CURR').count()\n",
        "pos['SK_ID_PREV'] = pos['SK_ID_CURR'].map(nb_prevs['SK_ID_PREV'])\n",
        "\n",
        "print('Averaging pos')\n",
        "avg_pos = pos.groupby('SK_ID_CURR').mean()\n",
        "\n",
        "avg_pos.columns = ['avg_pos_' + f_ for f_ in avg_pos.columns]\n",
        "avg_pos.reset_index(inplace=True)\n",
        "pp_cols.append('avg_pos')\n",
        "\n",
        "del pos, nb_prevs\n",
        "gc.collect()"
      ],
      "execution_count": 0,
      "outputs": []
    },
    {
      "metadata": {
        "id": "mxtb5B3c_wqg",
        "colab_type": "code",
        "colab": {
          "autoexec": {
            "startup": false,
            "wait_interval": 0
          }
        }
      },
      "cell_type": "code",
      "source": [
        "print('Cc_bal preprocess')\n",
        "cc_bal = pd.get_dummies(cc_bal)\n",
        "\n",
        "print('COunting number of prevs')\n",
        "nb_prevs = cc_bal[['SK_ID_CURR', 'SK_ID_PREV']].groupby('SK_ID_CURR').count()\n",
        "cc_bal['SK_ID_PREV'] = cc_bal['SK_ID_CURR'].map(nb_prevs['SK_ID_PREV'])\n",
        "\n",
        "print('Averaging cc_bal')\n",
        "avg_cc_bal = cc_bal.groupby('SK_ID_CURR').mean()\n",
        "\n",
        "avg_cc_bal.columns = ['avg_cc_bal_' + f_ for f_ in avg_cc_bal.columns]\n",
        "avg_cc_bal.reset_index(inplace=True)\n",
        "pp_cols.append('avg_cc_bal')\n",
        "\n",
        "del cc_bal, nb_prevs\n",
        "gc.collect()"
      ],
      "execution_count": 0,
      "outputs": []
    },
    {
      "metadata": {
        "id": "4zP9Vi-W_wqi",
        "colab_type": "code",
        "colab": {
          "autoexec": {
            "startup": false,
            "wait_interval": 0
          }
        }
      },
      "cell_type": "code",
      "source": [
        "print('Inst preprocess')\n",
        "print('No categorical cols')\n",
        "\n",
        "print('Counting number of prevs')\n",
        "nb_prevs = inst[['SK_ID_CURR', 'SK_ID_PREV']].groupby('SK_ID_CURR').count()\n",
        "inst['SK_ID_PREV'] = inst['SK_ID_CURR'].map(nb_prevs['SK_ID_PREV'])\n",
        "\n",
        "print('Averaging inst')\n",
        "avg_inst = inst.groupby('SK_ID_CURR').mean()\n",
        "\n",
        "avg_inst.columns = ['avg_inst_' + f_ for f_ in avg_inst.columns]\n",
        "avg_inst.reset_index(inplace=True)\n",
        "pp_cols.append('avg_inst')\n",
        "\n",
        "del inst, nb_prevs\n",
        "gc.collect()"
      ],
      "execution_count": 0,
      "outputs": []
    },
    {
      "metadata": {
        "id": "8YJgDCB3_wql",
        "colab_type": "code",
        "colab": {
          "autoexec": {
            "startup": false,
            "wait_interval": 0
          }
        }
      },
      "cell_type": "code",
      "source": [
        "#lets merge our train and test to create a bigger dataset to preprocess on\n",
        "test['is_test'] = 1 \n",
        "test['is_train'] = 0\n",
        "train['is_test'] = 0\n",
        "train['is_train'] = 1"
      ],
      "execution_count": 0,
      "outputs": []
    },
    {
      "metadata": {
        "id": "eJwAuITn_wqq",
        "colab_type": "code",
        "colab": {
          "autoexec": {
            "startup": false,
            "wait_interval": 0
          }
        }
      },
      "cell_type": "code",
      "source": [
        "X_train = train.drop(['TARGET'], axis = 1)\n",
        "y_train = train['TARGET']\n",
        "X_train.shape"
      ],
      "execution_count": 0,
      "outputs": []
    },
    {
      "metadata": {
        "id": "NMVPi4Q-_wqs",
        "colab_type": "code",
        "colab": {
          "autoexec": {
            "startup": false,
            "wait_interval": 0
          }
        }
      },
      "cell_type": "code",
      "source": [
        "X_test = test\n",
        "X_test.shape"
      ],
      "execution_count": 0,
      "outputs": []
    },
    {
      "metadata": {
        "id": "jtDoo-aT_wqv",
        "colab_type": "code",
        "colab": {
          "autoexec": {
            "startup": false,
            "wait_interval": 0
          }
        }
      },
      "cell_type": "code",
      "source": [
        "data = pd.concat([X_train, X_test], axis=0)\n",
        "data = pd.get_dummies(data)"
      ],
      "execution_count": 0,
      "outputs": []
    },
    {
      "metadata": {
        "id": "XOEVXaHf_wqx",
        "colab_type": "code",
        "colab": {
          "autoexec": {
            "startup": false,
            "wait_interval": 0
          }
        }
      },
      "cell_type": "code",
      "source": [
        "pp_cols"
      ],
      "execution_count": 0,
      "outputs": []
    },
    {
      "metadata": {
        "id": "7QhyRgMN_wq0",
        "colab_type": "code",
        "colab": {
          "autoexec": {
            "startup": false,
            "wait_interval": 0
          }
        }
      },
      "cell_type": "code",
      "source": [
        "#this could be automated with a function perhaps\n",
        "data = data.merge(avg_bureau, how='left', on='SK_ID_CURR')\n",
        "data = data.merge(avg_prev, how='left', on='SK_ID_CURR')\n",
        "data = data.merge(avg_pos, how='left', on='SK_ID_CURR')\n",
        "data = data.merge(avg_cc_bal, how='left', on='SK_ID_CURR')\n",
        "data = data.merge(avg_inst, how='left', on='SK_ID_CURR')\n",
        "data.shape"
      ],
      "execution_count": 0,
      "outputs": []
    },
    {
      "metadata": {
        "id": "ImZ1Fb-C_wq3",
        "colab_type": "code",
        "colab": {
          "autoexec": {
            "startup": false,
            "wait_interval": 0
          }
        }
      },
      "cell_type": "code",
      "source": [
        "del avg_bureau, avg_prev, avg_pos, avg_cc_bal, avg_inst\n",
        "gc.collect()"
      ],
      "execution_count": 0,
      "outputs": []
    },
    {
      "metadata": {
        "id": "S65dZMCY_wq4",
        "colab_type": "code",
        "colab": {
          "autoexec": {
            "startup": false,
            "wait_interval": 0
          }
        }
      },
      "cell_type": "code",
      "source": [
        "# Function to calculate missing values by column\n",
        "def missing_values_table(df):\n",
        "        # Total missing values\n",
        "        mis_val = df.isnull().sum()\n",
        "        \n",
        "        # Percentage of missing values\n",
        "        mis_val_percent = 100 * df.isnull().sum() / len(df)\n",
        "        \n",
        "        # Make a table with the results\n",
        "        mis_val_table = pd.concat([mis_val, mis_val_percent], axis=1)\n",
        "        \n",
        "        # Rename the columns\n",
        "        mis_val_table_ren_columns = mis_val_table.rename(\n",
        "        columns = {0 : 'Missing Values', 1 : '% of Total Values'})\n",
        "        \n",
        "        # Sort the table by percentage of missing descending\n",
        "        mis_val_table_ren_columns = mis_val_table_ren_columns[\n",
        "            mis_val_table_ren_columns.iloc[:,1] != 0].sort_values(\n",
        "        '% of Total Values', ascending=False).round(1)\n",
        "        \n",
        "        # Print some summary information\n",
        "        print (\"Your selected dataframe has \" + str(df.shape[1]) + \" columns.\\n\"      \n",
        "            \"There are \" + str(mis_val_table_ren_columns.shape[0]) +\n",
        "              \" columns that have missing values.\")\n",
        "        \n",
        "        # Return the dataframe with missing information\n",
        "        return mis_val_table_ren_columns"
      ],
      "execution_count": 0,
      "outputs": []
    },
    {
      "metadata": {
        "id": "C09eiv6g_wq6",
        "colab_type": "code",
        "colab": {
          "autoexec": {
            "startup": false,
            "wait_interval": 0
          }
        }
      },
      "cell_type": "code",
      "source": [
        "missing_values_table(data)"
      ],
      "execution_count": 0,
      "outputs": []
    },
    {
      "metadata": {
        "id": "U8VUfJEO_wq9",
        "colab_type": "code",
        "colab": {
          "autoexec": {
            "startup": false,
            "wait_interval": 0
          }
        }
      },
      "cell_type": "code",
      "source": [
        "# Get the columns with > 60% missing\n",
        "missing_df = missing_values_table(data);\n",
        "missing_columns = list(missing_df[missing_df['% of Total Values'] > 60].index)\n",
        "print('We will remove %d columns.' % len(missing_columns))"
      ],
      "execution_count": 0,
      "outputs": []
    },
    {
      "metadata": {
        "id": "5ZSU0SpV_wq-",
        "colab_type": "code",
        "colab": {
          "autoexec": {
            "startup": false,
            "wait_interval": 0
          }
        }
      },
      "cell_type": "code",
      "source": [
        "# Drop the columns\n",
        "data = data.drop(labels = list(missing_columns), axis=1)"
      ],
      "execution_count": 0,
      "outputs": []
    },
    {
      "metadata": {
        "id": "cnqwtlJ-_wrB",
        "colab_type": "code",
        "colab": {
          "autoexec": {
            "startup": false,
            "wait_interval": 0
          }
        }
      },
      "cell_type": "code",
      "source": [
        "missing_data = data[data.columns[data.isnull().sum()>0]]"
      ],
      "execution_count": 0,
      "outputs": []
    },
    {
      "metadata": {
        "id": "ew2d7sow_wrD",
        "colab_type": "code",
        "colab": {
          "autoexec": {
            "startup": false,
            "wait_interval": 0
          }
        }
      },
      "cell_type": "code",
      "source": [
        "data = data.fillna(data.mean())"
      ],
      "execution_count": 0,
      "outputs": []
    },
    {
      "metadata": {
        "id": "xHKOaqOa_wrG",
        "colab_type": "code",
        "colab": {
          "autoexec": {
            "startup": false,
            "wait_interval": 0
          }
        }
      },
      "cell_type": "code",
      "source": [
        "ignore_features = ['SK_ID_CURR','is_train', 'is_test']\n",
        "relevant_features = [col for col in data.columns if col not in ignore_features]\n",
        "X_train = data[data['is_train']==1][relevant_features]\n",
        "test_tf = data[data['is_test']==1][relevant_features]"
      ],
      "execution_count": 0,
      "outputs": []
    },
    {
      "metadata": {
        "id": "cHtPXIKE_wrI",
        "colab_type": "code",
        "colab": {
          "autoexec": {
            "startup": false,
            "wait_interval": 0
          }
        }
      },
      "cell_type": "code",
      "source": [
        "X_train.shape"
      ],
      "execution_count": 0,
      "outputs": []
    },
    {
      "metadata": {
        "id": "zH_OrcrA_wrK",
        "colab_type": "code",
        "colab": {
          "autoexec": {
            "startup": false,
            "wait_interval": 0
          }
        }
      },
      "cell_type": "code",
      "source": [
        "test_tf.shape"
      ],
      "execution_count": 0,
      "outputs": []
    },
    {
      "metadata": {
        "id": "C2_kcZ8q_wrP",
        "colab_type": "code",
        "colab": {
          "autoexec": {
            "startup": false,
            "wait_interval": 0
          }
        }
      },
      "cell_type": "code",
      "source": [
        "test_tf.head()"
      ],
      "execution_count": 0,
      "outputs": []
    },
    {
      "metadata": {
        "id": "0VIBpX8t_wrS",
        "colab_type": "code",
        "colab": {
          "autoexec": {
            "startup": false,
            "wait_interval": 0
          }
        }
      },
      "cell_type": "code",
      "source": [
        "#x_train, x_test, y_train, y_test = train_test_split(X_train, y_train, test_size=.20)"
      ],
      "execution_count": 0,
      "outputs": []
    },
    {
      "metadata": {
        "id": "1vGiFQXr_wrV",
        "colab_type": "code",
        "colab": {
          "autoexec": {
            "startup": false,
            "wait_interval": 0
          }
        }
      },
      "cell_type": "code",
      "source": [
        "sc = StandardScaler()\n",
        "X_train = sc.fit_transform(X_train)\n",
        "#x_test = sc.transform(x_test)\n",
        "test_tf = sc.transform(test_tf)"
      ],
      "execution_count": 0,
      "outputs": []
    },
    {
      "metadata": {
        "id": "88TTTwVu_wrY",
        "colab_type": "code",
        "colab": {
          "autoexec": {
            "startup": false,
            "wait_interval": 0
          }
        }
      },
      "cell_type": "code",
      "source": [
        "'''\n",
        "folds = KFold(n_splits=5, shuffle=True, random_state=38)\n",
        "oof_preds = np.zeros(data.shape[0])\n",
        "sub_preds = np.zeros(test.shape[0])'''"
      ],
      "execution_count": 0,
      "outputs": []
    },
    {
      "metadata": {
        "id": "X7zJ2-wF_wrd",
        "colab_type": "code",
        "colab": {
          "autoexec": {
            "startup": false,
            "wait_interval": 0
          }
        }
      },
      "cell_type": "code",
      "source": [
        "y_train = y_train.values"
      ],
      "execution_count": 0,
      "outputs": []
    },
    {
      "metadata": {
        "id": "HzoSCoIf_wrg",
        "colab_type": "text"
      },
      "cell_type": "markdown",
      "source": [
        "## Building XGB model"
      ]
    },
    {
      "metadata": {
        "id": "HvpZ1-GR_wrg",
        "colab_type": "code",
        "colab": {
          "autoexec": {
            "startup": false,
            "wait_interval": 0
          }
        }
      },
      "cell_type": "code",
      "source": [
        "'''\n",
        "for n_folds, (trn_idx, val_idx) in enumerate(folds.split(X_train)):\n",
        "    trn_x, trn_y = X_train[trn_idx], y_train[trn_idx]\n",
        "    val_x, val_y = X_train[val_idx], y_train[val_idx]\n",
        "    \n",
        "    clf = XGBClassifier(\n",
        "        max_depth=8\n",
        "        , subsample=.8\n",
        "        , colsample_bytree=.8\n",
        "        , reg_alpha=.1\n",
        "        , reg_lambda=.1\n",
        "    )\n",
        "    \n",
        "    clf.fit(trn_x, trn_y\n",
        "           , eval_set=[(trn_x, trn_y), (val_x, val_y)]\n",
        "           , eval_metric='auc'\n",
        "           , verbose=100\n",
        "           , early_stopping_rounds=100\n",
        "           )\n",
        "    oof_preds[val_idx] = clf.predict_proba(val_x)[:,1]\n",
        "    sub_preds += clf.predict_proba(test_tf)[:,1] / folds.n_splits'''"
      ],
      "execution_count": 0,
      "outputs": []
    },
    {
      "metadata": {
        "id": "b9XoDGXH_wrv",
        "colab_type": "code",
        "colab": {
          "autoexec": {
            "startup": false,
            "wait_interval": 0
          }
        }
      },
      "cell_type": "code",
      "source": [
        "clf = XGBClassifier(\n",
        "        max_depth=8\n",
        "        , subsample=.8\n",
        "        , colsample_bytree=.8\n",
        "        , reg_alpha=.1\n",
        "        , reg_lambda=.1\n",
        ")"
      ],
      "execution_count": 0,
      "outputs": []
    },
    {
      "metadata": {
        "id": "ureRqaT9A0G-",
        "colab_type": "code",
        "colab": {
          "autoexec": {
            "startup": false,
            "wait_interval": 0
          }
        }
      },
      "cell_type": "code",
      "source": [
        "clf.fit(X_train, y_train)"
      ],
      "execution_count": 0,
      "outputs": []
    },
    {
      "metadata": {
        "id": "IcP4cR6g_wr1",
        "colab_type": "code",
        "colab": {
          "autoexec": {
            "startup": false,
            "wait_interval": 0
          }
        },
        "cellView": "code"
      },
      "cell_type": "code",
      "source": [
        "test_preds = clf.predict_proba(test_tf)[:,1]\n",
        "pred_df = pd.DataFrame()\n",
        "pred_df['SK_ID_CURR'] = test['SK_ID_CURR']\n",
        "pred_df['TARGET'] = test_preds\n",
        "pred_df.to_csv('NN_baseline.csv', index=False)\n",
        "pred_df.head(20)"
      ],
      "execution_count": 0,
      "outputs": []
    }
  ]
}