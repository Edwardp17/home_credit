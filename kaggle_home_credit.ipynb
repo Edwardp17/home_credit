{
  "cells": [
    {
      "metadata": {
        "_uuid": "8f2839f25d086af736a60e9eeb907d3b93b6e0e5",
        "_cell_guid": "b1076dfc-b9ad-4769-8c92-a6c4dae69d19",
        "trusted": true
      },
      "cell_type": "code",
      "source": "import numpy as np \nimport pandas as pd\n\nimport matplotlib.pyplot as plt\n%matplotlib inline\nimport seaborn as sns\ncolor = sns.color_palette()\nsns.set()\nfrom IPython.display import display\n\nimport os\nprint(os.listdir(\"../input\"))\nimport random",
      "execution_count": 4,
      "outputs": [
        {
          "output_type": "stream",
          "text": "['POS_CASH_balance.csv', 'bureau_balance.csv', 'application_train.csv', 'previous_application.csv', 'installments_payments.csv', 'credit_card_balance.csv', 'sample_submission.csv', 'application_test.csv', 'bureau.csv']\n",
          "name": "stdout"
        }
      ]
    },
    {
      "metadata": {
        "trusted": true,
        "collapsed": true,
        "_uuid": "254a67e187f8aecf46da7a8855fe631e837b0dc9"
      },
      "cell_type": "code",
      "source": "#Import modules specific to the machine learning aspect of this analysis#Import \nfrom sklearn.model_selection import train_test_split, GridSearchCV\nfrom sklearn.preprocessing import MinMaxScaler, StandardScaler\nfrom sklearn.preprocessing import Imputer\n\n#Import classification algorithm modules\nfrom sklearn.linear_model import LogisticRegression\nfrom sklearn.neighbors import KNeighborsClassifier\nfrom sklearn.ensemble import RandomForestClassifier, GradientBoostingClassifier, AdaBoostClassifier\nfrom sklearn.cluster import KMeans, AgglomerativeClustering, AffinityPropagation\nfrom sklearn.mixture import GaussianMixture\nfrom xgboost import plot_importance\nfrom xgboost import XGBClassifier",
      "execution_count": 5,
      "outputs": []
    },
    {
      "metadata": {
        "trusted": true,
        "collapsed": true,
        "_uuid": "2fbf15be91de8bf317d9f40def9bafc4250a1e96"
      },
      "cell_type": "code",
      "source": "#Import scoring modules\nfrom sklearn.metrics import classification_report, roc_auc_score, precision_recall_curve, average_precision_score",
      "execution_count": 6,
      "outputs": []
    },
    {
      "metadata": {
        "trusted": true,
        "_uuid": "10669d129ad493836b6840c647c10184d3823bbe",
        "collapsed": true
      },
      "cell_type": "code",
      "source": "POS_CASH_balance = ('../input/POS_CASH_balance.csv')\ntest = pd.read_csv('../input/application_test.csv')\ntrain = pd.read_csv('../input/application_train.csv')\nbureau = pd.read_csv('../input/bureau.csv')\nbureau_balance = pd.read_csv('../input/bureau_balance.csv')\ncredit_card_balance = pd.read_csv('../input/credit_card_balance.csv')\ninstallments_payments = pd.read_csv('../input/installments_payments.csv')\nprevious_application = pd.read_csv('../input/previous_application.csv')\nsample_submission = pd.read_csv('../input/sample_submission.csv')",
      "execution_count": 7,
      "outputs": []
    },
    {
      "metadata": {
        "trusted": true,
        "_uuid": "edf5f087be5f6c2abd2a22df811ef39f273656dd"
      },
      "cell_type": "code",
      "source": "train.head()",
      "execution_count": 8,
      "outputs": [
        {
          "output_type": "execute_result",
          "execution_count": 8,
          "data": {
            "text/plain": "   SK_ID_CURR  TARGET NAME_CONTRACT_TYPE CODE_GENDER FLAG_OWN_CAR  \\\n0      100002       1         Cash loans           M            N   \n1      100003       0         Cash loans           F            N   \n2      100004       0    Revolving loans           M            Y   \n3      100006       0         Cash loans           F            N   \n4      100007       0         Cash loans           M            N   \n\n  FLAG_OWN_REALTY  CNT_CHILDREN  AMT_INCOME_TOTAL  AMT_CREDIT  AMT_ANNUITY  \\\n0               Y             0          202500.0    406597.5      24700.5   \n1               N             0          270000.0   1293502.5      35698.5   \n2               Y             0           67500.0    135000.0       6750.0   \n3               Y             0          135000.0    312682.5      29686.5   \n4               Y             0          121500.0    513000.0      21865.5   \n\n              ...              FLAG_DOCUMENT_18 FLAG_DOCUMENT_19  \\\n0             ...                             0                0   \n1             ...                             0                0   \n2             ...                             0                0   \n3             ...                             0                0   \n4             ...                             0                0   \n\n  FLAG_DOCUMENT_20 FLAG_DOCUMENT_21 AMT_REQ_CREDIT_BUREAU_HOUR  \\\n0                0                0                        0.0   \n1                0                0                        0.0   \n2                0                0                        0.0   \n3                0                0                        NaN   \n4                0                0                        0.0   \n\n  AMT_REQ_CREDIT_BUREAU_DAY  AMT_REQ_CREDIT_BUREAU_WEEK  \\\n0                       0.0                         0.0   \n1                       0.0                         0.0   \n2                       0.0                         0.0   \n3                       NaN                         NaN   \n4                       0.0                         0.0   \n\n   AMT_REQ_CREDIT_BUREAU_MON  AMT_REQ_CREDIT_BUREAU_QRT  \\\n0                        0.0                        0.0   \n1                        0.0                        0.0   \n2                        0.0                        0.0   \n3                        NaN                        NaN   \n4                        0.0                        0.0   \n\n   AMT_REQ_CREDIT_BUREAU_YEAR  \n0                         1.0  \n1                         0.0  \n2                         0.0  \n3                         NaN  \n4                         0.0  \n\n[5 rows x 122 columns]",
            "text/html": "<div>\n<style scoped>\n    .dataframe tbody tr th:only-of-type {\n        vertical-align: middle;\n    }\n\n    .dataframe tbody tr th {\n        vertical-align: top;\n    }\n\n    .dataframe thead th {\n        text-align: right;\n    }\n</style>\n<table border=\"1\" class=\"dataframe\">\n  <thead>\n    <tr style=\"text-align: right;\">\n      <th></th>\n      <th>SK_ID_CURR</th>\n      <th>TARGET</th>\n      <th>NAME_CONTRACT_TYPE</th>\n      <th>CODE_GENDER</th>\n      <th>FLAG_OWN_CAR</th>\n      <th>FLAG_OWN_REALTY</th>\n      <th>CNT_CHILDREN</th>\n      <th>AMT_INCOME_TOTAL</th>\n      <th>AMT_CREDIT</th>\n      <th>AMT_ANNUITY</th>\n      <th>...</th>\n      <th>FLAG_DOCUMENT_18</th>\n      <th>FLAG_DOCUMENT_19</th>\n      <th>FLAG_DOCUMENT_20</th>\n      <th>FLAG_DOCUMENT_21</th>\n      <th>AMT_REQ_CREDIT_BUREAU_HOUR</th>\n      <th>AMT_REQ_CREDIT_BUREAU_DAY</th>\n      <th>AMT_REQ_CREDIT_BUREAU_WEEK</th>\n      <th>AMT_REQ_CREDIT_BUREAU_MON</th>\n      <th>AMT_REQ_CREDIT_BUREAU_QRT</th>\n      <th>AMT_REQ_CREDIT_BUREAU_YEAR</th>\n    </tr>\n  </thead>\n  <tbody>\n    <tr>\n      <th>0</th>\n      <td>100002</td>\n      <td>1</td>\n      <td>Cash loans</td>\n      <td>M</td>\n      <td>N</td>\n      <td>Y</td>\n      <td>0</td>\n      <td>202500.0</td>\n      <td>406597.5</td>\n      <td>24700.5</td>\n      <td>...</td>\n      <td>0</td>\n      <td>0</td>\n      <td>0</td>\n      <td>0</td>\n      <td>0.0</td>\n      <td>0.0</td>\n      <td>0.0</td>\n      <td>0.0</td>\n      <td>0.0</td>\n      <td>1.0</td>\n    </tr>\n    <tr>\n      <th>1</th>\n      <td>100003</td>\n      <td>0</td>\n      <td>Cash loans</td>\n      <td>F</td>\n      <td>N</td>\n      <td>N</td>\n      <td>0</td>\n      <td>270000.0</td>\n      <td>1293502.5</td>\n      <td>35698.5</td>\n      <td>...</td>\n      <td>0</td>\n      <td>0</td>\n      <td>0</td>\n      <td>0</td>\n      <td>0.0</td>\n      <td>0.0</td>\n      <td>0.0</td>\n      <td>0.0</td>\n      <td>0.0</td>\n      <td>0.0</td>\n    </tr>\n    <tr>\n      <th>2</th>\n      <td>100004</td>\n      <td>0</td>\n      <td>Revolving loans</td>\n      <td>M</td>\n      <td>Y</td>\n      <td>Y</td>\n      <td>0</td>\n      <td>67500.0</td>\n      <td>135000.0</td>\n      <td>6750.0</td>\n      <td>...</td>\n      <td>0</td>\n      <td>0</td>\n      <td>0</td>\n      <td>0</td>\n      <td>0.0</td>\n      <td>0.0</td>\n      <td>0.0</td>\n      <td>0.0</td>\n      <td>0.0</td>\n      <td>0.0</td>\n    </tr>\n    <tr>\n      <th>3</th>\n      <td>100006</td>\n      <td>0</td>\n      <td>Cash loans</td>\n      <td>F</td>\n      <td>N</td>\n      <td>Y</td>\n      <td>0</td>\n      <td>135000.0</td>\n      <td>312682.5</td>\n      <td>29686.5</td>\n      <td>...</td>\n      <td>0</td>\n      <td>0</td>\n      <td>0</td>\n      <td>0</td>\n      <td>NaN</td>\n      <td>NaN</td>\n      <td>NaN</td>\n      <td>NaN</td>\n      <td>NaN</td>\n      <td>NaN</td>\n    </tr>\n    <tr>\n      <th>4</th>\n      <td>100007</td>\n      <td>0</td>\n      <td>Cash loans</td>\n      <td>M</td>\n      <td>N</td>\n      <td>Y</td>\n      <td>0</td>\n      <td>121500.0</td>\n      <td>513000.0</td>\n      <td>21865.5</td>\n      <td>...</td>\n      <td>0</td>\n      <td>0</td>\n      <td>0</td>\n      <td>0</td>\n      <td>0.0</td>\n      <td>0.0</td>\n      <td>0.0</td>\n      <td>0.0</td>\n      <td>0.0</td>\n      <td>0.0</td>\n    </tr>\n  </tbody>\n</table>\n<p>5 rows × 122 columns</p>\n</div>"
          },
          "metadata": {}
        }
      ]
    },
    {
      "metadata": {
        "trusted": true,
        "_uuid": "9014e3a54a2711333ec8a74c089ca3efb6d057ce"
      },
      "cell_type": "code",
      "source": "test.head()",
      "execution_count": 9,
      "outputs": [
        {
          "output_type": "execute_result",
          "execution_count": 9,
          "data": {
            "text/plain": "   SK_ID_CURR NAME_CONTRACT_TYPE CODE_GENDER FLAG_OWN_CAR FLAG_OWN_REALTY  \\\n0      100001         Cash loans           F            N               Y   \n1      100005         Cash loans           M            N               Y   \n2      100013         Cash loans           M            Y               Y   \n3      100028         Cash loans           F            N               Y   \n4      100038         Cash loans           M            Y               N   \n\n   CNT_CHILDREN  AMT_INCOME_TOTAL  AMT_CREDIT  AMT_ANNUITY  AMT_GOODS_PRICE  \\\n0             0          135000.0    568800.0      20560.5         450000.0   \n1             0           99000.0    222768.0      17370.0         180000.0   \n2             0          202500.0    663264.0      69777.0         630000.0   \n3             2          315000.0   1575000.0      49018.5        1575000.0   \n4             1          180000.0    625500.0      32067.0         625500.0   \n\n              ...             FLAG_DOCUMENT_18 FLAG_DOCUMENT_19  \\\n0             ...                            0                0   \n1             ...                            0                0   \n2             ...                            0                0   \n3             ...                            0                0   \n4             ...                            0                0   \n\n  FLAG_DOCUMENT_20 FLAG_DOCUMENT_21 AMT_REQ_CREDIT_BUREAU_HOUR  \\\n0                0                0                        0.0   \n1                0                0                        0.0   \n2                0                0                        0.0   \n3                0                0                        0.0   \n4                0                0                        NaN   \n\n   AMT_REQ_CREDIT_BUREAU_DAY  AMT_REQ_CREDIT_BUREAU_WEEK  \\\n0                        0.0                         0.0   \n1                        0.0                         0.0   \n2                        0.0                         0.0   \n3                        0.0                         0.0   \n4                        NaN                         NaN   \n\n   AMT_REQ_CREDIT_BUREAU_MON  AMT_REQ_CREDIT_BUREAU_QRT  \\\n0                        0.0                        0.0   \n1                        0.0                        0.0   \n2                        0.0                        1.0   \n3                        0.0                        0.0   \n4                        NaN                        NaN   \n\n   AMT_REQ_CREDIT_BUREAU_YEAR  \n0                         0.0  \n1                         3.0  \n2                         4.0  \n3                         3.0  \n4                         NaN  \n\n[5 rows x 121 columns]",
            "text/html": "<div>\n<style scoped>\n    .dataframe tbody tr th:only-of-type {\n        vertical-align: middle;\n    }\n\n    .dataframe tbody tr th {\n        vertical-align: top;\n    }\n\n    .dataframe thead th {\n        text-align: right;\n    }\n</style>\n<table border=\"1\" class=\"dataframe\">\n  <thead>\n    <tr style=\"text-align: right;\">\n      <th></th>\n      <th>SK_ID_CURR</th>\n      <th>NAME_CONTRACT_TYPE</th>\n      <th>CODE_GENDER</th>\n      <th>FLAG_OWN_CAR</th>\n      <th>FLAG_OWN_REALTY</th>\n      <th>CNT_CHILDREN</th>\n      <th>AMT_INCOME_TOTAL</th>\n      <th>AMT_CREDIT</th>\n      <th>AMT_ANNUITY</th>\n      <th>AMT_GOODS_PRICE</th>\n      <th>...</th>\n      <th>FLAG_DOCUMENT_18</th>\n      <th>FLAG_DOCUMENT_19</th>\n      <th>FLAG_DOCUMENT_20</th>\n      <th>FLAG_DOCUMENT_21</th>\n      <th>AMT_REQ_CREDIT_BUREAU_HOUR</th>\n      <th>AMT_REQ_CREDIT_BUREAU_DAY</th>\n      <th>AMT_REQ_CREDIT_BUREAU_WEEK</th>\n      <th>AMT_REQ_CREDIT_BUREAU_MON</th>\n      <th>AMT_REQ_CREDIT_BUREAU_QRT</th>\n      <th>AMT_REQ_CREDIT_BUREAU_YEAR</th>\n    </tr>\n  </thead>\n  <tbody>\n    <tr>\n      <th>0</th>\n      <td>100001</td>\n      <td>Cash loans</td>\n      <td>F</td>\n      <td>N</td>\n      <td>Y</td>\n      <td>0</td>\n      <td>135000.0</td>\n      <td>568800.0</td>\n      <td>20560.5</td>\n      <td>450000.0</td>\n      <td>...</td>\n      <td>0</td>\n      <td>0</td>\n      <td>0</td>\n      <td>0</td>\n      <td>0.0</td>\n      <td>0.0</td>\n      <td>0.0</td>\n      <td>0.0</td>\n      <td>0.0</td>\n      <td>0.0</td>\n    </tr>\n    <tr>\n      <th>1</th>\n      <td>100005</td>\n      <td>Cash loans</td>\n      <td>M</td>\n      <td>N</td>\n      <td>Y</td>\n      <td>0</td>\n      <td>99000.0</td>\n      <td>222768.0</td>\n      <td>17370.0</td>\n      <td>180000.0</td>\n      <td>...</td>\n      <td>0</td>\n      <td>0</td>\n      <td>0</td>\n      <td>0</td>\n      <td>0.0</td>\n      <td>0.0</td>\n      <td>0.0</td>\n      <td>0.0</td>\n      <td>0.0</td>\n      <td>3.0</td>\n    </tr>\n    <tr>\n      <th>2</th>\n      <td>100013</td>\n      <td>Cash loans</td>\n      <td>M</td>\n      <td>Y</td>\n      <td>Y</td>\n      <td>0</td>\n      <td>202500.0</td>\n      <td>663264.0</td>\n      <td>69777.0</td>\n      <td>630000.0</td>\n      <td>...</td>\n      <td>0</td>\n      <td>0</td>\n      <td>0</td>\n      <td>0</td>\n      <td>0.0</td>\n      <td>0.0</td>\n      <td>0.0</td>\n      <td>0.0</td>\n      <td>1.0</td>\n      <td>4.0</td>\n    </tr>\n    <tr>\n      <th>3</th>\n      <td>100028</td>\n      <td>Cash loans</td>\n      <td>F</td>\n      <td>N</td>\n      <td>Y</td>\n      <td>2</td>\n      <td>315000.0</td>\n      <td>1575000.0</td>\n      <td>49018.5</td>\n      <td>1575000.0</td>\n      <td>...</td>\n      <td>0</td>\n      <td>0</td>\n      <td>0</td>\n      <td>0</td>\n      <td>0.0</td>\n      <td>0.0</td>\n      <td>0.0</td>\n      <td>0.0</td>\n      <td>0.0</td>\n      <td>3.0</td>\n    </tr>\n    <tr>\n      <th>4</th>\n      <td>100038</td>\n      <td>Cash loans</td>\n      <td>M</td>\n      <td>Y</td>\n      <td>N</td>\n      <td>1</td>\n      <td>180000.0</td>\n      <td>625500.0</td>\n      <td>32067.0</td>\n      <td>625500.0</td>\n      <td>...</td>\n      <td>0</td>\n      <td>0</td>\n      <td>0</td>\n      <td>0</td>\n      <td>NaN</td>\n      <td>NaN</td>\n      <td>NaN</td>\n      <td>NaN</td>\n      <td>NaN</td>\n      <td>NaN</td>\n    </tr>\n  </tbody>\n</table>\n<p>5 rows × 121 columns</p>\n</div>"
          },
          "metadata": {}
        }
      ]
    },
    {
      "metadata": {
        "trusted": true,
        "collapsed": true,
        "_uuid": "3e63060ce3f5a4683d88f3326389403c766f90b7"
      },
      "cell_type": "code",
      "source": "",
      "execution_count": null,
      "outputs": []
    },
    {
      "metadata": {
        "trusted": true,
        "collapsed": true,
        "_uuid": "8e5822a259f22cd419a88ef5dedf8401e015625e"
      },
      "cell_type": "code",
      "source": "",
      "execution_count": null,
      "outputs": []
    },
    {
      "metadata": {
        "trusted": true,
        "collapsed": true,
        "_uuid": "29c8e19355e9debf52bb18dfceba5debf9e61f9a"
      },
      "cell_type": "code",
      "source": "",
      "execution_count": null,
      "outputs": []
    },
    {
      "metadata": {
        "trusted": true,
        "collapsed": true,
        "_uuid": "51484d745526f507e734390f2b361abb5d699c9e"
      },
      "cell_type": "code",
      "source": "",
      "execution_count": null,
      "outputs": []
    },
    {
      "metadata": {
        "trusted": true,
        "_uuid": "653f4c323244b29acc1ba989884091ae36f5615b",
        "collapsed": true
      },
      "cell_type": "code",
      "source": "#train = train.head(150000)",
      "execution_count": null,
      "outputs": []
    },
    {
      "metadata": {
        "trusted": true,
        "_uuid": "bfd78d42ffa2ff84b34bd5ea8a4ae78c789be812",
        "collapsed": true
      },
      "cell_type": "code",
      "source": "train.isnull().sum()",
      "execution_count": 7,
      "outputs": []
    },
    {
      "metadata": {
        "trusted": true,
        "_uuid": "3db56ae445f39f88a6101627a1de422120eae439",
        "collapsed": true
      },
      "cell_type": "code",
      "source": "test.isnull().sum()",
      "execution_count": 8,
      "outputs": []
    },
    {
      "metadata": {
        "trusted": true,
        "collapsed": true,
        "_uuid": "23ea3c8a297357d449e06eeb83d3ee2fbcb054a9"
      },
      "cell_type": "code",
      "source": "# Function to calculate missing values by column\ndef missing_values_table(df):\n        # Total missing values\n        mis_val = df.isnull().sum()\n        \n        # Percentage of missing values\n        mis_val_percent = 100 * df.isnull().sum() / len(df)\n        \n        # Make a table with the results\n        mis_val_table = pd.concat([mis_val, mis_val_percent], axis=1)\n        \n        # Rename the columns\n        mis_val_table_ren_columns = mis_val_table.rename(\n        columns = {0 : 'Missing Values', 1 : '% of Total Values'})\n        \n        # Sort the table by percentage of missing descending\n        mis_val_table_ren_columns = mis_val_table_ren_columns[\n            mis_val_table_ren_columns.iloc[:,1] != 0].sort_values(\n        '% of Total Values', ascending=False).round(1)\n        \n        # Print some summary information\n        print (\"Your selected dataframe has \" + str(df.shape[1]) + \" columns.\\n\"      \n            \"There are \" + str(mis_val_table_ren_columns.shape[0]) +\n              \" columns that have missing values.\")\n        \n        # Return the dataframe with missing information\n        return mis_val_table_ren_columns",
      "execution_count": 9,
      "outputs": []
    },
    {
      "metadata": {
        "trusted": true,
        "_uuid": "c7b98a6e7191c4b1fd1569a53de90e51299b2cf7",
        "collapsed": true
      },
      "cell_type": "code",
      "source": "missing_values_table(train)",
      "execution_count": 10,
      "outputs": []
    },
    {
      "metadata": {
        "trusted": true,
        "_uuid": "aba6e3043111875c3b0df554be1a5606a2434469",
        "collapsed": true
      },
      "cell_type": "code",
      "source": "# Get the columns with > 60% missing\nmissing_df = missing_values_table(train);\nmissing_columns = list(missing_df[missing_df['% of Total Values'] > 60].index)\nprint('We will remove %d columns.' % len(missing_columns))",
      "execution_count": 11,
      "outputs": []
    },
    {
      "metadata": {
        "trusted": true,
        "collapsed": true,
        "_uuid": "bfb1e4b19beec7e82ceda7aa3ae747cd3679dc20"
      },
      "cell_type": "code",
      "source": "# Drop the columns# Drop  \ntrain = train.drop(labels = list(missing_columns), axis=1)",
      "execution_count": 12,
      "outputs": []
    },
    {
      "metadata": {
        "trusted": true,
        "_uuid": "9f9b89937fcff7bef5fe1a260865640960338474",
        "collapsed": true
      },
      "cell_type": "code",
      "source": "train.info()",
      "execution_count": 13,
      "outputs": []
    },
    {
      "metadata": {
        "trusted": true,
        "_uuid": "7978ebeb7eca93632d15f443369fa9cdd052c8ec",
        "collapsed": true
      },
      "cell_type": "code",
      "source": "missing_train = train[train.columns[train.isnull().sum()>1]]\nmissing_train.dtypes",
      "execution_count": 14,
      "outputs": []
    },
    {
      "metadata": {
        "trusted": true,
        "collapsed": true,
        "_uuid": "d632d51dd72b1061ceb4cc46357fe177222e73cf"
      },
      "cell_type": "code",
      "source": "for col in train.columns:\n    if col in missing_train.columns and train[col].dtype == object:\n        train[col].fillna('None', inplace=True)",
      "execution_count": 15,
      "outputs": []
    },
    {
      "metadata": {
        "trusted": true,
        "_uuid": "dcf49c1574c2e9b735e1e5de5d6c77f045ba52f2",
        "collapsed": true
      },
      "cell_type": "code",
      "source": "missing_train = train[train.columns[train.isnull().sum()>0]]\nmissing_train.dtypes",
      "execution_count": 16,
      "outputs": []
    },
    {
      "metadata": {
        "trusted": true,
        "_uuid": "df68f73301d9c709c0983a35ba7bdc392ec3d41e",
        "scrolled": true,
        "collapsed": true
      },
      "cell_type": "code",
      "source": "train_tf = train.copy()\ntrain_tf = pd.get_dummies(train_tf)\ntrain_tf.head()",
      "execution_count": 17,
      "outputs": []
    },
    {
      "metadata": {
        "trusted": true,
        "_uuid": "f2218a6cf2b3109332a94c30f784a69db3a70614",
        "collapsed": true
      },
      "cell_type": "code",
      "source": "test_tf = test.copy()\ntest_tf = pd.get_dummies(train_tf)\ntrain_tf.head()",
      "execution_count": 18,
      "outputs": []
    },
    {
      "metadata": {
        "trusted": true,
        "_uuid": "3b52d1c79e51bdb022838404f90305e4332e001c",
        "collapsed": true
      },
      "cell_type": "code",
      "source": "X = train_tf.drop('TARGET',axis=1)\ny = train_tf['TARGET']\ndisplay(X.head())\ndisplay(y.head(n=10))",
      "execution_count": 19,
      "outputs": []
    },
    {
      "metadata": {
        "trusted": true,
        "collapsed": true,
        "_uuid": "12d411f1239629adf0cb184bb76efd4e8878e820"
      },
      "cell_type": "code",
      "source": "X_train, X_test, y_train, y_test = train_test_split(X,y,test_size = 0.25, random_state = 1)",
      "execution_count": null,
      "outputs": []
    },
    {
      "metadata": {
        "trusted": true,
        "_uuid": "ad862400d47d7c8d1e998b4855216c61be66aff7",
        "collapsed": true
      },
      "cell_type": "code",
      "source": "imputer = Imputer(strategy='median')\nimputer.fit(X_train)\nX_train = imputer.transform(X_train)\nX_test = imputer.transform(X_test)",
      "execution_count": null,
      "outputs": []
    },
    {
      "metadata": {
        "trusted": true,
        "collapsed": true,
        "_uuid": "98874040c970d8b8e06c0f6ca9263adf3c7769db"
      },
      "cell_type": "code",
      "source": "scaler = MinMaxScaler()\nscaler.fit(X_train)\nX_train = scaler.transform(X_train)\nX_test = scaler.transform(X_test)",
      "execution_count": null,
      "outputs": []
    },
    {
      "metadata": {
        "trusted": true,
        "collapsed": true,
        "_uuid": "29d7b8628c338d68835ff06f155cefb003597af9"
      },
      "cell_type": "code",
      "source": "y_train = np.array(y_train).reshape((-1, ))",
      "execution_count": null,
      "outputs": []
    },
    {
      "metadata": {
        "trusted": true,
        "collapsed": true,
        "_uuid": "1c05c02d1a438b46ca1ecfc6b0805baf39e3849c"
      },
      "cell_type": "code",
      "source": "y_test = np.array(y_test).reshape((-1, ))",
      "execution_count": null,
      "outputs": []
    },
    {
      "metadata": {
        "trusted": true,
        "collapsed": true,
        "_uuid": "e58fb7491dcf1ffca3ddbed808e186c02e4884ae"
      },
      "cell_type": "code",
      "source": "model = XGBClassifier(max_depth=7, subsample=.9, colsample_bytree=.8, reg_alpha=.1, reg_lambda=.1)",
      "execution_count": null,
      "outputs": []
    },
    {
      "metadata": {
        "trusted": true,
        "_uuid": "a4de988e4f557958350c9e15ccc8faa051af70e5",
        "collapsed": true
      },
      "cell_type": "code",
      "source": "model.fit(X_train, y_train, eval_metric='auc')",
      "execution_count": null,
      "outputs": []
    },
    {
      "metadata": {
        "trusted": true,
        "_uuid": "a11661e2d24e92eaad80c3be86d407cf994f11a1",
        "collapsed": true
      },
      "cell_type": "code",
      "source": "y_pred_proba = model.predict_proba(X_test)\nau_roc = roc_auc_score(y_test,y_pred_proba[:,1])\nau_roc",
      "execution_count": null,
      "outputs": []
    },
    {
      "metadata": {
        "trusted": true,
        "_uuid": "e87bc9792f3e70147d62e2a2c304c92e23153328",
        "collapsed": true
      },
      "cell_type": "code",
      "source": "# lets find out how to do this better\nplot_importance(model)\nplt.show()",
      "execution_count": 40,
      "outputs": []
    },
    {
      "metadata": {
        "trusted": true,
        "_uuid": "dda8411cd00c54de6d6258b56be913d890aa406f",
        "collapsed": true
      },
      "cell_type": "code",
      "source": "#need to add the test data to the train data prior to this, then preprocess, then separate\ntest_preds = model.predict_proba(test)\npred_df = pd.DataFrame()\npred_df['SK_ID_CURR'] = test['SK_ID_CURR']\npred_df['TARGET'] = test_preds\npred_df.to_csv('xgb_basline.csv', index=False)\npred_df.head()",
      "execution_count": null,
      "outputs": []
    },
    {
      "metadata": {
        "trusted": true,
        "_uuid": "3c3962510882549cceb75b377197821416319ac7",
        "collapsed": true
      },
      "cell_type": "code",
      "source": "'''next step considerations:\n- feature selection (keep 95% variance) or maybe PCA???\n- lightgbm\n- k fold cross validation?\n- merging tables\n\nI also dont think that I have to normalize (minmaxscale) considering were using a tree method\n\nsome ideas:\nits not quite clear what these two people are doing for null values in their code, other than that it has some ideas\nhttps://www.kaggle.com/ogrellier/good-fun-with-ligthgbm/code\nhttps://www.kaggle.com/shivamb/homecreditrisk-extensive-eda-baseline-model/notebook'''",
      "execution_count": 38,
      "outputs": []
    },
    {
      "metadata": {
        "trusted": true,
        "collapsed": true,
        "_uuid": "9db225258850fb6e6bddcd7b42cc896f8722300d"
      },
      "cell_type": "code",
      "source": "",
      "execution_count": null,
      "outputs": []
    }
  ],
  "metadata": {
    "kernelspec": {
      "display_name": "Python 3",
      "language": "python",
      "name": "python3"
    },
    "language_info": {
      "name": "python",
      "version": "3.6.4",
      "mimetype": "text/x-python",
      "codemirror_mode": {
        "name": "ipython",
        "version": 3
      },
      "pygments_lexer": "ipython3",
      "nbconvert_exporter": "python",
      "file_extension": ".py"
    }
  },
  "nbformat": 4,
  "nbformat_minor": 1
}