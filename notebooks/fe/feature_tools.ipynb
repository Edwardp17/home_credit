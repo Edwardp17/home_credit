{
 "cells": [
  {
   "cell_type": "code",
   "execution_count": 2,
   "metadata": {
    "collapsed": true
   },
   "outputs": [],
   "source": [
    "import numpy as np\n",
    "import pandas as pd\n",
    "import featuretools as ft"
   ]
  },
  {
   "cell_type": "code",
   "execution_count": 58,
   "metadata": {
    "collapsed": true
   },
   "outputs": [],
   "source": [
    "# Uncomment this for local\n",
    "pos = pd.read_csv('../data/POS_CASH_balance.csv')\n",
    "test = pd.read_csv('../data/application_test.csv')\n",
    "train_full = pd.read_csv('../data/application_train.csv')\n",
    "bureau = pd.read_csv('../data/bureau.csv')\n",
    "bureau_balance = pd.read_csv('../data/bureau_balance.csv')\n",
    "cc_bal = pd.read_csv('../data/credit_card_balance.csv')\n",
    "inst = pd.read_csv('../data/installments_payments.csv')\n",
    "prev_app = pd.read_csv('../data/previous_application.csv')\n",
    "sample_submission = pd.read_csv('../data/sample_submission.csv')\n",
    "col_descr = pd.read_csv('../data/HomeCredit_columns_description.csv', encoding=\"ISO-8859-1\")"
   ]
  },
  {
   "cell_type": "code",
   "execution_count": 59,
   "metadata": {},
   "outputs": [],
   "source": [
    "train = train_full.drop('TARGET',axis = 1)\n",
    "train_y = train_full['TARGET']"
   ]
  },
  {
   "cell_type": "code",
   "execution_count": 66,
   "metadata": {},
   "outputs": [
    {
     "name": "stdout",
     "output_type": "stream",
     "text": [
      "2018-06-08 18:28:31,693 featuretools.entityset - WARNING    Not adding duplicate relationship: <Relationship: pos.SK_ID_CURR -> train.SK_ID_CURR>\n"
     ]
    },
    {
     "data": {
      "text/plain": [
       "Entityset: train\n",
       "  Entities:\n",
       "    train [Rows: 307511, Columns: 121]\n",
       "    bureau [Rows: 1716428, Columns: 17]\n",
       "    bureau_bal [Rows: 27299925, Columns: 4]\n",
       "    pos [Rows: 10001358, Columns: 9]\n",
       "    cc_bal [Rows: 3840312, Columns: 24]\n",
       "    inst [Rows: 13605401, Columns: 9]\n",
       "    prev_app [Rows: 1670214, Columns: 37]\n",
       "  Relationships:\n",
       "    bureau.SK_ID_CURR -> train.SK_ID_CURR\n",
       "    bureau_bal.SK_ID_BUREAU -> bureau.SK_ID_BUREAU\n",
       "    pos.SK_ID_CURR -> train.SK_ID_CURR\n",
       "    cc_bal.SK_ID_CURR -> train.SK_ID_CURR\n",
       "    inst.SK_ID_CURR -> train.SK_ID_CURR\n",
       "    prev_app.SK_ID_CURR -> train.SK_ID_CURR"
      ]
     },
     "execution_count": 66,
     "metadata": {},
     "output_type": "execute_result"
    }
   ],
   "source": [
    "# Create new entityset\n",
    "es = ft.EntitySet(id = 'train')\n",
    "es = es.entity_from_dataframe(entity_id = 'train'\n",
    "                              , dataframe = train\n",
    "                              , index = 'SK_ID_CURR')\n",
    "es = es.entity_from_dataframe(entity_id = 'bureau'\n",
    "                             , dataframe = bureau\n",
    "                             , index = 'SK_ID_BUREAU')\n",
    "es = es.entity_from_dataframe(entity_id = 'bureau_bal'\n",
    "                            , dataframe = bureau_balance\n",
    "                              , make_index = True\n",
    "                              , index = 'bureau_bal_id')\n",
    "es = es.entity_from_dataframe(entity_id = 'pos'\n",
    "                             , dataframe = pos\n",
    "                             , make_index = True\n",
    "                             , index = 'pos_id')\n",
    "es = es.entity_from_dataframe(entity_id = 'cc_bal'\n",
    "                             , dataframe = cc_bal\n",
    "                             , make_index = True\n",
    "                             , index = 'cc_bal_id')\n",
    "es = es.entity_from_dataframe(entity_id = 'inst'\n",
    "                             , dataframe = inst\n",
    "                             , make_index = True\n",
    "                             , index = 'inst_id')\n",
    "es = es.entity_from_dataframe(entity_id = 'prev_app'\n",
    "                             , dataframe = prev_app\n",
    "                             , index = 'SK_ID_PREV')\n",
    "\n",
    "# Create relationships\n",
    "r_train_bureau = ft.Relationship(es['train']['SK_ID_CURR']\n",
    "                                , es['bureau']['SK_ID_CURR'])\n",
    "es = es.add_relationship(r_train_bureau)\n",
    "\n",
    "r_bureau_bureau_bal = ft.Relationship(es['bureau']['SK_ID_BUREAU']\n",
    "                                      , es['bureau_bal']['SK_ID_BUREAU'])\n",
    "es = es.add_relationship(r_bureau_bureau_bal)\n",
    "\n",
    "r_train_pos = ft.Relationship(es['train']['SK_ID_CURR']\n",
    "                             , es['pos']['SK_ID_CURR'])\n",
    "es = es.add_relationship(r_train_pos)\n",
    "\n",
    "r_train_cc_bal = ft.Relationship(es['train']['SK_ID_CURR'],\n",
    "                                es['cc_bal']['SK_ID_CURR'])\n",
    "es = es.add_relationship(r_train_cc_bal)\n",
    "\n",
    "r_train_pos = ft.Relationship(es['train']['SK_ID_CURR']\n",
    "                             , es['pos']['SK_ID_CURR'])\n",
    "es = es.add_relationship(r_train_pos)\n",
    "\n",
    "r_train_inst = ft.Relationship(es['train']['SK_ID_CURR']\n",
    "                             , es['inst']['SK_ID_CURR'])\n",
    "es = es.add_relationship(r_train_inst)\n",
    "\n",
    "r_train_prev_app = ft.Relationship(es['train']['SK_ID_CURR']\n",
    "                             , es['prev_app']['SK_ID_CURR'])\n",
    "es = es.add_relationship(r_train_prev_app)\n",
    "\n",
    "es"
   ]
  },
  {
   "cell_type": "code",
   "execution_count": null,
   "metadata": {},
   "outputs": [],
   "source": [
    "# Create new features using specified primitives\n",
    "features, feature_names = ft.dfs(entityset = es\n",
    "                                , target_entity = 'train'\n",
    "                                , agg_primitives = ['mean', 'max', 'last']\n",
    "                                , trans_primitives = ['years', 'month', 'subtract', 'divide'])"
   ]
  },
  {
   "cell_type": "code",
   "execution_count": null,
   "metadata": {
    "collapsed": true
   },
   "outputs": [],
   "source": [
    "#feature tools taking about an hour so far"
   ]
  },
  {
   "cell_type": "code",
   "execution_count": null,
   "metadata": {
    "collapsed": true
   },
   "outputs": [],
   "source": []
  }
 ],
 "metadata": {
  "kernelspec": {
   "display_name": "Python 3",
   "language": "python",
   "name": "python3"
  },
  "language_info": {
   "codemirror_mode": {
    "name": "ipython",
    "version": 3
   },
   "file_extension": ".py",
   "mimetype": "text/x-python",
   "name": "python",
   "nbconvert_exporter": "python",
   "pygments_lexer": "ipython3",
   "version": "3.6.3"
  }
 },
 "nbformat": 4,
 "nbformat_minor": 2
}
