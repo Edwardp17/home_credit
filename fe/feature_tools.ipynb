{
 "cells": [
  {
   "cell_type": "code",
   "execution_count": 2,
   "metadata": {},
   "outputs": [],
   "source": [
    "import numpy as np\n",
    "import pandas as pd\n",
    "import featuretools as ft"
   ]
  },
  {
   "cell_type": "code",
   "execution_count": 4,
   "metadata": {},
   "outputs": [],
   "source": [
    "# Uncomment this for local\n",
    "pos = pd.read_csv('../data/POS_CASH_balance.csv')\n",
    "test = pd.read_csv('../data/application_test.csv')\n",
    "train = pd.read_csv('../data/application_train.csv')\n",
    "bureau = pd.read_csv('../data/bureau.csv')\n",
    "bureau_balance = pd.read_csv('../data/bureau_balance.csv')\n",
    "cc_bal = pd.read_csv('../data/credit_card_balance.csv')\n",
    "inst = pd.read_csv('../data/installments_payments.csv')\n",
    "prev_app = pd.read_csv('../data/previous_application.csv')\n",
    "sample_submission = pd.read_csv('../data/sample_submission.csv')\n",
    "col_descr = pd.read_csv('../data/HomeCredit_columns_description.csv', encoding=\"ISO-8859-1\")"
   ]
  },
  {
   "cell_type": "code",
   "execution_count": null,
   "metadata": {
    "collapsed": true
   },
   "outputs": [],
   "source": []
  }
 ],
 "metadata": {
  "kernelspec": {
   "display_name": "Python 3",
   "language": "python",
   "name": "python3"
  },
  "language_info": {
   "codemirror_mode": {
    "name": "ipython",
    "version": 3
   },
   "file_extension": ".py",
   "mimetype": "text/x-python",
   "name": "python",
   "nbconvert_exporter": "python",
   "pygments_lexer": "ipython3",
   "version": "3.6.3"
  }
 },
 "nbformat": 4,
 "nbformat_minor": 2
}
