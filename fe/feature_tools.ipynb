{
 "cells": [
  {
   "cell_type": "code",
   "execution_count": 2,
   "metadata": {
    "collapsed": true
   },
   "outputs": [],
   "source": [
    "import numpy as np\n",
    "import pandas as pd\n",
    "import featuretools as ft"
   ]
  },
  {
   "cell_type": "code",
   "execution_count": 58,
   "metadata": {
    "collapsed": true
   },
   "outputs": [],
   "source": [
    "# Uncomment this for local\n",
    "pos = pd.read_csv('../data/POS_CASH_balance.csv')\n",
    "test = pd.read_csv('../data/application_test.csv')\n",
    "train_full = pd.read_csv('../data/application_train.csv')\n",
    "bureau = pd.read_csv('../data/bureau.csv')\n",
    "bureau_balance = pd.read_csv('../data/bureau_balance.csv')\n",
    "cc_bal = pd.read_csv('../data/credit_card_balance.csv')\n",
    "inst = pd.read_csv('../data/installments_payments.csv')\n",
    "prev_app = pd.read_csv('../data/previous_application.csv')\n",
    "sample_submission = pd.read_csv('../data/sample_submission.csv')\n",
    "col_descr = pd.read_csv('../data/HomeCredit_columns_description.csv', encoding=\"ISO-8859-1\")"
   ]
  },
  {
   "cell_type": "code",
   "execution_count": 59,
   "metadata": {},
   "outputs": [],
   "source": [
    "train = train_full.drop('TARGET',axis = 1)\n",
    "train_y = train_full['TARGET']"
   ]
  },
  {
   "cell_type": "code",
   "execution_count": null,
   "metadata": {},
   "outputs": [],
   "source": [
    "# Create new entityset\n",
    "es = ft.EntitySet(id = 'train')\n",
    "es = es.entity_from_dataframe(entity_id = 'train'\n",
    "                              , dataframe = train\n",
    "                              , index = 'SK_ID_CURR')\n",
    "es = es.entity_from_dataframe(entity_id = 'bureau'\n",
    "                             , dataframe = bureau\n",
    "                             , index = 'SK_ID_BUREAU')\n",
    "es = es.entity_from_dataframe(entity_id = 'bureau_balance'\n",
    "                            , dataframe = bureau_balance\n",
    "                              , make_index = True\n",
    "                              , index = 'bureau_bal_id')\n",
    "es = es.entity_from_dataframe(entity_id = 'pos'\n",
    "                             , dataframe = pos\n",
    "                             , make_index = True\n",
    "                             , index = 'pos_id')\n",
    "es = es.entity_from_dataframe(entity_id = 'cc_bal'\n",
    "                             , dataframe = cc_bal\n",
    "                             , make_index = True\n",
    "                             , index = 'cc_bal_id')\n",
    "es = es.entity_from_dataframe(entity_id = 'inst'\n",
    "                             , dataframe = inst\n",
    "                             , make_index = True\n",
    "                             , index = 'inst_id')\n",
    "es = es.entity_from_dataframe(entity_id = 'prev_app'\n",
    "                             , dataframe = prev_app\n",
    "                             , index = 'SK_ID_PREV')\n",
    "\n",
    "# Create relationships\n",
    "r_train_bureau = ft.Relationship(es['train']['SK_ID_CURR']\n",
    "                                , es['bureau']['SK_ID_CURR'])\n",
    "es = es.add_relationship(r_train_bureau)\n",
    "\n",
    "r_bureau_bureau_bal = ft.Relationship(es['bureau']['SK_ID_BUREAU']\n",
    "                                      , es['burea_bal']['SK_ID_BUREAU'])\n",
    "es = es.add_relationship(r_bureau_bureau_bal)\n",
    "\n",
    "r_train_pos = ft.Relationship(es['train']['SK_ID_CURR']\n",
    "                             , es['pos']['SK_ID_CURR'])\n",
    "es = es.add_relationship(r_train_pos)\n",
    "\n",
    "r_train_cc_bal = ft.Relationship(es['train']['SK_ID_CURR'],\n",
    "                                es['cc_bal']['SK_ID_CURR'])\n",
    "es = es.add_relationship(r_train_cc_bal)\n",
    "\n",
    "r_train_pos = ft.Relationship(es['train']['SK_ID_CURR']\n",
    "                             , es['pos']['SK_ID_CURR'])\n",
    "es = es.add_relationship(r_train_pos)\n",
    "\n",
    "r_train_inst = ft.Relationship(es['train']['SK_ID_CURR']\n",
    "                             , es['inst']['SK_ID_CURR'])\n",
    "es = es.add_relationship(r_train_inst)\n",
    "\n",
    "r_train_prev_app = ft.Relationship(es['train']['SK_ID_CURR']\n",
    "                             , es['prev_app']['SK_ID_CURR'])\n",
    "es = es.add_relationship(r_train_prev_app)\n",
    "\n",
    "es"
   ]
  },
  {
   "cell_type": "code",
   "execution_count": null,
   "metadata": {
    "collapsed": true
   },
   "outputs": [],
   "source": []
  }
 ],
 "metadata": {
  "kernelspec": {
   "display_name": "Python 3",
   "language": "python",
   "name": "python3"
  },
  "language_info": {
   "codemirror_mode": {
    "name": "ipython",
    "version": 3
   },
   "file_extension": ".py",
   "mimetype": "text/x-python",
   "name": "python",
   "nbconvert_exporter": "python",
   "pygments_lexer": "ipython3",
   "version": "3.6.3"
  }
 },
 "nbformat": 4,
 "nbformat_minor": 2
}
